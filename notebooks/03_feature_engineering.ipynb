{
 "cells": [
  {
   "cell_type": "code",
   "execution_count": 1,
   "metadata": {},
   "outputs": [],
   "source": [
    "DF_PATH = '../data/processed/2_descanalystics_df.pkl'\n",
    "ROLE_COL = ['DevType']\n",
    "TECH_COL = ['LanguageHaveWorkedWith', \n",
    "            'DatabaseHaveWorkedWith', \n",
    "            'MiscTechHaveWorkedWith', \n",
    "            'ToolsTechHaveWorkedWith']\n",
    "OTHER_COL = ['PlatformHaveWorkedWith',\n",
    "             'WebframeHaveWorkedWith', \n",
    "             'EmbeddedHaveWorkedWith',\n",
    "             'NEWCollabToolsHaveWorkedWith']\n",
    "\n",
    "EXPORT_FEATURES_DIR = \"../data/processed/\""
   ]
  },
  {
   "cell_type": "code",
   "execution_count": 2,
   "metadata": {},
   "outputs": [],
   "source": [
    "# Load packages\n",
    "import pandas as pd \n",
    "import numpy as np\n",
    "import logging\n",
    "import pickle\n",
    "import os\n",
    "import yaml\n",
    "\n",
    "import plotly \n",
    "import plotly.graph_objects as go\n",
    "import plotly.express as px\n",
    "\n",
    "import matplotlib.cm as cm\n",
    "import matplotlib.pyplot as plt\n",
    "\n",
    "from sklearn.preprocessing import StandardScaler\n",
    "from sklearn.preprocessing import MultiLabelBinarizer\n",
    "from sklearn.manifold import TSNE\n",
    "\n",
    "from sklearn.pipeline import make_pipeline\n",
    "from sklearn.cluster import AgglomerativeClustering\n",
    "from sklearn.model_selection import train_test_split\n",
    "\n",
    "from sklearn.multioutput import MultiOutputClassifier\n",
    "from sklearn.linear_model import LogisticRegression\n",
    "\n",
    "from sklearn.metrics import f1_score\n",
    "from sklearn.metrics import classification_report\n",
    "from sklearn.metrics import multilabel_confusion_matrix\n",
    "from sklearn.metrics import silhouette_score"
   ]
  },
  {
   "cell_type": "code",
   "execution_count": 3,
   "metadata": {},
   "outputs": [],
   "source": [
    "pd.set_option('display.max_columns', 500)\n",
    "pd.set_option('display.max_rows', 500)"
   ]
  },
  {
   "cell_type": "code",
   "execution_count": 4,
   "metadata": {},
   "outputs": [],
   "source": [
    "df = pd.read_pickle(DF_PATH)"
   ]
  },
  {
   "cell_type": "code",
   "execution_count": 5,
   "metadata": {},
   "outputs": [
    {
     "data": {
      "text/html": [
       "<div>\n",
       "<style scoped>\n",
       "    .dataframe tbody tr th:only-of-type {\n",
       "        vertical-align: middle;\n",
       "    }\n",
       "\n",
       "    .dataframe tbody tr th {\n",
       "        vertical-align: top;\n",
       "    }\n",
       "\n",
       "    .dataframe thead th {\n",
       "        text-align: right;\n",
       "    }\n",
       "</style>\n",
       "<table border=\"1\" class=\"dataframe\">\n",
       "  <thead>\n",
       "    <tr style=\"text-align: right;\">\n",
       "      <th></th>\n",
       "      <th>ResponseId</th>\n",
       "      <th>MainBranch</th>\n",
       "      <th>Age</th>\n",
       "      <th>Employment</th>\n",
       "      <th>RemoteWork</th>\n",
       "      <th>Check</th>\n",
       "      <th>CodingActivities</th>\n",
       "      <th>EdLevel</th>\n",
       "      <th>LearnCode</th>\n",
       "      <th>LearnCodeOnline</th>\n",
       "      <th>TechDoc</th>\n",
       "      <th>YearsCode</th>\n",
       "      <th>YearsCodePro</th>\n",
       "      <th>DevType</th>\n",
       "      <th>OrgSize</th>\n",
       "      <th>PurchaseInfluence</th>\n",
       "      <th>BuyNewTool</th>\n",
       "      <th>BuildvsBuy</th>\n",
       "      <th>TechEndorse</th>\n",
       "      <th>Country</th>\n",
       "      <th>Currency</th>\n",
       "      <th>CompTotal</th>\n",
       "      <th>LanguageHaveWorkedWith</th>\n",
       "      <th>LanguageWantToWorkWith</th>\n",
       "      <th>LanguageAdmired</th>\n",
       "      <th>DatabaseHaveWorkedWith</th>\n",
       "      <th>DatabaseWantToWorkWith</th>\n",
       "      <th>DatabaseAdmired</th>\n",
       "      <th>PlatformHaveWorkedWith</th>\n",
       "      <th>PlatformWantToWorkWith</th>\n",
       "      <th>PlatformAdmired</th>\n",
       "      <th>WebframeHaveWorkedWith</th>\n",
       "      <th>WebframeWantToWorkWith</th>\n",
       "      <th>WebframeAdmired</th>\n",
       "      <th>EmbeddedHaveWorkedWith</th>\n",
       "      <th>EmbeddedWantToWorkWith</th>\n",
       "      <th>EmbeddedAdmired</th>\n",
       "      <th>MiscTechHaveWorkedWith</th>\n",
       "      <th>MiscTechWantToWorkWith</th>\n",
       "      <th>MiscTechAdmired</th>\n",
       "      <th>ToolsTechHaveWorkedWith</th>\n",
       "      <th>ToolsTechWantToWorkWith</th>\n",
       "      <th>ToolsTechAdmired</th>\n",
       "      <th>NEWCollabToolsHaveWorkedWith</th>\n",
       "      <th>NEWCollabToolsWantToWorkWith</th>\n",
       "      <th>NEWCollabToolsAdmired</th>\n",
       "      <th>OpSysPersonal use</th>\n",
       "      <th>OpSysProfessional use</th>\n",
       "      <th>OfficeStackAsyncHaveWorkedWith</th>\n",
       "      <th>OfficeStackAsyncWantToWorkWith</th>\n",
       "      <th>OfficeStackAsyncAdmired</th>\n",
       "      <th>OfficeStackSyncHaveWorkedWith</th>\n",
       "      <th>OfficeStackSyncWantToWorkWith</th>\n",
       "      <th>OfficeStackSyncAdmired</th>\n",
       "      <th>AISearchDevHaveWorkedWith</th>\n",
       "      <th>AISearchDevWantToWorkWith</th>\n",
       "      <th>AISearchDevAdmired</th>\n",
       "      <th>NEWSOSites</th>\n",
       "      <th>SOVisitFreq</th>\n",
       "      <th>SOAccount</th>\n",
       "      <th>SOPartFreq</th>\n",
       "      <th>SOHow</th>\n",
       "      <th>SOComm</th>\n",
       "      <th>AISelect</th>\n",
       "      <th>AISent</th>\n",
       "      <th>AIBen</th>\n",
       "      <th>AIAcc</th>\n",
       "      <th>AIComplex</th>\n",
       "      <th>AIToolCurrently Using</th>\n",
       "      <th>AIToolInterested in Using</th>\n",
       "      <th>AIToolNot interested in Using</th>\n",
       "      <th>AINextMuch more integrated</th>\n",
       "      <th>AINextNo change</th>\n",
       "      <th>AINextMore integrated</th>\n",
       "      <th>AINextLess integrated</th>\n",
       "      <th>AINextMuch less integrated</th>\n",
       "      <th>AIThreat</th>\n",
       "      <th>AIEthics</th>\n",
       "      <th>AIChallenges</th>\n",
       "      <th>TBranch</th>\n",
       "      <th>ICorPM</th>\n",
       "      <th>WorkExp</th>\n",
       "      <th>Knowledge_1</th>\n",
       "      <th>Knowledge_2</th>\n",
       "      <th>Knowledge_3</th>\n",
       "      <th>Knowledge_4</th>\n",
       "      <th>Knowledge_5</th>\n",
       "      <th>Knowledge_6</th>\n",
       "      <th>Knowledge_7</th>\n",
       "      <th>Knowledge_8</th>\n",
       "      <th>Knowledge_9</th>\n",
       "      <th>Frequency_1</th>\n",
       "      <th>Frequency_2</th>\n",
       "      <th>Frequency_3</th>\n",
       "      <th>TimeSearching</th>\n",
       "      <th>TimeAnswering</th>\n",
       "      <th>Frustration</th>\n",
       "      <th>ProfessionalTech</th>\n",
       "      <th>ProfessionalCloud</th>\n",
       "      <th>ProfessionalQuestion</th>\n",
       "      <th>Industry</th>\n",
       "      <th>JobSatPoints_1</th>\n",
       "      <th>JobSatPoints_4</th>\n",
       "      <th>JobSatPoints_5</th>\n",
       "      <th>JobSatPoints_6</th>\n",
       "      <th>JobSatPoints_7</th>\n",
       "      <th>JobSatPoints_8</th>\n",
       "      <th>JobSatPoints_9</th>\n",
       "      <th>JobSatPoints_10</th>\n",
       "      <th>JobSatPoints_11</th>\n",
       "      <th>SurveyLength</th>\n",
       "      <th>SurveyEase</th>\n",
       "      <th>ConvertedCompYearly</th>\n",
       "      <th>JobSat</th>\n",
       "      <th>AgeGroup</th>\n",
       "    </tr>\n",
       "  </thead>\n",
       "  <tbody>\n",
       "    <tr>\n",
       "      <th>40415</th>\n",
       "      <td>40416</td>\n",
       "      <td>I am a developer by profession</td>\n",
       "      <td>30.0</td>\n",
       "      <td>[Employed, full-time, Student, part-time]</td>\n",
       "      <td>In-person</td>\n",
       "      <td>Apples</td>\n",
       "      <td>[Hobby, School or academic work, Professional ...</td>\n",
       "      <td>Master’s degree (M.A., M.S., M.Eng., MBA, etc.)</td>\n",
       "      <td>[Books / Physical media, Colleague, On the job...</td>\n",
       "      <td>[Technical documentation, Blogs, Books, Social...</td>\n",
       "      <td>[API document(s) and/or SDK document(s), User ...</td>\n",
       "      <td>7.0</td>\n",
       "      <td>5.0</td>\n",
       "      <td>Developer, embedded applications or devices</td>\n",
       "      <td>20 to 99 employees</td>\n",
       "      <td>I have some influence</td>\n",
       "      <td>[Ask developers I know/work with]</td>\n",
       "      <td>Is set up to be customized and needs to be eng...</td>\n",
       "      <td>[APIs, Reputation for quality and excellence]</td>\n",
       "      <td>United Kingdom of Great Britain and Northern I...</td>\n",
       "      <td>GBP\\tPound sterling</td>\n",
       "      <td>48000.0</td>\n",
       "      <td>[Bash/Shell (all shells), C, Lua, Python]</td>\n",
       "      <td>[Ada, Bash/Shell (all shells), C, Lua, MicroPy...</td>\n",
       "      <td>[Bash/Shell (all shells), C, Lua, Python]</td>\n",
       "      <td>[]</td>\n",
       "      <td>[]</td>\n",
       "      <td>[]</td>\n",
       "      <td>[]</td>\n",
       "      <td>[]</td>\n",
       "      <td>[]</td>\n",
       "      <td>[Flask]</td>\n",
       "      <td>[Flask]</td>\n",
       "      <td>[Flask]</td>\n",
       "      <td>[GNU GCC, Rasberry Pi]</td>\n",
       "      <td>[GNU GCC, Rasberry Pi]</td>\n",
       "      <td>[GNU GCC, Rasberry Pi]</td>\n",
       "      <td>[Keras, Ruff]</td>\n",
       "      <td>[Ruff]</td>\n",
       "      <td>[Ruff]</td>\n",
       "      <td>[Docker, Make, Nix, Pip]</td>\n",
       "      <td>[Docker, Make, Pip]</td>\n",
       "      <td>[Docker, Make, Pip]</td>\n",
       "      <td>[Neovim, Vim]</td>\n",
       "      <td>[Neovim]</td>\n",
       "      <td>[Neovim]</td>\n",
       "      <td>[Android, Arch, Windows, Windows Subsystem for...</td>\n",
       "      <td>[Ubuntu, Windows]</td>\n",
       "      <td>[Doxygen, Jira, Markdown File, Obsidian, Wikis]</td>\n",
       "      <td>[Doxygen, Jira, Markdown File, Wikis]</td>\n",
       "      <td>[Doxygen, Jira, Markdown File, Wikis]</td>\n",
       "      <td>[Discord, Microsoft Teams, Rocketchat, Whatsapp]</td>\n",
       "      <td>[Discord, Matrix, Signal, Slack, Whatsapp]</td>\n",
       "      <td>[Discord, Whatsapp]</td>\n",
       "      <td>[ChatGPT, GitHub Copilot]</td>\n",
       "      <td>[ChatGPT]</td>\n",
       "      <td>[ChatGPT]</td>\n",
       "      <td>[Stack Overflow, Stack Exchange]</td>\n",
       "      <td>Daily or almost daily</td>\n",
       "      <td>No</td>\n",
       "      <td>NaN</td>\n",
       "      <td>[Finding reliable guidance from community-vett...</td>\n",
       "      <td>No, not at all</td>\n",
       "      <td>Yes</td>\n",
       "      <td>Unfavorable</td>\n",
       "      <td>[Speed up learning]</td>\n",
       "      <td>Highly distrust</td>\n",
       "      <td>Bad at handling complex tasks</td>\n",
       "      <td>[Debugging and getting help, Search for answers]</td>\n",
       "      <td>[Learning about a codebase]</td>\n",
       "      <td>[Project planning, Writing code, Documenting c...</td>\n",
       "      <td>[]</td>\n",
       "      <td>[Debugging and getting help, Search for answers]</td>\n",
       "      <td>[]</td>\n",
       "      <td>[]</td>\n",
       "      <td>[]</td>\n",
       "      <td>No</td>\n",
       "      <td>[Circulating misinformation or disinformation,...</td>\n",
       "      <td>[Don’t trust the output or answers, AI tools l...</td>\n",
       "      <td>Yes</td>\n",
       "      <td>Individual contributor</td>\n",
       "      <td>5.0</td>\n",
       "      <td>Strongly agree</td>\n",
       "      <td>Agree</td>\n",
       "      <td>Disagree</td>\n",
       "      <td>Disagree</td>\n",
       "      <td>Agree</td>\n",
       "      <td>Strongly agree</td>\n",
       "      <td>Strongly agree</td>\n",
       "      <td>Disagree</td>\n",
       "      <td>Disagree</td>\n",
       "      <td>1-2 times a week</td>\n",
       "      <td>10+ times a week</td>\n",
       "      <td>10+ times a week</td>\n",
       "      <td>60-120 minutes a day</td>\n",
       "      <td>60-120 minutes a day</td>\n",
       "      <td>[Amount of technical debt, Tracking my work, R...</td>\n",
       "      <td>[None of these]</td>\n",
       "      <td>On-prem</td>\n",
       "      <td>Traditional public search engine</td>\n",
       "      <td>Computer Systems Design and Services</td>\n",
       "      <td>0.0</td>\n",
       "      <td>0.0</td>\n",
       "      <td>0.0</td>\n",
       "      <td>0.0</td>\n",
       "      <td>20.0</td>\n",
       "      <td>20.0</td>\n",
       "      <td>20.0</td>\n",
       "      <td>20.0</td>\n",
       "      <td>20.0</td>\n",
       "      <td>Appropriate in length</td>\n",
       "      <td>Neither easy nor difficult</td>\n",
       "      <td>61146.0</td>\n",
       "      <td>6.0</td>\n",
       "      <td>20-30</td>\n",
       "    </tr>\n",
       "  </tbody>\n",
       "</table>\n",
       "</div>"
      ],
      "text/plain": [
       "       ResponseId                      MainBranch   Age  \\\n",
       "40415       40416  I am a developer by profession  30.0   \n",
       "\n",
       "                                      Employment RemoteWork   Check  \\\n",
       "40415  [Employed, full-time, Student, part-time]  In-person  Apples   \n",
       "\n",
       "                                        CodingActivities  \\\n",
       "40415  [Hobby, School or academic work, Professional ...   \n",
       "\n",
       "                                               EdLevel  \\\n",
       "40415  Master’s degree (M.A., M.S., M.Eng., MBA, etc.)   \n",
       "\n",
       "                                               LearnCode  \\\n",
       "40415  [Books / Physical media, Colleague, On the job...   \n",
       "\n",
       "                                         LearnCodeOnline  \\\n",
       "40415  [Technical documentation, Blogs, Books, Social...   \n",
       "\n",
       "                                                 TechDoc  YearsCode  \\\n",
       "40415  [API document(s) and/or SDK document(s), User ...        7.0   \n",
       "\n",
       "       YearsCodePro                                      DevType  \\\n",
       "40415           5.0  Developer, embedded applications or devices   \n",
       "\n",
       "                  OrgSize      PurchaseInfluence  \\\n",
       "40415  20 to 99 employees  I have some influence   \n",
       "\n",
       "                              BuyNewTool  \\\n",
       "40415  [Ask developers I know/work with]   \n",
       "\n",
       "                                              BuildvsBuy  \\\n",
       "40415  Is set up to be customized and needs to be eng...   \n",
       "\n",
       "                                         TechEndorse  \\\n",
       "40415  [APIs, Reputation for quality and excellence]   \n",
       "\n",
       "                                                 Country             Currency  \\\n",
       "40415  United Kingdom of Great Britain and Northern I...  GBP\\tPound sterling   \n",
       "\n",
       "       CompTotal                     LanguageHaveWorkedWith  \\\n",
       "40415    48000.0  [Bash/Shell (all shells), C, Lua, Python]   \n",
       "\n",
       "                                  LanguageWantToWorkWith  \\\n",
       "40415  [Ada, Bash/Shell (all shells), C, Lua, MicroPy...   \n",
       "\n",
       "                                 LanguageAdmired DatabaseHaveWorkedWith  \\\n",
       "40415  [Bash/Shell (all shells), C, Lua, Python]                     []   \n",
       "\n",
       "      DatabaseWantToWorkWith DatabaseAdmired PlatformHaveWorkedWith  \\\n",
       "40415                     []              []                     []   \n",
       "\n",
       "      PlatformWantToWorkWith PlatformAdmired WebframeHaveWorkedWith  \\\n",
       "40415                     []              []                [Flask]   \n",
       "\n",
       "      WebframeWantToWorkWith WebframeAdmired  EmbeddedHaveWorkedWith  \\\n",
       "40415                [Flask]         [Flask]  [GNU GCC, Rasberry Pi]   \n",
       "\n",
       "       EmbeddedWantToWorkWith         EmbeddedAdmired MiscTechHaveWorkedWith  \\\n",
       "40415  [GNU GCC, Rasberry Pi]  [GNU GCC, Rasberry Pi]          [Keras, Ruff]   \n",
       "\n",
       "      MiscTechWantToWorkWith MiscTechAdmired   ToolsTechHaveWorkedWith  \\\n",
       "40415                 [Ruff]          [Ruff]  [Docker, Make, Nix, Pip]   \n",
       "\n",
       "      ToolsTechWantToWorkWith     ToolsTechAdmired  \\\n",
       "40415     [Docker, Make, Pip]  [Docker, Make, Pip]   \n",
       "\n",
       "      NEWCollabToolsHaveWorkedWith NEWCollabToolsWantToWorkWith  \\\n",
       "40415                [Neovim, Vim]                     [Neovim]   \n",
       "\n",
       "      NEWCollabToolsAdmired  \\\n",
       "40415              [Neovim]   \n",
       "\n",
       "                                       OpSysPersonal use  \\\n",
       "40415  [Android, Arch, Windows, Windows Subsystem for...   \n",
       "\n",
       "      OpSysProfessional use                   OfficeStackAsyncHaveWorkedWith  \\\n",
       "40415     [Ubuntu, Windows]  [Doxygen, Jira, Markdown File, Obsidian, Wikis]   \n",
       "\n",
       "              OfficeStackAsyncWantToWorkWith  \\\n",
       "40415  [Doxygen, Jira, Markdown File, Wikis]   \n",
       "\n",
       "                     OfficeStackAsyncAdmired  \\\n",
       "40415  [Doxygen, Jira, Markdown File, Wikis]   \n",
       "\n",
       "                          OfficeStackSyncHaveWorkedWith  \\\n",
       "40415  [Discord, Microsoft Teams, Rocketchat, Whatsapp]   \n",
       "\n",
       "                    OfficeStackSyncWantToWorkWith OfficeStackSyncAdmired  \\\n",
       "40415  [Discord, Matrix, Signal, Slack, Whatsapp]    [Discord, Whatsapp]   \n",
       "\n",
       "       AISearchDevHaveWorkedWith AISearchDevWantToWorkWith AISearchDevAdmired  \\\n",
       "40415  [ChatGPT, GitHub Copilot]                 [ChatGPT]          [ChatGPT]   \n",
       "\n",
       "                             NEWSOSites            SOVisitFreq SOAccount  \\\n",
       "40415  [Stack Overflow, Stack Exchange]  Daily or almost daily        No   \n",
       "\n",
       "      SOPartFreq                                              SOHow  \\\n",
       "40415        NaN  [Finding reliable guidance from community-vett...   \n",
       "\n",
       "               SOComm AISelect       AISent                AIBen  \\\n",
       "40415  No, not at all      Yes  Unfavorable  [Speed up learning]   \n",
       "\n",
       "                 AIAcc                      AIComplex  \\\n",
       "40415  Highly distrust  Bad at handling complex tasks   \n",
       "\n",
       "                                  AIToolCurrently Using  \\\n",
       "40415  [Debugging and getting help, Search for answers]   \n",
       "\n",
       "         AIToolInterested in Using  \\\n",
       "40415  [Learning about a codebase]   \n",
       "\n",
       "                           AIToolNot interested in Using  \\\n",
       "40415  [Project planning, Writing code, Documenting c...   \n",
       "\n",
       "      AINextMuch more integrated  \\\n",
       "40415                         []   \n",
       "\n",
       "                                        AINextNo change AINextMore integrated  \\\n",
       "40415  [Debugging and getting help, Search for answers]                    []   \n",
       "\n",
       "      AINextLess integrated AINextMuch less integrated AIThreat  \\\n",
       "40415                    []                         []       No   \n",
       "\n",
       "                                                AIEthics  \\\n",
       "40415  [Circulating misinformation or disinformation,...   \n",
       "\n",
       "                                            AIChallenges TBranch  \\\n",
       "40415  [Don’t trust the output or answers, AI tools l...     Yes   \n",
       "\n",
       "                       ICorPM  WorkExp     Knowledge_1 Knowledge_2  \\\n",
       "40415  Individual contributor      5.0  Strongly agree       Agree   \n",
       "\n",
       "      Knowledge_3 Knowledge_4 Knowledge_5     Knowledge_6     Knowledge_7  \\\n",
       "40415    Disagree    Disagree       Agree  Strongly agree  Strongly agree   \n",
       "\n",
       "      Knowledge_8 Knowledge_9       Frequency_1       Frequency_2  \\\n",
       "40415    Disagree    Disagree  1-2 times a week  10+ times a week   \n",
       "\n",
       "            Frequency_3         TimeSearching         TimeAnswering  \\\n",
       "40415  10+ times a week  60-120 minutes a day  60-120 minutes a day   \n",
       "\n",
       "                                             Frustration ProfessionalTech  \\\n",
       "40415  [Amount of technical debt, Tracking my work, R...  [None of these]   \n",
       "\n",
       "      ProfessionalCloud              ProfessionalQuestion  \\\n",
       "40415           On-prem  Traditional public search engine   \n",
       "\n",
       "                                   Industry  JobSatPoints_1  JobSatPoints_4  \\\n",
       "40415  Computer Systems Design and Services             0.0             0.0   \n",
       "\n",
       "       JobSatPoints_5  JobSatPoints_6  JobSatPoints_7  JobSatPoints_8  \\\n",
       "40415             0.0             0.0            20.0            20.0   \n",
       "\n",
       "       JobSatPoints_9  JobSatPoints_10  JobSatPoints_11  \\\n",
       "40415            20.0             20.0             20.0   \n",
       "\n",
       "                SurveyLength                  SurveyEase  ConvertedCompYearly  \\\n",
       "40415  Appropriate in length  Neither easy nor difficult              61146.0   \n",
       "\n",
       "       JobSat AgeGroup  \n",
       "40415     6.0    20-30  "
      ]
     },
     "execution_count": 5,
     "metadata": {},
     "output_type": "execute_result"
    }
   ],
   "source": [
    "df.sample()"
   ]
  },
  {
   "cell_type": "code",
   "execution_count": 6,
   "metadata": {},
   "outputs": [
    {
     "data": {
      "text/plain": [
       "LanguageHaveWorkedWith     0\n",
       "DatabaseHaveWorkedWith     0\n",
       "MiscTechHaveWorkedWith     0\n",
       "ToolsTechHaveWorkedWith    0\n",
       "dtype: int64"
      ]
     },
     "execution_count": 6,
     "metadata": {},
     "output_type": "execute_result"
    }
   ],
   "source": [
    "df[TECH_COL].isnull().sum()"
   ]
  },
  {
   "cell_type": "code",
   "execution_count": 7,
   "metadata": {},
   "outputs": [],
   "source": [
    "df_dev = pd.get_dummies(df['DevType']).astype('int')"
   ]
  },
  {
   "cell_type": "code",
   "execution_count": 8,
   "metadata": {},
   "outputs": [],
   "source": [
    "encoded_dfs = {}\n",
    "for col in TECH_COL:\n",
    "    # Fill NaN values with empty list\n",
    "    df[col] = df[col].fillna('[]')\n",
    "    binarizer = MultiLabelBinarizer()\n",
    "    encoded_df = pd.DataFrame(binarizer.fit_transform(df[col]),\n",
    "                            columns=binarizer.classes_,\n",
    "                            index=df[col].index)\n",
    "    encoded_dfs[col] = encoded_df"
   ]
  },
  {
   "cell_type": "code",
   "execution_count": 9,
   "metadata": {},
   "outputs": [],
   "source": [
    "df_mod = pd.concat(encoded_dfs, axis=1)"
   ]
  },
  {
   "cell_type": "code",
   "execution_count": 10,
   "metadata": {},
   "outputs": [],
   "source": [
    "# Create MultiIndex columns for df_dev with ROLE_COL category\n",
    "df_dev.columns = pd.MultiIndex.from_product([ROLE_COL, df_dev.columns])\n",
    "\n",
    "# Concatenate df_dev with df horizontally\n",
    "df_mod = pd.concat([df_mod, df_dev], axis=1)"
   ]
  },
  {
   "cell_type": "code",
   "execution_count": 11,
   "metadata": {},
   "outputs": [
    {
     "data": {
      "text/html": [
       "<div>\n",
       "<style scoped>\n",
       "    .dataframe tbody tr th:only-of-type {\n",
       "        vertical-align: middle;\n",
       "    }\n",
       "\n",
       "    .dataframe tbody tr th {\n",
       "        vertical-align: top;\n",
       "    }\n",
       "\n",
       "    .dataframe thead tr th {\n",
       "        text-align: left;\n",
       "    }\n",
       "</style>\n",
       "<table border=\"1\" class=\"dataframe\">\n",
       "  <thead>\n",
       "    <tr>\n",
       "      <th></th>\n",
       "      <th colspan=\"49\" halign=\"left\">LanguageHaveWorkedWith</th>\n",
       "      <th colspan=\"35\" halign=\"left\">DatabaseHaveWorkedWith</th>\n",
       "      <th colspan=\"39\" halign=\"left\">MiscTechHaveWorkedWith</th>\n",
       "      <th colspan=\"34\" halign=\"left\">ToolsTechHaveWorkedWith</th>\n",
       "      <th colspan=\"34\" halign=\"left\">DevType</th>\n",
       "    </tr>\n",
       "    <tr>\n",
       "      <th></th>\n",
       "      <th>Ada</th>\n",
       "      <th>Apex</th>\n",
       "      <th>Assembly</th>\n",
       "      <th>Bash/Shell (all shells)</th>\n",
       "      <th>C</th>\n",
       "      <th>C#</th>\n",
       "      <th>C++</th>\n",
       "      <th>Clojure</th>\n",
       "      <th>Cobol</th>\n",
       "      <th>Crystal</th>\n",
       "      <th>Dart</th>\n",
       "      <th>Delphi</th>\n",
       "      <th>Elixir</th>\n",
       "      <th>Erlang</th>\n",
       "      <th>F#</th>\n",
       "      <th>Fortran</th>\n",
       "      <th>GDScript</th>\n",
       "      <th>Go</th>\n",
       "      <th>Groovy</th>\n",
       "      <th>HTML/CSS</th>\n",
       "      <th>Haskell</th>\n",
       "      <th>Java</th>\n",
       "      <th>JavaScript</th>\n",
       "      <th>Julia</th>\n",
       "      <th>Kotlin</th>\n",
       "      <th>Lisp</th>\n",
       "      <th>Lua</th>\n",
       "      <th>MATLAB</th>\n",
       "      <th>MicroPython</th>\n",
       "      <th>Nim</th>\n",
       "      <th>OCaml</th>\n",
       "      <th>Objective-C</th>\n",
       "      <th>PHP</th>\n",
       "      <th>Perl</th>\n",
       "      <th>PowerShell</th>\n",
       "      <th>Prolog</th>\n",
       "      <th>Python</th>\n",
       "      <th>R</th>\n",
       "      <th>Ruby</th>\n",
       "      <th>Rust</th>\n",
       "      <th>SQL</th>\n",
       "      <th>Scala</th>\n",
       "      <th>Solidity</th>\n",
       "      <th>Swift</th>\n",
       "      <th>TypeScript</th>\n",
       "      <th>VBA</th>\n",
       "      <th>Visual Basic (.Net)</th>\n",
       "      <th>Zephyr</th>\n",
       "      <th>Zig</th>\n",
       "      <th>BigQuery</th>\n",
       "      <th>Cassandra</th>\n",
       "      <th>Clickhouse</th>\n",
       "      <th>Cloud Firestore</th>\n",
       "      <th>Cockroachdb</th>\n",
       "      <th>Cosmos DB</th>\n",
       "      <th>Couch DB</th>\n",
       "      <th>Couchbase</th>\n",
       "      <th>Databricks SQL</th>\n",
       "      <th>Datomic</th>\n",
       "      <th>DuckDB</th>\n",
       "      <th>Dynamodb</th>\n",
       "      <th>Elasticsearch</th>\n",
       "      <th>EventStoreDB</th>\n",
       "      <th>Firebase Realtime Database</th>\n",
       "      <th>Firebird</th>\n",
       "      <th>H2</th>\n",
       "      <th>IBM DB2</th>\n",
       "      <th>InfluxDB</th>\n",
       "      <th>MariaDB</th>\n",
       "      <th>Microsoft Access</th>\n",
       "      <th>Microsoft SQL Server</th>\n",
       "      <th>MongoDB</th>\n",
       "      <th>MySQL</th>\n",
       "      <th>Neo4J</th>\n",
       "      <th>Oracle</th>\n",
       "      <th>PostgreSQL</th>\n",
       "      <th>Presto</th>\n",
       "      <th>RavenDB</th>\n",
       "      <th>Redis</th>\n",
       "      <th>SQLite</th>\n",
       "      <th>Snowflake</th>\n",
       "      <th>Solr</th>\n",
       "      <th>Supabase</th>\n",
       "      <th>TiDB</th>\n",
       "      <th>.NET (5+)</th>\n",
       "      <th>.NET Framework (1.0 - 4.8)</th>\n",
       "      <th>.NET MAUI</th>\n",
       "      <th>Apache Kafka</th>\n",
       "      <th>Apache Spark</th>\n",
       "      <th>CUDA</th>\n",
       "      <th>Capacitor</th>\n",
       "      <th>Cordova</th>\n",
       "      <th>DirectX</th>\n",
       "      <th>Electron</th>\n",
       "      <th>Flutter</th>\n",
       "      <th>GTK</th>\n",
       "      <th>Hadoop</th>\n",
       "      <th>Hugging Face Transformers</th>\n",
       "      <th>Ionic</th>\n",
       "      <th>JAX</th>\n",
       "      <th>Keras</th>\n",
       "      <th>Ktor</th>\n",
       "      <th>MFC</th>\n",
       "      <th>NumPy</th>\n",
       "      <th>OpenCL</th>\n",
       "      <th>OpenGL</th>\n",
       "      <th>Opencv</th>\n",
       "      <th>Pandas</th>\n",
       "      <th>Qt</th>\n",
       "      <th>Quarkus</th>\n",
       "      <th>RabbitMQ</th>\n",
       "      <th>React Native</th>\n",
       "      <th>Roslyn</th>\n",
       "      <th>Ruff</th>\n",
       "      <th>Scikit-Learn</th>\n",
       "      <th>Spring Framework</th>\n",
       "      <th>SwiftUI</th>\n",
       "      <th>Tauri</th>\n",
       "      <th>TensorFlow</th>\n",
       "      <th>Tidyverse</th>\n",
       "      <th>Torch/PyTorch</th>\n",
       "      <th>Xamarin</th>\n",
       "      <th>mlflow</th>\n",
       "      <th>APT</th>\n",
       "      <th>Ansible</th>\n",
       "      <th>Ant</th>\n",
       "      <th>Bun</th>\n",
       "      <th>Chef</th>\n",
       "      <th>Chocolatey</th>\n",
       "      <th>Composer</th>\n",
       "      <th>Dagger</th>\n",
       "      <th>Docker</th>\n",
       "      <th>Godot</th>\n",
       "      <th>Google Test</th>\n",
       "      <th>Gradle</th>\n",
       "      <th>Homebrew</th>\n",
       "      <th>Kubernetes</th>\n",
       "      <th>MSBuild</th>\n",
       "      <th>Make</th>\n",
       "      <th>Maven (build tool)</th>\n",
       "      <th>Ninja</th>\n",
       "      <th>Nix</th>\n",
       "      <th>NuGet</th>\n",
       "      <th>Pacman</th>\n",
       "      <th>Pip</th>\n",
       "      <th>Podman</th>\n",
       "      <th>Pulumi</th>\n",
       "      <th>Puppet</th>\n",
       "      <th>Terraform</th>\n",
       "      <th>Unity 3D</th>\n",
       "      <th>Unreal Engine</th>\n",
       "      <th>Visual Studio Solution</th>\n",
       "      <th>Vite</th>\n",
       "      <th>Webpack</th>\n",
       "      <th>Yarn</th>\n",
       "      <th>npm</th>\n",
       "      <th>pnpm</th>\n",
       "      <th>Academic researcher</th>\n",
       "      <th>Blockchain</th>\n",
       "      <th>Cloud infrastructure engineer</th>\n",
       "      <th>Data engineer</th>\n",
       "      <th>Data or business analyst</th>\n",
       "      <th>Data scientist or machine learning specialist</th>\n",
       "      <th>Database administrator</th>\n",
       "      <th>Designer</th>\n",
       "      <th>DevOps specialist</th>\n",
       "      <th>Developer Advocate</th>\n",
       "      <th>Developer Experience</th>\n",
       "      <th>Developer, AI</th>\n",
       "      <th>Developer, QA or test</th>\n",
       "      <th>Developer, back-end</th>\n",
       "      <th>Developer, desktop or enterprise applications</th>\n",
       "      <th>Developer, embedded applications or devices</th>\n",
       "      <th>Developer, front-end</th>\n",
       "      <th>Developer, full-stack</th>\n",
       "      <th>Developer, game or graphics</th>\n",
       "      <th>Developer, mobile</th>\n",
       "      <th>Educator</th>\n",
       "      <th>Engineer, site reliability</th>\n",
       "      <th>Engineering manager</th>\n",
       "      <th>Hardware Engineer</th>\n",
       "      <th>Marketing or sales professional</th>\n",
       "      <th>Other (please specify):</th>\n",
       "      <th>Product manager</th>\n",
       "      <th>Project manager</th>\n",
       "      <th>Research &amp; Development role</th>\n",
       "      <th>Scientist</th>\n",
       "      <th>Security professional</th>\n",
       "      <th>Senior Executive (C-Suite, VP, etc.)</th>\n",
       "      <th>Student</th>\n",
       "      <th>System administrator</th>\n",
       "    </tr>\n",
       "  </thead>\n",
       "  <tbody>\n",
       "    <tr>\n",
       "      <th>7064</th>\n",
       "      <td>0</td>\n",
       "      <td>0</td>\n",
       "      <td>0</td>\n",
       "      <td>0</td>\n",
       "      <td>0</td>\n",
       "      <td>0</td>\n",
       "      <td>0</td>\n",
       "      <td>0</td>\n",
       "      <td>0</td>\n",
       "      <td>0</td>\n",
       "      <td>0</td>\n",
       "      <td>0</td>\n",
       "      <td>0</td>\n",
       "      <td>0</td>\n",
       "      <td>0</td>\n",
       "      <td>0</td>\n",
       "      <td>0</td>\n",
       "      <td>0</td>\n",
       "      <td>0</td>\n",
       "      <td>1</td>\n",
       "      <td>0</td>\n",
       "      <td>0</td>\n",
       "      <td>1</td>\n",
       "      <td>0</td>\n",
       "      <td>0</td>\n",
       "      <td>0</td>\n",
       "      <td>0</td>\n",
       "      <td>0</td>\n",
       "      <td>0</td>\n",
       "      <td>0</td>\n",
       "      <td>0</td>\n",
       "      <td>0</td>\n",
       "      <td>0</td>\n",
       "      <td>0</td>\n",
       "      <td>0</td>\n",
       "      <td>0</td>\n",
       "      <td>0</td>\n",
       "      <td>0</td>\n",
       "      <td>0</td>\n",
       "      <td>0</td>\n",
       "      <td>0</td>\n",
       "      <td>0</td>\n",
       "      <td>0</td>\n",
       "      <td>0</td>\n",
       "      <td>1</td>\n",
       "      <td>0</td>\n",
       "      <td>0</td>\n",
       "      <td>0</td>\n",
       "      <td>0</td>\n",
       "      <td>0</td>\n",
       "      <td>0</td>\n",
       "      <td>0</td>\n",
       "      <td>1</td>\n",
       "      <td>0</td>\n",
       "      <td>0</td>\n",
       "      <td>0</td>\n",
       "      <td>0</td>\n",
       "      <td>0</td>\n",
       "      <td>0</td>\n",
       "      <td>0</td>\n",
       "      <td>0</td>\n",
       "      <td>0</td>\n",
       "      <td>0</td>\n",
       "      <td>1</td>\n",
       "      <td>0</td>\n",
       "      <td>0</td>\n",
       "      <td>0</td>\n",
       "      <td>0</td>\n",
       "      <td>0</td>\n",
       "      <td>0</td>\n",
       "      <td>0</td>\n",
       "      <td>1</td>\n",
       "      <td>0</td>\n",
       "      <td>0</td>\n",
       "      <td>0</td>\n",
       "      <td>0</td>\n",
       "      <td>0</td>\n",
       "      <td>0</td>\n",
       "      <td>0</td>\n",
       "      <td>0</td>\n",
       "      <td>0</td>\n",
       "      <td>0</td>\n",
       "      <td>0</td>\n",
       "      <td>0</td>\n",
       "      <td>0</td>\n",
       "      <td>0</td>\n",
       "      <td>0</td>\n",
       "      <td>0</td>\n",
       "      <td>0</td>\n",
       "      <td>0</td>\n",
       "      <td>0</td>\n",
       "      <td>0</td>\n",
       "      <td>0</td>\n",
       "      <td>0</td>\n",
       "      <td>0</td>\n",
       "      <td>0</td>\n",
       "      <td>0</td>\n",
       "      <td>0</td>\n",
       "      <td>0</td>\n",
       "      <td>0</td>\n",
       "      <td>0</td>\n",
       "      <td>0</td>\n",
       "      <td>0</td>\n",
       "      <td>0</td>\n",
       "      <td>0</td>\n",
       "      <td>0</td>\n",
       "      <td>0</td>\n",
       "      <td>0</td>\n",
       "      <td>0</td>\n",
       "      <td>0</td>\n",
       "      <td>0</td>\n",
       "      <td>0</td>\n",
       "      <td>0</td>\n",
       "      <td>0</td>\n",
       "      <td>0</td>\n",
       "      <td>0</td>\n",
       "      <td>0</td>\n",
       "      <td>0</td>\n",
       "      <td>0</td>\n",
       "      <td>0</td>\n",
       "      <td>0</td>\n",
       "      <td>0</td>\n",
       "      <td>0</td>\n",
       "      <td>0</td>\n",
       "      <td>0</td>\n",
       "      <td>0</td>\n",
       "      <td>0</td>\n",
       "      <td>0</td>\n",
       "      <td>0</td>\n",
       "      <td>0</td>\n",
       "      <td>0</td>\n",
       "      <td>1</td>\n",
       "      <td>0</td>\n",
       "      <td>0</td>\n",
       "      <td>0</td>\n",
       "      <td>0</td>\n",
       "      <td>0</td>\n",
       "      <td>0</td>\n",
       "      <td>0</td>\n",
       "      <td>0</td>\n",
       "      <td>0</td>\n",
       "      <td>0</td>\n",
       "      <td>0</td>\n",
       "      <td>0</td>\n",
       "      <td>0</td>\n",
       "      <td>0</td>\n",
       "      <td>0</td>\n",
       "      <td>0</td>\n",
       "      <td>0</td>\n",
       "      <td>0</td>\n",
       "      <td>0</td>\n",
       "      <td>0</td>\n",
       "      <td>1</td>\n",
       "      <td>0</td>\n",
       "      <td>0</td>\n",
       "      <td>1</td>\n",
       "      <td>0</td>\n",
       "      <td>0</td>\n",
       "      <td>0</td>\n",
       "      <td>0</td>\n",
       "      <td>0</td>\n",
       "      <td>0</td>\n",
       "      <td>0</td>\n",
       "      <td>0</td>\n",
       "      <td>0</td>\n",
       "      <td>0</td>\n",
       "      <td>0</td>\n",
       "      <td>0</td>\n",
       "      <td>0</td>\n",
       "      <td>0</td>\n",
       "      <td>0</td>\n",
       "      <td>0</td>\n",
       "      <td>0</td>\n",
       "      <td>0</td>\n",
       "      <td>1</td>\n",
       "      <td>0</td>\n",
       "      <td>0</td>\n",
       "      <td>0</td>\n",
       "      <td>0</td>\n",
       "      <td>0</td>\n",
       "      <td>0</td>\n",
       "      <td>0</td>\n",
       "      <td>0</td>\n",
       "      <td>0</td>\n",
       "      <td>0</td>\n",
       "      <td>0</td>\n",
       "      <td>0</td>\n",
       "      <td>0</td>\n",
       "      <td>0</td>\n",
       "      <td>0</td>\n",
       "      <td>0</td>\n",
       "    </tr>\n",
       "  </tbody>\n",
       "</table>\n",
       "</div>"
      ],
      "text/plain": [
       "     LanguageHaveWorkedWith                                                  \\\n",
       "                        Ada Apex Assembly Bash/Shell (all shells)  C C# C++   \n",
       "7064                      0    0        0                       0  0  0   0   \n",
       "\n",
       "                                                                             \\\n",
       "     Clojure Cobol Crystal Dart Delphi Elixir Erlang F# Fortran GDScript Go   \n",
       "7064       0     0       0    0      0      0      0  0       0        0  0   \n",
       "\n",
       "                                                                           \\\n",
       "     Groovy HTML/CSS Haskell Java JavaScript Julia Kotlin Lisp Lua MATLAB   \n",
       "7064      0        1       0    0          1     0      0    0   0      0   \n",
       "\n",
       "                                                                             \\\n",
       "     MicroPython Nim OCaml Objective-C PHP Perl PowerShell Prolog Python  R   \n",
       "7064           0   0     0           0   0    0          0      0      0  0   \n",
       "\n",
       "                                                                            \\\n",
       "     Ruby Rust SQL Scala Solidity Swift TypeScript VBA Visual Basic (.Net)   \n",
       "7064    0    0   0     0        0     0          1   0                   0   \n",
       "\n",
       "                DatabaseHaveWorkedWith                                       \\\n",
       "     Zephyr Zig               BigQuery Cassandra Clickhouse Cloud Firestore   \n",
       "7064      0   0                      0         0          0               1   \n",
       "\n",
       "                                                                             \\\n",
       "     Cockroachdb Cosmos DB Couch DB Couchbase Databricks SQL Datomic DuckDB   \n",
       "7064           0         0        0         0              0       0      0   \n",
       "\n",
       "                                                                              \\\n",
       "     Dynamodb Elasticsearch EventStoreDB Firebase Realtime Database Firebird   \n",
       "7064        0             0            0                          1        0   \n",
       "\n",
       "                                                                        \\\n",
       "     H2 IBM DB2 InfluxDB MariaDB Microsoft Access Microsoft SQL Server   \n",
       "7064  0       0        0       0                0                    0   \n",
       "\n",
       "                                                                        \\\n",
       "     MongoDB MySQL Neo4J Oracle PostgreSQL Presto RavenDB Redis SQLite   \n",
       "7064       1     0     0      0          0      0       0     0      0   \n",
       "\n",
       "                                  MiscTechHaveWorkedWith  \\\n",
       "     Snowflake Solr Supabase TiDB             .NET (5+)    \n",
       "7064         0    0        0    0                      0   \n",
       "\n",
       "                                                                          \\\n",
       "     .NET Framework (1.0 - 4.8) .NET MAUI Apache Kafka Apache Spark CUDA   \n",
       "7064                          0         0            0            0    0   \n",
       "\n",
       "                                                            \\\n",
       "     Capacitor Cordova DirectX Electron Flutter GTK Hadoop   \n",
       "7064         0       0       0        0       0   0      0   \n",
       "\n",
       "                                                                             \\\n",
       "     Hugging Face Transformers Ionic JAX Keras Ktor MFC NumPy OpenCL OpenGL   \n",
       "7064                         0     0   0     0    0   0     0      0      0   \n",
       "\n",
       "                                                                              \\\n",
       "     Opencv Pandas Qt Quarkus RabbitMQ React Native Roslyn Ruff Scikit-Learn   \n",
       "7064      0      0  0       0        0            0      0    0            0   \n",
       "\n",
       "                                                                        \\\n",
       "     Spring Framework SwiftUI Tauri TensorFlow Tidyverse Torch/PyTorch   \n",
       "7064                0       0     0          0         0             0   \n",
       "\n",
       "                    ToolsTechHaveWorkedWith                                  \\\n",
       "     Xamarin mlflow                     APT Ansible Ant Bun Chef Chocolatey   \n",
       "7064       0      0                       0       0   0   0    0          0   \n",
       "\n",
       "                                                                          \\\n",
       "     Composer Dagger Docker Godot Google Test Gradle Homebrew Kubernetes   \n",
       "7064        0      0      1     0           0      0        0          0   \n",
       "\n",
       "                                                                               \\\n",
       "     MSBuild Make Maven (build tool) Ninja Nix NuGet Pacman Pip Podman Pulumi   \n",
       "7064       0    0                  0     0   0     0      0   0      0      0   \n",
       "\n",
       "                                                                          \\\n",
       "     Puppet Terraform Unity 3D Unreal Engine Visual Studio Solution Vite   \n",
       "7064      0         0        0             0                      0    1   \n",
       "\n",
       "                                       DevType             \\\n",
       "     Webpack Yarn npm pnpm Academic researcher Blockchain   \n",
       "7064       0    0   1    0                   0          0   \n",
       "\n",
       "                                                                           \\\n",
       "     Cloud infrastructure engineer Data engineer Data or business analyst   \n",
       "7064                             0             0                        0   \n",
       "\n",
       "                                                                           \\\n",
       "     Data scientist or machine learning specialist Database administrator   \n",
       "7064                                             0                      0   \n",
       "\n",
       "                                                                         \\\n",
       "     Designer DevOps specialist Developer Advocate Developer Experience   \n",
       "7064        0                 0                  0                    0   \n",
       "\n",
       "                                                              \\\n",
       "     Developer, AI Developer, QA or test Developer, back-end   \n",
       "7064             0                     0                   0   \n",
       "\n",
       "                                                    \\\n",
       "     Developer, desktop or enterprise applications   \n",
       "7064                                             0   \n",
       "\n",
       "                                                                       \\\n",
       "     Developer, embedded applications or devices Developer, front-end   \n",
       "7064                                           0                    0   \n",
       "\n",
       "                                                                          \\\n",
       "     Developer, full-stack Developer, game or graphics Developer, mobile   \n",
       "7064                     1                           0                 0   \n",
       "\n",
       "                                                              \\\n",
       "     Educator Engineer, site reliability Engineering manager   \n",
       "7064        0                          0                   0   \n",
       "\n",
       "                                                        \\\n",
       "     Hardware Engineer Marketing or sales professional   \n",
       "7064                 0                               0   \n",
       "\n",
       "                                                              \\\n",
       "     Other (please specify): Product manager Project manager   \n",
       "7064                       0               0               0   \n",
       "\n",
       "                                                                  \\\n",
       "     Research & Development role Scientist Security professional   \n",
       "7064                           0         0                     0   \n",
       "\n",
       "                                                                        \n",
       "     Senior Executive (C-Suite, VP, etc.) Student System administrator  \n",
       "7064                                    0       0                    0  "
      ]
     },
     "execution_count": 11,
     "metadata": {},
     "output_type": "execute_result"
    }
   ],
   "source": [
    "df_mod.sample()"
   ]
  },
  {
   "cell_type": "markdown",
   "metadata": {},
   "source": [
    "# Dimentionality Reduction"
   ]
  },
  {
   "cell_type": "code",
   "execution_count": 12,
   "metadata": {},
   "outputs": [
    {
     "name": "stderr",
     "output_type": "stream",
     "text": [
      "C:\\Users\\Yossef\\AppData\\Local\\Temp\\ipykernel_43512\\645334806.py:2: PerformanceWarning: dropping on a non-lexsorted multi-index without a level parameter may impact performance.\n",
      "  skills_ohe = df_mod.drop('DevType', axis=1).copy()\n"
     ]
    }
   ],
   "source": [
    "# Prepare sub data frames \n",
    "skills_ohe = df_mod.drop('DevType', axis=1).copy()\n",
    "std_skills = StandardScaler().fit_transform(skills_ohe)"
   ]
  },
  {
   "cell_type": "code",
   "execution_count": 13,
   "metadata": {},
   "outputs": [],
   "source": [
    "tsne_projection = TSNE(n_components=2, \n",
    "                       perplexity=10,\n",
    "                       learning_rate=0.005,\n",
    "                       init='pca', \n",
    "                       method='barnes_hut', \n",
    "                       n_jobs=2, \n",
    "                       n_iter=10**10,\n",
    "                       random_state=42).fit_transform(std_skills.T)\n",
    "\n",
    "tsne_projection = pd.DataFrame(tsne_projection, index=skills_ohe.columns)"
   ]
  },
  {
   "cell_type": "code",
   "execution_count": 14,
   "metadata": {},
   "outputs": [
    {
     "data": {
      "text/plain": [
       "(157, 2)"
      ]
     },
     "execution_count": 14,
     "metadata": {},
     "output_type": "execute_result"
    }
   ],
   "source": [
    "tsne_projection.shape"
   ]
  },
  {
   "cell_type": "code",
   "execution_count": 15,
   "metadata": {},
   "outputs": [
    {
     "data": {
      "application/vnd.plotly.v1+json": {
       "config": {
        "plotlyServerURL": "https://plot.ly"
       },
       "data": [
        {
         "hovertemplate": "x=%{x}<br>y=%{y}<br>text=%{text}<extra></extra>",
         "legendgroup": "",
         "marker": {
          "color": "#636efa",
          "symbol": "circle"
         },
         "mode": "markers+text",
         "name": "",
         "orientation": "v",
         "showlegend": false,
         "text": [
          "Ada",
          "Apex",
          "Assembly",
          "Bash/Shell (all shells)",
          "C",
          "C#",
          "C++",
          "Clojure",
          "Cobol",
          "Crystal",
          "Dart",
          "Delphi",
          "Elixir",
          "Erlang",
          "F#",
          "Fortran",
          "GDScript",
          "Go",
          "Groovy",
          "HTML/CSS",
          "Haskell",
          "Java",
          "JavaScript",
          "Julia",
          "Kotlin",
          "Lisp",
          "Lua",
          "MATLAB",
          "MicroPython",
          "Nim",
          "OCaml",
          "Objective-C",
          "PHP",
          "Perl",
          "PowerShell",
          "Prolog",
          "Python",
          "R",
          "Ruby",
          "Rust",
          "SQL",
          "Scala",
          "Solidity",
          "Swift",
          "TypeScript",
          "VBA",
          "Visual Basic (.Net)",
          "Zephyr",
          "Zig",
          "BigQuery",
          "Cassandra",
          "Clickhouse",
          "Cloud Firestore",
          "Cockroachdb",
          "Cosmos DB",
          "Couch DB",
          "Couchbase",
          "Databricks SQL",
          "Datomic",
          "DuckDB",
          "Dynamodb",
          "Elasticsearch",
          "EventStoreDB",
          "Firebase Realtime Database",
          "Firebird",
          "H2",
          "IBM DB2",
          "InfluxDB",
          "MariaDB",
          "Microsoft Access",
          "Microsoft SQL Server",
          "MongoDB",
          "MySQL",
          "Neo4J",
          "Oracle",
          "PostgreSQL",
          "Presto",
          "RavenDB",
          "Redis",
          "SQLite",
          "Snowflake",
          "Solr",
          "Supabase",
          "TiDB",
          ".NET (5+) ",
          ".NET Framework (1.0 - 4.8)",
          ".NET MAUI",
          "Apache Kafka",
          "Apache Spark",
          "CUDA",
          "Capacitor",
          "Cordova",
          "DirectX",
          "Electron",
          "Flutter",
          "GTK",
          "Hadoop",
          "Hugging Face Transformers",
          "Ionic",
          "JAX",
          "Keras",
          "Ktor",
          "MFC",
          "NumPy",
          "OpenCL",
          "OpenGL",
          "Opencv",
          "Pandas",
          "Qt",
          "Quarkus",
          "RabbitMQ",
          "React Native",
          "Roslyn",
          "Ruff",
          "Scikit-Learn",
          "Spring Framework",
          "SwiftUI",
          "Tauri",
          "TensorFlow",
          "Tidyverse",
          "Torch/PyTorch",
          "Xamarin",
          "mlflow",
          "APT",
          "Ansible",
          "Ant",
          "Bun",
          "Chef",
          "Chocolatey",
          "Composer",
          "Dagger",
          "Docker",
          "Godot",
          "Google Test",
          "Gradle",
          "Homebrew",
          "Kubernetes",
          "MSBuild",
          "Make",
          "Maven (build tool)",
          "Ninja",
          "Nix",
          "NuGet",
          "Pacman",
          "Pip",
          "Podman",
          "Pulumi",
          "Puppet",
          "Terraform",
          "Unity 3D",
          "Unreal Engine",
          "Visual Studio Solution",
          "Vite",
          "Webpack",
          "Yarn",
          "npm",
          "pnpm"
         ],
         "textposition": "top center",
         "type": "scatter",
         "x": [
          -0.2618153989315033,
          0.6639609932899475,
          0.8058539628982544,
          -5.327026844024658,
          -0.26807767152786255,
          20.936046600341797,
          -0.1204724833369255,
          4.345539569854736,
          6.646451950073242,
          0.9483242034912109,
          1.2317819595336914,
          12.753957748413086,
          7.831145286560059,
          7.709216117858887,
          15.164812088012695,
          5.190745830535889,
          10.093413352966309,
          -10.502679824829102,
          -8.785438537597656,
          6.3362603187561035,
          8.268157005310059,
          -8.749017715454102,
          5.582911968231201,
          3.3987443447113037,
          -5.887487888336182,
          6.520854473114014,
          -1.0909538269042969,
          -3.6225979328155518,
          -2.117264986038208,
          1.049654483795166,
          9.032280921936035,
          5.728211402893066,
          11.426839828491211,
          3.4418742656707764,
          20.013368606567383,
          7.1408209800720215,
          -7.582670211791992,
          -14.620121002197266,
          -5.2925286293029785,
          3.9378697872161865,
          8.559338569641113,
          -14.076254844665527,
          -4.059190273284912,
          4.497419834136963,
          4.188390254974365,
          17.34764289855957,
          18.052717208862305,
          -1.6652984619140625,
          2.1885721683502197,
          -14.319500923156738,
          -9.989837646484375,
          -7.788322925567627,
          2.887493133544922,
          -4.786258697509766,
          22.962495803833008,
          -1.9065306186676025,
          -2.3613622188568115,
          -14.61451530456543,
          3.7187676429748535,
          -12.792091369628906,
          -11.384676933288574,
          -8.223729133605957,
          -2.8465707302093506,
          2.645008087158203,
          12.398590087890625,
          -11.402816772460938,
          7.49586820602417,
          -15.438525199890137,
          12.506945610046387,
          16.560741424560547,
          19.358474731445312,
          1.470238447189331,
          10.906453132629395,
          -8.657021522521973,
          -7.633640289306641,
          -7.789817810058594,
          -7.951763153076172,
          -2.5903842449188232,
          -7.7510576248168945,
          11.259626388549805,
          -15.877614974975586,
          -5.083850383758545,
          4.407886028289795,
          -3.5321197509765625,
          21.004701614379883,
          20.484127044677734,
          23.764467239379883,
          -11.35508918762207,
          -13.426087379455566,
          -13.787942886352539,
          10.331068992614746,
          10.953755378723145,
          6.533731937408447,
          3.9339466094970703,
          1.665829062461853,
          2.722243547439575,
          -12.702376365661621,
          -14.631237983703613,
          10.985906600952148,
          -13.04512882232666,
          -11.545406341552734,
          -5.5859198570251465,
          7.051598072052002,
          -10.701610565185547,
          4.973918437957764,
          5.698771953582764,
          -9.826032638549805,
          -11.027132034301758,
          1.379781723022461,
          -12.799141883850098,
          -6.356112003326416,
          0.48783180117607117,
          24.710250854492188,
          -9.875341415405273,
          -12.322733879089355,
          -10.050929069519043,
          3.9002721309661865,
          3.9309778213500977,
          -11.74531078338623,
          -14.382657051086426,
          -13.055902481079102,
          23.39279556274414,
          -13.973100662231445,
          -4.468047618865967,
          -13.7830810546875,
          -9.888401985168457,
          5.733215808868408,
          -18.673728942871094,
          20.017786026000977,
          11.444061279296875,
          -4.353506088256836,
          -8.921710968017578,
          10.04358196258545,
          -0.7831636071205139,
          -6.845621585845947,
          -7.0935587882995605,
          -10.470480918884277,
          22.98316192626953,
          -2.1275603771209717,
          -9.595844268798828,
          -0.7530170679092407,
          4.2306036949157715,
          22.03196144104004,
          -1.9505587816238403,
          -7.497189998626709,
          -13.017969131469727,
          -13.553084373474121,
          -18.64578628540039,
          -11.938488960266113,
          10.951539993286133,
          10.428977012634277,
          22.278255462646484,
          4.188868522644043,
          2.43328857421875,
          1.5314390659332275,
          3.6414971351623535,
          4.267937183380127
         ],
         "xaxis": "x",
         "y": [
          -3.7044596672058105,
          -2.514741897583008,
          -17.010982513427734,
          -13.927618980407715,
          -18.045249938964844,
          -4.69437837600708,
          -19.003629684448242,
          -2.714266777038574,
          -11.440264701843262,
          -5.647304534912109,
          25.774005889892578,
          -12.857073783874512,
          1.0837026834487915,
          0.6181411743164062,
          -3.176957368850708,
          -11.761262893676758,
          -27.914941787719727,
          11.684080123901367,
          26.474699020385742,
          12.856559753417969,
          -3.803093910217285,
          23.94466781616211,
          13.121479988098145,
          -10.718689918518066,
          27.05483055114746,
          -4.6600165367126465,
          -12.865813255310059,
          -19.496234893798828,
          -7.714212894439697,
          -6.385379791259766,
          -4.1307053565979,
          29.845375061035156,
          13.709264755249023,
          -14.704282760620117,
          -1.9216388463974,
          -5.526062488555908,
          -14.85120677947998,
          -11.480618476867676,
          11.774432182312012,
          5.56520938873291,
          10.864724159240723,
          0.16170713305473328,
          -5.147110462188721,
          29.83899688720703,
          14.415026664733887,
          -9.524480819702148,
          -8.52885913848877,
          -5.774132251739502,
          -7.092288494110107,
          5.230980396270752,
          2.589470863342285,
          0.04301309585571289,
          23.08028221130371,
          -1.1676990985870361,
          -1.7923704385757446,
          1.4876322746276855,
          1.121419072151184,
          -2.4856207370758057,
          -2.51715350151062,
          -9.28658676147461,
          7.476607799530029,
          6.941951751708984,
          -1.8192226886749268,
          22.64377784729004,
          -12.58743953704834,
          24.244001388549805,
          -11.34528636932373,
          12.058670043945312,
          12.951168060302734,
          -9.389745712280273,
          -4.308959007263184,
          11.855569839477539,
          12.377111434936523,
          4.319723129272461,
          22.37480354309082,
          10.206886291503906,
          -3.604710340499878,
          -2.740077495574951,
          8.254058837890625,
          10.572883605957031,
          -3.0828139781951904,
          4.160260200500488,
          19.06733512878418,
          -2.899686098098755,
          -3.9586689472198486,
          -5.990588188171387,
          -8.844986915588379,
          2.5116939544677734,
          -1.2722887992858887,
          -20.387413024902344,
          21.24654769897461,
          22.452552795410156,
          -21.43977165222168,
          8.905004501342773,
          25.757726669311523,
          -19.97852897644043,
          -1.4184882640838623,
          -18.502986907958984,
          21.453271865844727,
          -22.42137908935547,
          -20.4691162109375,
          28.42392349243164,
          -19.216054916381836,
          -16.84380340576172,
          -22.85793685913086,
          -22.15976333618164,
          -19.05539321899414,
          -16.163959503173828,
          -19.915220260620117,
          23.616418838500977,
          7.880221366882324,
          16.51207733154297,
          -4.191073894500732,
          -14.188315391540527,
          -17.31601333618164,
          24.28959083557129,
          29.878055572509766,
          6.569061279296875,
          -19.404460906982422,
          -11.015786170959473,
          -19.01148223876953,
          -9.351119041442871,
          -16.154821395874023,
          -15.958605766296387,
          11.638222694396973,
          21.592966079711914,
          17.590065002441406,
          8.831456184387207,
          -0.4420429766178131,
          14.53882122039795,
          27.0289363861084,
          10.192130088806152,
          -27.470645904541016,
          -21.747215270996094,
          26.354679107666016,
          12.591695785522461,
          9.751501083374023,
          -4.630859851837158,
          -16.448471069335938,
          23.410554885864258,
          -20.60861587524414,
          4.0885820388793945,
          -3.6936044692993164,
          -14.36788272857666,
          -15.52135944366455,
          12.952524185180664,
          8.737129211425781,
          9.381143569946289,
          9.155591011047363,
          -23.36970329284668,
          -23.224103927612305,
          -6.015767574310303,
          16.181873321533203,
          14.916322708129883,
          15.4028959274292,
          13.642876625061035,
          17.400634765625
         ],
         "yaxis": "y"
        }
       ],
       "layout": {
        "height": 1000,
        "legend": {
         "tracegroupgap": 0
        },
        "margin": {
         "t": 60
        },
        "template": {
         "data": {
          "bar": [
           {
            "error_x": {
             "color": "#2a3f5f"
            },
            "error_y": {
             "color": "#2a3f5f"
            },
            "marker": {
             "line": {
              "color": "#E5ECF6",
              "width": 0.5
             },
             "pattern": {
              "fillmode": "overlay",
              "size": 10,
              "solidity": 0.2
             }
            },
            "type": "bar"
           }
          ],
          "barpolar": [
           {
            "marker": {
             "line": {
              "color": "#E5ECF6",
              "width": 0.5
             },
             "pattern": {
              "fillmode": "overlay",
              "size": 10,
              "solidity": 0.2
             }
            },
            "type": "barpolar"
           }
          ],
          "carpet": [
           {
            "aaxis": {
             "endlinecolor": "#2a3f5f",
             "gridcolor": "white",
             "linecolor": "white",
             "minorgridcolor": "white",
             "startlinecolor": "#2a3f5f"
            },
            "baxis": {
             "endlinecolor": "#2a3f5f",
             "gridcolor": "white",
             "linecolor": "white",
             "minorgridcolor": "white",
             "startlinecolor": "#2a3f5f"
            },
            "type": "carpet"
           }
          ],
          "choropleth": [
           {
            "colorbar": {
             "outlinewidth": 0,
             "ticks": ""
            },
            "type": "choropleth"
           }
          ],
          "contour": [
           {
            "colorbar": {
             "outlinewidth": 0,
             "ticks": ""
            },
            "colorscale": [
             [
              0,
              "#0d0887"
             ],
             [
              0.1111111111111111,
              "#46039f"
             ],
             [
              0.2222222222222222,
              "#7201a8"
             ],
             [
              0.3333333333333333,
              "#9c179e"
             ],
             [
              0.4444444444444444,
              "#bd3786"
             ],
             [
              0.5555555555555556,
              "#d8576b"
             ],
             [
              0.6666666666666666,
              "#ed7953"
             ],
             [
              0.7777777777777778,
              "#fb9f3a"
             ],
             [
              0.8888888888888888,
              "#fdca26"
             ],
             [
              1,
              "#f0f921"
             ]
            ],
            "type": "contour"
           }
          ],
          "contourcarpet": [
           {
            "colorbar": {
             "outlinewidth": 0,
             "ticks": ""
            },
            "type": "contourcarpet"
           }
          ],
          "heatmap": [
           {
            "colorbar": {
             "outlinewidth": 0,
             "ticks": ""
            },
            "colorscale": [
             [
              0,
              "#0d0887"
             ],
             [
              0.1111111111111111,
              "#46039f"
             ],
             [
              0.2222222222222222,
              "#7201a8"
             ],
             [
              0.3333333333333333,
              "#9c179e"
             ],
             [
              0.4444444444444444,
              "#bd3786"
             ],
             [
              0.5555555555555556,
              "#d8576b"
             ],
             [
              0.6666666666666666,
              "#ed7953"
             ],
             [
              0.7777777777777778,
              "#fb9f3a"
             ],
             [
              0.8888888888888888,
              "#fdca26"
             ],
             [
              1,
              "#f0f921"
             ]
            ],
            "type": "heatmap"
           }
          ],
          "heatmapgl": [
           {
            "colorbar": {
             "outlinewidth": 0,
             "ticks": ""
            },
            "colorscale": [
             [
              0,
              "#0d0887"
             ],
             [
              0.1111111111111111,
              "#46039f"
             ],
             [
              0.2222222222222222,
              "#7201a8"
             ],
             [
              0.3333333333333333,
              "#9c179e"
             ],
             [
              0.4444444444444444,
              "#bd3786"
             ],
             [
              0.5555555555555556,
              "#d8576b"
             ],
             [
              0.6666666666666666,
              "#ed7953"
             ],
             [
              0.7777777777777778,
              "#fb9f3a"
             ],
             [
              0.8888888888888888,
              "#fdca26"
             ],
             [
              1,
              "#f0f921"
             ]
            ],
            "type": "heatmapgl"
           }
          ],
          "histogram": [
           {
            "marker": {
             "pattern": {
              "fillmode": "overlay",
              "size": 10,
              "solidity": 0.2
             }
            },
            "type": "histogram"
           }
          ],
          "histogram2d": [
           {
            "colorbar": {
             "outlinewidth": 0,
             "ticks": ""
            },
            "colorscale": [
             [
              0,
              "#0d0887"
             ],
             [
              0.1111111111111111,
              "#46039f"
             ],
             [
              0.2222222222222222,
              "#7201a8"
             ],
             [
              0.3333333333333333,
              "#9c179e"
             ],
             [
              0.4444444444444444,
              "#bd3786"
             ],
             [
              0.5555555555555556,
              "#d8576b"
             ],
             [
              0.6666666666666666,
              "#ed7953"
             ],
             [
              0.7777777777777778,
              "#fb9f3a"
             ],
             [
              0.8888888888888888,
              "#fdca26"
             ],
             [
              1,
              "#f0f921"
             ]
            ],
            "type": "histogram2d"
           }
          ],
          "histogram2dcontour": [
           {
            "colorbar": {
             "outlinewidth": 0,
             "ticks": ""
            },
            "colorscale": [
             [
              0,
              "#0d0887"
             ],
             [
              0.1111111111111111,
              "#46039f"
             ],
             [
              0.2222222222222222,
              "#7201a8"
             ],
             [
              0.3333333333333333,
              "#9c179e"
             ],
             [
              0.4444444444444444,
              "#bd3786"
             ],
             [
              0.5555555555555556,
              "#d8576b"
             ],
             [
              0.6666666666666666,
              "#ed7953"
             ],
             [
              0.7777777777777778,
              "#fb9f3a"
             ],
             [
              0.8888888888888888,
              "#fdca26"
             ],
             [
              1,
              "#f0f921"
             ]
            ],
            "type": "histogram2dcontour"
           }
          ],
          "mesh3d": [
           {
            "colorbar": {
             "outlinewidth": 0,
             "ticks": ""
            },
            "type": "mesh3d"
           }
          ],
          "parcoords": [
           {
            "line": {
             "colorbar": {
              "outlinewidth": 0,
              "ticks": ""
             }
            },
            "type": "parcoords"
           }
          ],
          "pie": [
           {
            "automargin": true,
            "type": "pie"
           }
          ],
          "scatter": [
           {
            "fillpattern": {
             "fillmode": "overlay",
             "size": 10,
             "solidity": 0.2
            },
            "type": "scatter"
           }
          ],
          "scatter3d": [
           {
            "line": {
             "colorbar": {
              "outlinewidth": 0,
              "ticks": ""
             }
            },
            "marker": {
             "colorbar": {
              "outlinewidth": 0,
              "ticks": ""
             }
            },
            "type": "scatter3d"
           }
          ],
          "scattercarpet": [
           {
            "marker": {
             "colorbar": {
              "outlinewidth": 0,
              "ticks": ""
             }
            },
            "type": "scattercarpet"
           }
          ],
          "scattergeo": [
           {
            "marker": {
             "colorbar": {
              "outlinewidth": 0,
              "ticks": ""
             }
            },
            "type": "scattergeo"
           }
          ],
          "scattergl": [
           {
            "marker": {
             "colorbar": {
              "outlinewidth": 0,
              "ticks": ""
             }
            },
            "type": "scattergl"
           }
          ],
          "scattermapbox": [
           {
            "marker": {
             "colorbar": {
              "outlinewidth": 0,
              "ticks": ""
             }
            },
            "type": "scattermapbox"
           }
          ],
          "scatterpolar": [
           {
            "marker": {
             "colorbar": {
              "outlinewidth": 0,
              "ticks": ""
             }
            },
            "type": "scatterpolar"
           }
          ],
          "scatterpolargl": [
           {
            "marker": {
             "colorbar": {
              "outlinewidth": 0,
              "ticks": ""
             }
            },
            "type": "scatterpolargl"
           }
          ],
          "scatterternary": [
           {
            "marker": {
             "colorbar": {
              "outlinewidth": 0,
              "ticks": ""
             }
            },
            "type": "scatterternary"
           }
          ],
          "surface": [
           {
            "colorbar": {
             "outlinewidth": 0,
             "ticks": ""
            },
            "colorscale": [
             [
              0,
              "#0d0887"
             ],
             [
              0.1111111111111111,
              "#46039f"
             ],
             [
              0.2222222222222222,
              "#7201a8"
             ],
             [
              0.3333333333333333,
              "#9c179e"
             ],
             [
              0.4444444444444444,
              "#bd3786"
             ],
             [
              0.5555555555555556,
              "#d8576b"
             ],
             [
              0.6666666666666666,
              "#ed7953"
             ],
             [
              0.7777777777777778,
              "#fb9f3a"
             ],
             [
              0.8888888888888888,
              "#fdca26"
             ],
             [
              1,
              "#f0f921"
             ]
            ],
            "type": "surface"
           }
          ],
          "table": [
           {
            "cells": {
             "fill": {
              "color": "#EBF0F8"
             },
             "line": {
              "color": "white"
             }
            },
            "header": {
             "fill": {
              "color": "#C8D4E3"
             },
             "line": {
              "color": "white"
             }
            },
            "type": "table"
           }
          ]
         },
         "layout": {
          "annotationdefaults": {
           "arrowcolor": "#2a3f5f",
           "arrowhead": 0,
           "arrowwidth": 1
          },
          "autotypenumbers": "strict",
          "coloraxis": {
           "colorbar": {
            "outlinewidth": 0,
            "ticks": ""
           }
          },
          "colorscale": {
           "diverging": [
            [
             0,
             "#8e0152"
            ],
            [
             0.1,
             "#c51b7d"
            ],
            [
             0.2,
             "#de77ae"
            ],
            [
             0.3,
             "#f1b6da"
            ],
            [
             0.4,
             "#fde0ef"
            ],
            [
             0.5,
             "#f7f7f7"
            ],
            [
             0.6,
             "#e6f5d0"
            ],
            [
             0.7,
             "#b8e186"
            ],
            [
             0.8,
             "#7fbc41"
            ],
            [
             0.9,
             "#4d9221"
            ],
            [
             1,
             "#276419"
            ]
           ],
           "sequential": [
            [
             0,
             "#0d0887"
            ],
            [
             0.1111111111111111,
             "#46039f"
            ],
            [
             0.2222222222222222,
             "#7201a8"
            ],
            [
             0.3333333333333333,
             "#9c179e"
            ],
            [
             0.4444444444444444,
             "#bd3786"
            ],
            [
             0.5555555555555556,
             "#d8576b"
            ],
            [
             0.6666666666666666,
             "#ed7953"
            ],
            [
             0.7777777777777778,
             "#fb9f3a"
            ],
            [
             0.8888888888888888,
             "#fdca26"
            ],
            [
             1,
             "#f0f921"
            ]
           ],
           "sequentialminus": [
            [
             0,
             "#0d0887"
            ],
            [
             0.1111111111111111,
             "#46039f"
            ],
            [
             0.2222222222222222,
             "#7201a8"
            ],
            [
             0.3333333333333333,
             "#9c179e"
            ],
            [
             0.4444444444444444,
             "#bd3786"
            ],
            [
             0.5555555555555556,
             "#d8576b"
            ],
            [
             0.6666666666666666,
             "#ed7953"
            ],
            [
             0.7777777777777778,
             "#fb9f3a"
            ],
            [
             0.8888888888888888,
             "#fdca26"
            ],
            [
             1,
             "#f0f921"
            ]
           ]
          },
          "colorway": [
           "#636efa",
           "#EF553B",
           "#00cc96",
           "#ab63fa",
           "#FFA15A",
           "#19d3f3",
           "#FF6692",
           "#B6E880",
           "#FF97FF",
           "#FECB52"
          ],
          "font": {
           "color": "#2a3f5f"
          },
          "geo": {
           "bgcolor": "white",
           "lakecolor": "white",
           "landcolor": "#E5ECF6",
           "showlakes": true,
           "showland": true,
           "subunitcolor": "white"
          },
          "hoverlabel": {
           "align": "left"
          },
          "hovermode": "closest",
          "mapbox": {
           "style": "light"
          },
          "paper_bgcolor": "white",
          "plot_bgcolor": "#E5ECF6",
          "polar": {
           "angularaxis": {
            "gridcolor": "white",
            "linecolor": "white",
            "ticks": ""
           },
           "bgcolor": "#E5ECF6",
           "radialaxis": {
            "gridcolor": "white",
            "linecolor": "white",
            "ticks": ""
           }
          },
          "scene": {
           "xaxis": {
            "backgroundcolor": "#E5ECF6",
            "gridcolor": "white",
            "gridwidth": 2,
            "linecolor": "white",
            "showbackground": true,
            "ticks": "",
            "zerolinecolor": "white"
           },
           "yaxis": {
            "backgroundcolor": "#E5ECF6",
            "gridcolor": "white",
            "gridwidth": 2,
            "linecolor": "white",
            "showbackground": true,
            "ticks": "",
            "zerolinecolor": "white"
           },
           "zaxis": {
            "backgroundcolor": "#E5ECF6",
            "gridcolor": "white",
            "gridwidth": 2,
            "linecolor": "white",
            "showbackground": true,
            "ticks": "",
            "zerolinecolor": "white"
           }
          },
          "shapedefaults": {
           "line": {
            "color": "#2a3f5f"
           }
          },
          "ternary": {
           "aaxis": {
            "gridcolor": "white",
            "linecolor": "white",
            "ticks": ""
           },
           "baxis": {
            "gridcolor": "white",
            "linecolor": "white",
            "ticks": ""
           },
           "bgcolor": "#E5ECF6",
           "caxis": {
            "gridcolor": "white",
            "linecolor": "white",
            "ticks": ""
           }
          },
          "title": {
           "x": 0.05
          },
          "xaxis": {
           "automargin": true,
           "gridcolor": "white",
           "linecolor": "white",
           "ticks": "",
           "title": {
            "standoff": 15
           },
           "zerolinecolor": "white",
           "zerolinewidth": 2
          },
          "yaxis": {
           "automargin": true,
           "gridcolor": "white",
           "linecolor": "white",
           "ticks": "",
           "title": {
            "standoff": 15
           },
           "zerolinecolor": "white",
           "zerolinewidth": 2
          }
         }
        },
        "title": {
         "text": "TSNE"
        },
        "width": 1000,
        "xaxis": {
         "anchor": "y",
         "domain": [
          0,
          1
         ],
         "title": {
          "text": "x"
         }
        },
        "yaxis": {
         "anchor": "x",
         "domain": [
          0,
          1
         ],
         "title": {
          "text": "y"
         }
        }
       }
      }
     },
     "metadata": {},
     "output_type": "display_data"
    }
   ],
   "source": [
    "fig = px.scatter(x=tsne_projection[0], y=tsne_projection[1], text=tsne_projection.droplevel(0).index)\n",
    "fig.update_traces(textposition='top center')\n",
    "fig.update_layout(height=1000, width=1000, title_text='TSNE')\n",
    "fig.show()"
   ]
  },
  {
   "cell_type": "markdown",
   "metadata": {},
   "source": [
    "# Cluster"
   ]
  },
  {
   "cell_type": "code",
   "execution_count": 16,
   "metadata": {},
   "outputs": [],
   "source": [
    "range_n_cluster = list(range(10,34))\n",
    "silhoutte_score = []\n",
    "best_cluster_model = None \n",
    "\n",
    "for n_clusters in range_n_cluster:\n",
    "    cluster_model  = AgglomerativeClustering(n_clusters=n_clusters, linkage='ward')\n",
    "    cluster_labels = cluster_model.fit_predict(tsne_projection)\n",
    "    \n",
    "    silhouette_avg = silhouette_score(tsne_projection, cluster_labels)\n",
    "    silhoutte_score += [silhouette_avg]\n",
    "    \n",
    "    if silhouette_avg >= np.max(silhoutte_score):\n",
    "        best_cluster_model = cluster_model"
   ]
  },
  {
   "cell_type": "code",
   "execution_count": 17,
   "metadata": {},
   "outputs": [
    {
     "data": {
      "text/plain": [
       "<matplotlib.lines.Line2D at 0x26f632ce8d0>"
      ]
     },
     "execution_count": 17,
     "metadata": {},
     "output_type": "execute_result"
    },
    {
     "data": {
      "image/png": "[encoded data removed]",
      "text/plain": [
       "<Figure size 640x480 with 1 Axes>"
      ]
     },
     "metadata": {},
     "output_type": "display_data"
    }
   ],
   "source": [
    "plt.plot(range_n_cluster, silhoutte_score)\n",
    "plt.axvline(best_cluster_model.n_clusters, color='black')"
   ]
  },
  {
   "cell_type": "code",
   "execution_count": 20,
   "metadata": {},
   "outputs": [],
   "source": [
    "cluster_labels = [\"skills_group_\" + str(label) \n",
    "                 for label in best_cluster_model.labels_]"
   ]
  },
  {
   "cell_type": "code",
   "execution_count": 21,
   "metadata": {},
   "outputs": [
    {
     "data": {
      "application/vnd.plotly.v1+json": {
       "config": {
        "plotlyServerURL": "https://plot.ly"
       },
       "data": [
        {
         "hovertemplate": "color=skills_group_7<br>x=%{x}<br>y=%{y}<br>text=%{text}<extra></extra>",
         "legendgroup": "skills_group_7",
         "marker": {
          "color": "#636efa",
          "symbol": "circle"
         },
         "mode": "markers+text",
         "name": "skills_group_7",
         "orientation": "v",
         "showlegend": true,
         "text": [
          "Ada",
          "Apex",
          "Clojure",
          "Crystal",
          "MicroPython",
          "Nim",
          "Solidity",
          "Zephyr",
          "Zig",
          "Datomic"
         ],
         "textposition": "top center",
         "type": "scatter",
         "x": [
          -0.2618153989315033,
          0.6639609932899475,
          4.345539569854736,
          0.9483242034912109,
          -2.117264986038208,
          1.049654483795166,
          -4.059190273284912,
          -1.6652984619140625,
          2.1885721683502197,
          3.7187676429748535
         ],
         "xaxis": "x",
         "y": [
          -3.7044596672058105,
          -2.514741897583008,
          -2.714266777038574,
          -5.647304534912109,
          -7.714212894439697,
          -6.385379791259766,
          -5.147110462188721,
          -5.774132251739502,
          -7.092288494110107,
          -2.51715350151062
         ],
         "yaxis": "y"
        },
        {
         "hovertemplate": "color=skills_group_15<br>x=%{x}<br>y=%{y}<br>text=%{text}<extra></extra>",
         "legendgroup": "skills_group_15",
         "marker": {
          "color": "#EF553B",
          "symbol": "circle"
         },
         "mode": "markers+text",
         "name": "skills_group_15",
         "orientation": "v",
         "showlegend": true,
         "text": [
          "Assembly",
          "C",
          "C++",
          "MATLAB",
          "GTK",
          "Qt",
          "Google Test",
          "Ninja"
         ],
         "textposition": "top center",
         "type": "scatter",
         "x": [
          0.8058539628982544,
          -0.26807767152786255,
          -0.1204724833369255,
          -3.6225979328155518,
          2.722243547439575,
          1.379781723022461,
          -0.7831636071205139,
          -0.7530170679092407
         ],
         "xaxis": "x",
         "y": [
          -17.010982513427734,
          -18.045249938964844,
          -19.003629684448242,
          -19.496234893798828,
          -19.97852897644043,
          -19.915220260620117,
          -21.747215270996094,
          -20.60861587524414
         ],
         "yaxis": "y"
        },
        {
         "hovertemplate": "color=skills_group_8<br>x=%{x}<br>y=%{y}<br>text=%{text}<extra></extra>",
         "legendgroup": "skills_group_8",
         "marker": {
          "color": "#00cc96",
          "symbol": "circle"
         },
         "mode": "markers+text",
         "name": "skills_group_8",
         "orientation": "v",
         "showlegend": true,
         "text": [
          "Bash/Shell (all shells)",
          "Lua",
          "Python",
          "Ruff",
          "APT",
          "Make",
          "Pacman",
          "Pip"
         ],
         "textposition": "top center",
         "type": "scatter",
         "x": [
          -5.327026844024658,
          -1.0909538269042969,
          -7.582670211791992,
          -9.875341415405273,
          -4.468047618865967,
          -2.1275603771209717,
          -1.9505587816238403,
          -7.497189998626709
         ],
         "xaxis": "x",
         "y": [
          -13.927618980407715,
          -12.865813255310059,
          -14.85120677947998,
          -14.188315391540527,
          -15.958605766296387,
          -16.448471069335938,
          -14.36788272857666,
          -15.52135944366455
         ],
         "yaxis": "y"
        },
        {
         "hovertemplate": "color=skills_group_6<br>x=%{x}<br>y=%{y}<br>text=%{text}<extra></extra>",
         "legendgroup": "skills_group_6",
         "marker": {
          "color": "#ab63fa",
          "symbol": "circle"
         },
         "mode": "markers+text",
         "name": "skills_group_6",
         "orientation": "v",
         "showlegend": true,
         "text": [
          "C#",
          "F#",
          "PowerShell",
          "Cosmos DB",
          "Microsoft SQL Server",
          ".NET (5+) ",
          ".NET Framework (1.0 - 4.8)",
          ".NET MAUI",
          "Roslyn",
          "Xamarin",
          "Chocolatey",
          "MSBuild",
          "NuGet",
          "Visual Studio Solution"
         ],
         "textposition": "top center",
         "type": "scatter",
         "x": [
          20.936046600341797,
          15.164812088012695,
          20.013368606567383,
          22.962495803833008,
          19.358474731445312,
          21.004701614379883,
          20.484127044677734,
          23.764467239379883,
          24.710250854492188,
          23.39279556274414,
          20.017786026000977,
          22.98316192626953,
          22.03196144104004,
          22.278255462646484
         ],
         "xaxis": "x",
         "y": [
          -4.69437837600708,
          -3.176957368850708,
          -1.9216388463974,
          -1.7923704385757446,
          -4.308959007263184,
          -3.9586689472198486,
          -5.990588188171387,
          -8.844986915588379,
          -4.191073894500732,
          -9.351119041442871,
          -0.4420429766178131,
          -4.630859851837158,
          -3.6936044692993164,
          -6.015767574310303
         ],
         "yaxis": "y"
        },
        {
         "hovertemplate": "color=skills_group_13<br>x=%{x}<br>y=%{y}<br>text=%{text}<extra></extra>",
         "legendgroup": "skills_group_13",
         "marker": {
          "color": "#FFA15A",
          "symbol": "circle"
         },
         "mode": "markers+text",
         "name": "skills_group_13",
         "orientation": "v",
         "showlegend": true,
         "text": [
          "Cobol",
          "Fortran",
          "Julia",
          "Perl",
          "IBM DB2"
         ],
         "textposition": "top center",
         "type": "scatter",
         "x": [
          6.646451950073242,
          5.190745830535889,
          3.3987443447113037,
          3.4418742656707764,
          7.49586820602417
         ],
         "xaxis": "x",
         "y": [
          -11.440264701843262,
          -11.761262893676758,
          -10.718689918518066,
          -14.704282760620117,
          -11.34528636932373
         ],
         "yaxis": "y"
        },
        {
         "hovertemplate": "color=skills_group_4<br>x=%{x}<br>y=%{y}<br>text=%{text}<extra></extra>",
         "legendgroup": "skills_group_4",
         "marker": {
          "color": "#19d3f3",
          "symbol": "circle"
         },
         "mode": "markers+text",
         "name": "skills_group_4",
         "orientation": "v",
         "showlegend": true,
         "text": [
          "Dart",
          "Objective-C",
          "Swift",
          "Cloud Firestore",
          "Firebase Realtime Database",
          "Flutter",
          "SwiftUI"
         ],
         "textposition": "top center",
         "type": "scatter",
         "x": [
          1.2317819595336914,
          5.728211402893066,
          4.497419834136963,
          2.887493133544922,
          2.645008087158203,
          1.665829062461853,
          3.9002721309661865
         ],
         "xaxis": "x",
         "y": [
          25.774005889892578,
          29.845375061035156,
          29.83899688720703,
          23.08028221130371,
          22.64377784729004,
          25.757726669311523,
          29.878055572509766
         ],
         "yaxis": "y"
        },
        {
         "hovertemplate": "color=skills_group_11<br>x=%{x}<br>y=%{y}<br>text=%{text}<extra></extra>",
         "legendgroup": "skills_group_11",
         "marker": {
          "color": "#FF6692",
          "symbol": "circle"
         },
         "mode": "markers+text",
         "name": "skills_group_11",
         "orientation": "v",
         "showlegend": true,
         "text": [
          "Delphi",
          "VBA",
          "Visual Basic (.Net)",
          "Firebird",
          "Microsoft Access"
         ],
         "textposition": "top center",
         "type": "scatter",
         "x": [
          12.753957748413086,
          17.34764289855957,
          18.052717208862305,
          12.398590087890625,
          16.560741424560547
         ],
         "xaxis": "x",
         "y": [
          -12.857073783874512,
          -9.524480819702148,
          -8.52885913848877,
          -12.58743953704834,
          -9.389745712280273
         ],
         "yaxis": "y"
        },
        {
         "hovertemplate": "color=skills_group_9<br>x=%{x}<br>y=%{y}<br>text=%{text}<extra></extra>",
         "legendgroup": "skills_group_9",
         "marker": {
          "color": "#B6E880",
          "symbol": "circle"
         },
         "mode": "markers+text",
         "name": "skills_group_9",
         "orientation": "v",
         "showlegend": true,
         "text": [
          "Elixir",
          "Erlang",
          "Haskell",
          "Lisp",
          "OCaml",
          "Prolog"
         ],
         "textposition": "top center",
         "type": "scatter",
         "x": [
          7.831145286560059,
          7.709216117858887,
          8.268157005310059,
          6.520854473114014,
          9.032280921936035,
          7.1408209800720215
         ],
         "xaxis": "x",
         "y": [
          1.0837026834487915,
          0.6181411743164062,
          -3.803093910217285,
          -4.6600165367126465,
          -4.1307053565979,
          -5.526062488555908
         ],
         "yaxis": "y"
        },
        {
         "hovertemplate": "color=skills_group_3<br>x=%{x}<br>y=%{y}<br>text=%{text}<extra></extra>",
         "legendgroup": "skills_group_3",
         "marker": {
          "color": "#FF97FF",
          "symbol": "circle"
         },
         "mode": "markers+text",
         "name": "skills_group_3",
         "orientation": "v",
         "showlegend": true,
         "text": [
          "GDScript",
          "DirectX",
          "MFC",
          "OpenCL",
          "OpenGL",
          "Godot",
          "Unity 3D",
          "Unreal Engine"
         ],
         "textposition": "top center",
         "type": "scatter",
         "x": [
          10.093413352966309,
          6.533731937408447,
          7.051598072052002,
          4.973918437957764,
          5.698771953582764,
          10.04358196258545,
          10.951539993286133,
          10.428977012634277
         ],
         "xaxis": "x",
         "y": [
          -27.914941787719727,
          -21.43977165222168,
          -19.216054916381836,
          -22.85793685913086,
          -22.15976333618164,
          -27.470645904541016,
          -23.36970329284668,
          -23.224103927612305
         ],
         "yaxis": "y"
        },
        {
         "hovertemplate": "color=skills_group_16<br>x=%{x}<br>y=%{y}<br>text=%{text}<extra></extra>",
         "legendgroup": "skills_group_16",
         "marker": {
          "color": "#FECB52",
          "symbol": "circle"
         },
         "mode": "markers+text",
         "name": "skills_group_16",
         "orientation": "v",
         "showlegend": true,
         "text": [
          "Go",
          "Ruby",
          "Elasticsearch",
          "PostgreSQL",
          "Redis",
          "RabbitMQ",
          "Docker",
          "Homebrew"
         ],
         "textposition": "top center",
         "type": "scatter",
         "x": [
          -10.502679824829102,
          -5.2925286293029785,
          -8.223729133605957,
          -7.789817810058594,
          -7.7510576248168945,
          -6.356112003326416,
          -8.921710968017578,
          -7.0935587882995605
         ],
         "xaxis": "x",
         "y": [
          11.684080123901367,
          11.774432182312012,
          6.941951751708984,
          10.206886291503906,
          8.254058837890625,
          7.880221366882324,
          10.192130088806152,
          12.591695785522461
         ],
         "yaxis": "y"
        },
        {
         "hovertemplate": "color=skills_group_0<br>x=%{x}<br>y=%{y}<br>text=%{text}<extra></extra>",
         "legendgroup": "skills_group_0",
         "marker": {
          "color": "#636efa",
          "symbol": "circle"
         },
         "mode": "markers+text",
         "name": "skills_group_0",
         "orientation": "v",
         "showlegend": true,
         "text": [
          "Groovy",
          "Java",
          "Kotlin",
          "H2",
          "Oracle",
          "Ktor",
          "Quarkus",
          "Spring Framework",
          "Ant",
          "Dagger",
          "Gradle",
          "Maven (build tool)"
         ],
         "textposition": "top center",
         "type": "scatter",
         "x": [
          -8.785438537597656,
          -8.749017715454102,
          -5.887487888336182,
          -11.402816772460938,
          -7.633640289306641,
          -5.5859198570251465,
          -12.799141883850098,
          -10.050929069519043,
          -9.888401985168457,
          -4.353506088256836,
          -6.845621585845947,
          -9.595844268798828
         ],
         "xaxis": "x",
         "y": [
          26.474699020385742,
          23.94466781616211,
          27.05483055114746,
          24.244001388549805,
          22.37480354309082,
          28.42392349243164,
          23.616418838500977,
          24.28959083557129,
          21.592966079711914,
          27.0289363861084,
          26.354679107666016,
          23.410554885864258
         ],
         "yaxis": "y"
        },
        {
         "hovertemplate": "color=skills_group_2<br>x=%{x}<br>y=%{y}<br>text=%{text}<extra></extra>",
         "legendgroup": "skills_group_2",
         "marker": {
          "color": "#EF553B",
          "symbol": "circle"
         },
         "mode": "markers+text",
         "name": "skills_group_2",
         "orientation": "v",
         "showlegend": true,
         "text": [
          "HTML/CSS",
          "JavaScript",
          "TypeScript",
          "MongoDB",
          "Supabase",
          "Electron",
          "React Native",
          "Bun",
          "Vite",
          "Webpack",
          "Yarn",
          "npm",
          "pnpm"
         ],
         "textposition": "top center",
         "type": "scatter",
         "x": [
          6.3362603187561035,
          5.582911968231201,
          4.188390254974365,
          1.470238447189331,
          4.407886028289795,
          3.9339466094970703,
          0.48783180117607117,
          5.733215808868408,
          4.188868522644043,
          2.43328857421875,
          1.5314390659332275,
          3.6414971351623535,
          4.267937183380127
         ],
         "xaxis": "x",
         "y": [
          12.856559753417969,
          13.121479988098145,
          14.415026664733887,
          11.855569839477539,
          19.06733512878418,
          8.905004501342773,
          16.51207733154297,
          17.590065002441406,
          16.181873321533203,
          14.916322708129883,
          15.4028959274292,
          13.642876625061035,
          17.400634765625
         ],
         "yaxis": "y"
        },
        {
         "hovertemplate": "color=skills_group_10<br>x=%{x}<br>y=%{y}<br>text=%{text}<extra></extra>",
         "legendgroup": "skills_group_10",
         "marker": {
          "color": "#00cc96",
          "symbol": "circle"
         },
         "mode": "markers+text",
         "name": "skills_group_10",
         "orientation": "v",
         "showlegend": true,
         "text": [
          "PHP",
          "SQL",
          "MariaDB",
          "MySQL",
          "SQLite",
          "Composer"
         ],
         "textposition": "top center",
         "type": "scatter",
         "x": [
          11.426839828491211,
          8.559338569641113,
          12.506945610046387,
          10.906453132629395,
          11.259626388549805,
          11.444061279296875
         ],
         "xaxis": "x",
         "y": [
          13.709264755249023,
          10.864724159240723,
          12.951168060302734,
          12.377111434936523,
          10.572883605957031,
          14.53882122039795
         ],
         "yaxis": "y"
        },
        {
         "hovertemplate": "color=skills_group_18<br>x=%{x}<br>y=%{y}<br>text=%{text}<extra></extra>",
         "legendgroup": "skills_group_18",
         "marker": {
          "color": "#ab63fa",
          "symbol": "circle"
         },
         "mode": "markers+text",
         "name": "skills_group_18",
         "orientation": "v",
         "showlegend": true,
         "text": [
          "R",
          "DuckDB",
          "Tidyverse"
         ],
         "textposition": "top center",
         "type": "scatter",
         "x": [
          -14.620121002197266,
          -12.792091369628906,
          -14.382657051086426
         ],
         "xaxis": "x",
         "y": [
          -11.480618476867676,
          -9.28658676147461,
          -11.015786170959473
         ],
         "yaxis": "y"
        },
        {
         "hovertemplate": "color=skills_group_19<br>x=%{x}<br>y=%{y}<br>text=%{text}<extra></extra>",
         "legendgroup": "skills_group_19",
         "marker": {
          "color": "#FFA15A",
          "symbol": "circle"
         },
         "mode": "markers+text",
         "name": "skills_group_19",
         "orientation": "v",
         "showlegend": true,
         "text": [
          "Rust",
          "Tauri",
          "Nix"
         ],
         "textposition": "top center",
         "type": "scatter",
         "x": [
          3.9378697872161865,
          3.9309778213500977,
          4.2306036949157715
         ],
         "xaxis": "x",
         "y": [
          5.56520938873291,
          6.569061279296875,
          4.0885820388793945
         ],
         "yaxis": "y"
        },
        {
         "hovertemplate": "color=skills_group_1<br>x=%{x}<br>y=%{y}<br>text=%{text}<extra></extra>",
         "legendgroup": "skills_group_1",
         "marker": {
          "color": "#19d3f3",
          "symbol": "circle"
         },
         "mode": "markers+text",
         "name": "skills_group_1",
         "orientation": "v",
         "showlegend": true,
         "text": [
          "Scala",
          "Cassandra",
          "Databricks SQL",
          "Neo4J",
          "Snowflake",
          "Apache Kafka",
          "Apache Spark",
          "Hadoop"
         ],
         "textposition": "top center",
         "type": "scatter",
         "x": [
          -14.076254844665527,
          -9.989837646484375,
          -14.61451530456543,
          -8.657021522521973,
          -15.877614974975586,
          -11.35508918762207,
          -13.426087379455566,
          -12.702376365661621
         ],
         "xaxis": "x",
         "y": [
          0.16170713305473328,
          2.589470863342285,
          -2.4856207370758057,
          4.319723129272461,
          -3.0828139781951904,
          2.5116939544677734,
          -1.2722887992858887,
          -1.4184882640838623
         ],
         "yaxis": "y"
        },
        {
         "hovertemplate": "color=skills_group_5<br>x=%{x}<br>y=%{y}<br>text=%{text}<extra></extra>",
         "legendgroup": "skills_group_5",
         "marker": {
          "color": "#FF6692",
          "symbol": "circle"
         },
         "mode": "markers+text",
         "name": "skills_group_5",
         "orientation": "v",
         "showlegend": true,
         "text": [
          "BigQuery",
          "Dynamodb",
          "InfluxDB",
          "Ansible",
          "Chef",
          "Kubernetes",
          "Podman",
          "Pulumi",
          "Puppet",
          "Terraform"
         ],
         "textposition": "top center",
         "type": "scatter",
         "x": [
          -14.319500923156738,
          -11.384676933288574,
          -15.438525199890137,
          -13.7830810546875,
          -18.673728942871094,
          -10.470480918884277,
          -13.017969131469727,
          -13.553084373474121,
          -18.64578628540039,
          -11.938488960266113
         ],
         "xaxis": "x",
         "y": [
          5.230980396270752,
          7.476607799530029,
          12.058670043945312,
          11.638222694396973,
          8.831456184387207,
          9.751501083374023,
          12.952524185180664,
          8.737129211425781,
          9.381143569946289,
          9.155591011047363
         ],
         "yaxis": "y"
        },
        {
         "hovertemplate": "color=skills_group_14<br>x=%{x}<br>y=%{y}<br>text=%{text}<extra></extra>",
         "legendgroup": "skills_group_14",
         "marker": {
          "color": "#B6E880",
          "symbol": "circle"
         },
         "mode": "markers+text",
         "name": "skills_group_14",
         "orientation": "v",
         "showlegend": true,
         "text": [
          "Clickhouse",
          "Cockroachdb",
          "Couch DB",
          "Couchbase",
          "EventStoreDB",
          "Presto",
          "RavenDB",
          "Solr",
          "TiDB"
         ],
         "textposition": "top center",
         "type": "scatter",
         "x": [
          -7.788322925567627,
          -4.786258697509766,
          -1.9065306186676025,
          -2.3613622188568115,
          -2.8465707302093506,
          -7.951763153076172,
          -2.5903842449188232,
          -5.083850383758545,
          -3.5321197509765625
         ],
         "xaxis": "x",
         "y": [
          0.04301309585571289,
          -1.1676990985870361,
          1.4876322746276855,
          1.121419072151184,
          -1.8192226886749268,
          -3.604710340499878,
          -2.740077495574951,
          4.160260200500488,
          -2.899686098098755
         ],
         "yaxis": "y"
        },
        {
         "hovertemplate": "color=skills_group_12<br>x=%{x}<br>y=%{y}<br>text=%{text}<extra></extra>",
         "legendgroup": "skills_group_12",
         "marker": {
          "color": "#FF97FF",
          "symbol": "circle"
         },
         "mode": "markers+text",
         "name": "skills_group_12",
         "orientation": "v",
         "showlegend": true,
         "text": [
          "CUDA",
          "Hugging Face Transformers",
          "JAX",
          "Keras",
          "NumPy",
          "Opencv",
          "Pandas",
          "Scikit-Learn",
          "TensorFlow",
          "Torch/PyTorch",
          "mlflow"
         ],
         "textposition": "top center",
         "type": "scatter",
         "x": [
          -13.787942886352539,
          -14.631237983703613,
          -13.04512882232666,
          -11.545406341552734,
          -10.701610565185547,
          -9.826032638549805,
          -11.027132034301758,
          -12.322733879089355,
          -11.74531078338623,
          -13.055902481079102,
          -13.973100662231445
         ],
         "xaxis": "x",
         "y": [
          -20.387413024902344,
          -18.502986907958984,
          -22.42137908935547,
          -20.4691162109375,
          -16.84380340576172,
          -19.05539321899414,
          -16.163959503173828,
          -17.31601333618164,
          -19.404460906982422,
          -19.01148223876953,
          -16.154821395874023
         ],
         "yaxis": "y"
        },
        {
         "hovertemplate": "color=skills_group_17<br>x=%{x}<br>y=%{y}<br>text=%{text}<extra></extra>",
         "legendgroup": "skills_group_17",
         "marker": {
          "color": "#FECB52",
          "symbol": "circle"
         },
         "mode": "markers+text",
         "name": "skills_group_17",
         "orientation": "v",
         "showlegend": true,
         "text": [
          "Capacitor",
          "Cordova",
          "Ionic"
         ],
         "textposition": "top center",
         "type": "scatter",
         "x": [
          10.331068992614746,
          10.953755378723145,
          10.985906600952148
         ],
         "xaxis": "x",
         "y": [
          21.24654769897461,
          22.452552795410156,
          21.453271865844727
         ],
         "yaxis": "y"
        }
       ],
       "layout": {
        "height": 800,
        "legend": {
         "title": {
          "text": "color"
         },
         "tracegroupgap": 0
        },
        "margin": {
         "t": 60
        },
        "template": {
         "data": {
          "bar": [
           {
            "error_x": {
             "color": "#2a3f5f"
            },
            "error_y": {
             "color": "#2a3f5f"
            },
            "marker": {
             "line": {
              "color": "#E5ECF6",
              "width": 0.5
             },
             "pattern": {
              "fillmode": "overlay",
              "size": 10,
              "solidity": 0.2
             }
            },
            "type": "bar"
           }
          ],
          "barpolar": [
           {
            "marker": {
             "line": {
              "color": "#E5ECF6",
              "width": 0.5
             },
             "pattern": {
              "fillmode": "overlay",
              "size": 10,
              "solidity": 0.2
             }
            },
            "type": "barpolar"
           }
          ],
          "carpet": [
           {
            "aaxis": {
             "endlinecolor": "#2a3f5f",
             "gridcolor": "white",
             "linecolor": "white",
             "minorgridcolor": "white",
             "startlinecolor": "#2a3f5f"
            },
            "baxis": {
             "endlinecolor": "#2a3f5f",
             "gridcolor": "white",
             "linecolor": "white",
             "minorgridcolor": "white",
             "startlinecolor": "#2a3f5f"
            },
            "type": "carpet"
           }
          ],
          "choropleth": [
           {
            "colorbar": {
             "outlinewidth": 0,
             "ticks": ""
            },
            "type": "choropleth"
           }
          ],
          "contour": [
           {
            "colorbar": {
             "outlinewidth": 0,
             "ticks": ""
            },
            "colorscale": [
             [
              0,
              "#0d0887"
             ],
             [
              0.1111111111111111,
              "#46039f"
             ],
             [
              0.2222222222222222,
              "#7201a8"
             ],
             [
              0.3333333333333333,
              "#9c179e"
             ],
             [
              0.4444444444444444,
              "#bd3786"
             ],
             [
              0.5555555555555556,
              "#d8576b"
             ],
             [
              0.6666666666666666,
              "#ed7953"
             ],
             [
              0.7777777777777778,
              "#fb9f3a"
             ],
             [
              0.8888888888888888,
              "#fdca26"
             ],
             [
              1,
              "#f0f921"
             ]
            ],
            "type": "contour"
           }
          ],
          "contourcarpet": [
           {
            "colorbar": {
             "outlinewidth": 0,
             "ticks": ""
            },
            "type": "contourcarpet"
           }
          ],
          "heatmap": [
           {
            "colorbar": {
             "outlinewidth": 0,
             "ticks": ""
            },
            "colorscale": [
             [
              0,
              "#0d0887"
             ],
             [
              0.1111111111111111,
              "#46039f"
             ],
             [
              0.2222222222222222,
              "#7201a8"
             ],
             [
              0.3333333333333333,
              "#9c179e"
             ],
             [
              0.4444444444444444,
              "#bd3786"
             ],
             [
              0.5555555555555556,
              "#d8576b"
             ],
             [
              0.6666666666666666,
              "#ed7953"
             ],
             [
              0.7777777777777778,
              "#fb9f3a"
             ],
             [
              0.8888888888888888,
              "#fdca26"
             ],
             [
              1,
              "#f0f921"
             ]
            ],
            "type": "heatmap"
           }
          ],
          "heatmapgl": [
           {
            "colorbar": {
             "outlinewidth": 0,
             "ticks": ""
            },
            "colorscale": [
             [
              0,
              "#0d0887"
             ],
             [
              0.1111111111111111,
              "#46039f"
             ],
             [
              0.2222222222222222,
              "#7201a8"
             ],
             [
              0.3333333333333333,
              "#9c179e"
             ],
             [
              0.4444444444444444,
              "#bd3786"
             ],
             [
              0.5555555555555556,
              "#d8576b"
             ],
             [
              0.6666666666666666,
              "#ed7953"
             ],
             [
              0.7777777777777778,
              "#fb9f3a"
             ],
             [
              0.8888888888888888,
              "#fdca26"
             ],
             [
              1,
              "#f0f921"
             ]
            ],
            "type": "heatmapgl"
           }
          ],
          "histogram": [
           {
            "marker": {
             "pattern": {
              "fillmode": "overlay",
              "size": 10,
              "solidity": 0.2
             }
            },
            "type": "histogram"
           }
          ],
          "histogram2d": [
           {
            "colorbar": {
             "outlinewidth": 0,
             "ticks": ""
            },
            "colorscale": [
             [
              0,
              "#0d0887"
             ],
             [
              0.1111111111111111,
              "#46039f"
             ],
             [
              0.2222222222222222,
              "#7201a8"
             ],
             [
              0.3333333333333333,
              "#9c179e"
             ],
             [
              0.4444444444444444,
              "#bd3786"
             ],
             [
              0.5555555555555556,
              "#d8576b"
             ],
             [
              0.6666666666666666,
              "#ed7953"
             ],
             [
              0.7777777777777778,
              "#fb9f3a"
             ],
             [
              0.8888888888888888,
              "#fdca26"
             ],
             [
              1,
              "#f0f921"
             ]
            ],
            "type": "histogram2d"
           }
          ],
          "histogram2dcontour": [
           {
            "colorbar": {
             "outlinewidth": 0,
             "ticks": ""
            },
            "colorscale": [
             [
              0,
              "#0d0887"
             ],
             [
              0.1111111111111111,
              "#46039f"
             ],
             [
              0.2222222222222222,
              "#7201a8"
             ],
             [
              0.3333333333333333,
              "#9c179e"
             ],
             [
              0.4444444444444444,
              "#bd3786"
             ],
             [
              0.5555555555555556,
              "#d8576b"
             ],
             [
              0.6666666666666666,
              "#ed7953"
             ],
             [
              0.7777777777777778,
              "#fb9f3a"
             ],
             [
              0.8888888888888888,
              "#fdca26"
             ],
             [
              1,
              "#f0f921"
             ]
            ],
            "type": "histogram2dcontour"
           }
          ],
          "mesh3d": [
           {
            "colorbar": {
             "outlinewidth": 0,
             "ticks": ""
            },
            "type": "mesh3d"
           }
          ],
          "parcoords": [
           {
            "line": {
             "colorbar": {
              "outlinewidth": 0,
              "ticks": ""
             }
            },
            "type": "parcoords"
           }
          ],
          "pie": [
           {
            "automargin": true,
            "type": "pie"
           }
          ],
          "scatter": [
           {
            "fillpattern": {
             "fillmode": "overlay",
             "size": 10,
             "solidity": 0.2
            },
            "type": "scatter"
           }
          ],
          "scatter3d": [
           {
            "line": {
             "colorbar": {
              "outlinewidth": 0,
              "ticks": ""
             }
            },
            "marker": {
             "colorbar": {
              "outlinewidth": 0,
              "ticks": ""
             }
            },
            "type": "scatter3d"
           }
          ],
          "scattercarpet": [
           {
            "marker": {
             "colorbar": {
              "outlinewidth": 0,
              "ticks": ""
             }
            },
            "type": "scattercarpet"
           }
          ],
          "scattergeo": [
           {
            "marker": {
             "colorbar": {
              "outlinewidth": 0,
              "ticks": ""
             }
            },
            "type": "scattergeo"
           }
          ],
          "scattergl": [
           {
            "marker": {
             "colorbar": {
              "outlinewidth": 0,
              "ticks": ""
             }
            },
            "type": "scattergl"
           }
          ],
          "scattermapbox": [
           {
            "marker": {
             "colorbar": {
              "outlinewidth": 0,
              "ticks": ""
             }
            },
            "type": "scattermapbox"
           }
          ],
          "scatterpolar": [
           {
            "marker": {
             "colorbar": {
              "outlinewidth": 0,
              "ticks": ""
             }
            },
            "type": "scatterpolar"
           }
          ],
          "scatterpolargl": [
           {
            "marker": {
             "colorbar": {
              "outlinewidth": 0,
              "ticks": ""
             }
            },
            "type": "scatterpolargl"
           }
          ],
          "scatterternary": [
           {
            "marker": {
             "colorbar": {
              "outlinewidth": 0,
              "ticks": ""
             }
            },
            "type": "scatterternary"
           }
          ],
          "surface": [
           {
            "colorbar": {
             "outlinewidth": 0,
             "ticks": ""
            },
            "colorscale": [
             [
              0,
              "#0d0887"
             ],
             [
              0.1111111111111111,
              "#46039f"
             ],
             [
              0.2222222222222222,
              "#7201a8"
             ],
             [
              0.3333333333333333,
              "#9c179e"
             ],
             [
              0.4444444444444444,
              "#bd3786"
             ],
             [
              0.5555555555555556,
              "#d8576b"
             ],
             [
              0.6666666666666666,
              "#ed7953"
             ],
             [
              0.7777777777777778,
              "#fb9f3a"
             ],
             [
              0.8888888888888888,
              "#fdca26"
             ],
             [
              1,
              "#f0f921"
             ]
            ],
            "type": "surface"
           }
          ],
          "table": [
           {
            "cells": {
             "fill": {
              "color": "#EBF0F8"
             },
             "line": {
              "color": "white"
             }
            },
            "header": {
             "fill": {
              "color": "#C8D4E3"
             },
             "line": {
              "color": "white"
             }
            },
            "type": "table"
           }
          ]
         },
         "layout": {
          "annotationdefaults": {
           "arrowcolor": "#2a3f5f",
           "arrowhead": 0,
           "arrowwidth": 1
          },
          "autotypenumbers": "strict",
          "coloraxis": {
           "colorbar": {
            "outlinewidth": 0,
            "ticks": ""
           }
          },
          "colorscale": {
           "diverging": [
            [
             0,
             "#8e0152"
            ],
            [
             0.1,
             "#c51b7d"
            ],
            [
             0.2,
             "#de77ae"
            ],
            [
             0.3,
             "#f1b6da"
            ],
            [
             0.4,
             "#fde0ef"
            ],
            [
             0.5,
             "#f7f7f7"
            ],
            [
             0.6,
             "#e6f5d0"
            ],
            [
             0.7,
             "#b8e186"
            ],
            [
             0.8,
             "#7fbc41"
            ],
            [
             0.9,
             "#4d9221"
            ],
            [
             1,
             "#276419"
            ]
           ],
           "sequential": [
            [
             0,
             "#0d0887"
            ],
            [
             0.1111111111111111,
             "#46039f"
            ],
            [
             0.2222222222222222,
             "#7201a8"
            ],
            [
             0.3333333333333333,
             "#9c179e"
            ],
            [
             0.4444444444444444,
             "#bd3786"
            ],
            [
             0.5555555555555556,
             "#d8576b"
            ],
            [
             0.6666666666666666,
             "#ed7953"
            ],
            [
             0.7777777777777778,
             "#fb9f3a"
            ],
            [
             0.8888888888888888,
             "#fdca26"
            ],
            [
             1,
             "#f0f921"
            ]
           ],
           "sequentialminus": [
            [
             0,
             "#0d0887"
            ],
            [
             0.1111111111111111,
             "#46039f"
            ],
            [
             0.2222222222222222,
             "#7201a8"
            ],
            [
             0.3333333333333333,
             "#9c179e"
            ],
            [
             0.4444444444444444,
             "#bd3786"
            ],
            [
             0.5555555555555556,
             "#d8576b"
            ],
            [
             0.6666666666666666,
             "#ed7953"
            ],
            [
             0.7777777777777778,
             "#fb9f3a"
            ],
            [
             0.8888888888888888,
             "#fdca26"
            ],
            [
             1,
             "#f0f921"
            ]
           ]
          },
          "colorway": [
           "#636efa",
           "#EF553B",
           "#00cc96",
           "#ab63fa",
           "#FFA15A",
           "#19d3f3",
           "#FF6692",
           "#B6E880",
           "#FF97FF",
           "#FECB52"
          ],
          "font": {
           "color": "#2a3f5f"
          },
          "geo": {
           "bgcolor": "white",
           "lakecolor": "white",
           "landcolor": "#E5ECF6",
           "showlakes": true,
           "showland": true,
           "subunitcolor": "white"
          },
          "hoverlabel": {
           "align": "left"
          },
          "hovermode": "closest",
          "mapbox": {
           "style": "light"
          },
          "paper_bgcolor": "white",
          "plot_bgcolor": "#E5ECF6",
          "polar": {
           "angularaxis": {
            "gridcolor": "white",
            "linecolor": "white",
            "ticks": ""
           },
           "bgcolor": "#E5ECF6",
           "radialaxis": {
            "gridcolor": "white",
            "linecolor": "white",
            "ticks": ""
           }
          },
          "scene": {
           "xaxis": {
            "backgroundcolor": "#E5ECF6",
            "gridcolor": "white",
            "gridwidth": 2,
            "linecolor": "white",
            "showbackground": true,
            "ticks": "",
            "zerolinecolor": "white"
           },
           "yaxis": {
            "backgroundcolor": "#E5ECF6",
            "gridcolor": "white",
            "gridwidth": 2,
            "linecolor": "white",
            "showbackground": true,
            "ticks": "",
            "zerolinecolor": "white"
           },
           "zaxis": {
            "backgroundcolor": "#E5ECF6",
            "gridcolor": "white",
            "gridwidth": 2,
            "linecolor": "white",
            "showbackground": true,
            "ticks": "",
            "zerolinecolor": "white"
           }
          },
          "shapedefaults": {
           "line": {
            "color": "#2a3f5f"
           }
          },
          "ternary": {
           "aaxis": {
            "gridcolor": "white",
            "linecolor": "white",
            "ticks": ""
           },
           "baxis": {
            "gridcolor": "white",
            "linecolor": "white",
            "ticks": ""
           },
           "bgcolor": "#E5ECF6",
           "caxis": {
            "gridcolor": "white",
            "linecolor": "white",
            "ticks": ""
           }
          },
          "title": {
           "x": 0.05
          },
          "xaxis": {
           "automargin": true,
           "gridcolor": "white",
           "linecolor": "white",
           "ticks": "",
           "title": {
            "standoff": 15
           },
           "zerolinecolor": "white",
           "zerolinewidth": 2
          },
          "yaxis": {
           "automargin": true,
           "gridcolor": "white",
           "linecolor": "white",
           "ticks": "",
           "title": {
            "standoff": 15
           },
           "zerolinecolor": "white",
           "zerolinewidth": 2
          }
         }
        },
        "title": {
         "text": "Cluster"
        },
        "width": 1200,
        "xaxis": {
         "anchor": "y",
         "domain": [
          0,
          1
         ],
         "title": {
          "text": "x"
         }
        },
        "yaxis": {
         "anchor": "x",
         "domain": [
          0,
          1
         ],
         "title": {
          "text": "y"
         }
        }
       }
      }
     },
     "metadata": {},
     "output_type": "display_data"
    }
   ],
   "source": [
    "fig = px.scatter(x=tsne_projection[0], \n",
    "                 y=tsne_projection[1], \n",
    "                 text=tsne_projection.droplevel(0).index, \n",
    "                 color=cluster_labels)\n",
    "fig.update_traces(textposition='top center')\n",
    "fig.update_layout(height=800, width=1200, title_text='Cluster')\n",
    "fig.show()"
   ]
  },
  {
   "cell_type": "code",
   "execution_count": 22,
   "metadata": {},
   "outputs": [],
   "source": [
    "skills_clusters = tsne_projection.index.droplevel(0).to_series().groupby(cluster_labels).apply(list)"
   ]
  },
  {
   "cell_type": "code",
   "execution_count": 23,
   "metadata": {},
   "outputs": [
    {
     "name": "stdout",
     "output_type": "stream",
     "text": [
      "skills_group_0\n",
      "['Groovy', 'Java', 'Kotlin', 'H2', 'Oracle', 'Ktor', 'Quarkus', 'Spring Framework', 'Ant', 'Dagger', 'Gradle', 'Maven (build tool)']\n",
      "skills_group_1\n",
      "['Scala', 'Cassandra', 'Databricks SQL', 'Neo4J', 'Snowflake', 'Apache Kafka', 'Apache Spark', 'Hadoop']\n",
      "skills_group_10\n",
      "['PHP', 'SQL', 'MariaDB', 'MySQL', 'SQLite', 'Composer']\n",
      "skills_group_11\n",
      "['Delphi', 'VBA', 'Visual Basic (.Net)', 'Firebird', 'Microsoft Access']\n",
      "skills_group_12\n",
      "['CUDA', 'Hugging Face Transformers', 'JAX', 'Keras', 'NumPy', 'Opencv', 'Pandas', 'Scikit-Learn', 'TensorFlow', 'Torch/PyTorch', 'mlflow']\n",
      "skills_group_13\n",
      "['Cobol', 'Fortran', 'Julia', 'Perl', 'IBM DB2']\n",
      "skills_group_14\n",
      "['Clickhouse', 'Cockroachdb', 'Couch DB', 'Couchbase', 'EventStoreDB', 'Presto', 'RavenDB', 'Solr', 'TiDB']\n",
      "skills_group_15\n",
      "['Assembly', 'C', 'C++', 'MATLAB', 'GTK', 'Qt', 'Google Test', 'Ninja']\n",
      "skills_group_16\n",
      "['Go', 'Ruby', 'Elasticsearch', 'PostgreSQL', 'Redis', 'RabbitMQ', 'Docker', 'Homebrew']\n",
      "skills_group_17\n",
      "['Capacitor', 'Cordova', 'Ionic']\n",
      "skills_group_18\n",
      "['R', 'DuckDB', 'Tidyverse']\n",
      "skills_group_19\n",
      "['Rust', 'Tauri', 'Nix']\n",
      "skills_group_2\n",
      "['HTML/CSS', 'JavaScript', 'TypeScript', 'MongoDB', 'Supabase', 'Electron', 'React Native', 'Bun', 'Vite', 'Webpack', 'Yarn', 'npm', 'pnpm']\n",
      "skills_group_3\n",
      "['GDScript', 'DirectX', 'MFC', 'OpenCL', 'OpenGL', 'Godot', 'Unity 3D', 'Unreal Engine']\n",
      "skills_group_4\n",
      "['Dart', 'Objective-C', 'Swift', 'Cloud Firestore', 'Firebase Realtime Database', 'Flutter', 'SwiftUI']\n",
      "skills_group_5\n",
      "['BigQuery', 'Dynamodb', 'InfluxDB', 'Ansible', 'Chef', 'Kubernetes', 'Podman', 'Pulumi', 'Puppet', 'Terraform']\n",
      "skills_group_6\n",
      "['C#', 'F#', 'PowerShell', 'Cosmos DB', 'Microsoft SQL Server', '.NET (5+) ', '.NET Framework (1.0 - 4.8)', '.NET MAUI', 'Roslyn', 'Xamarin', 'Chocolatey', 'MSBuild', 'NuGet', 'Visual Studio Solution']\n",
      "skills_group_7\n",
      "['Ada', 'Apex', 'Clojure', 'Crystal', 'MicroPython', 'Nim', 'Solidity', 'Zephyr', 'Zig', 'Datomic']\n",
      "skills_group_8\n",
      "['Bash/Shell (all shells)', 'Lua', 'Python', 'Ruff', 'APT', 'Make', 'Pacman', 'Pip']\n",
      "skills_group_9\n",
      "['Elixir', 'Erlang', 'Haskell', 'Lisp', 'OCaml', 'Prolog']\n"
     ]
    }
   ],
   "source": [
    "for cluster, skills in skills_clusters.items():\n",
    "    print(cluster)\n",
    "    print(skills)"
   ]
  },
  {
   "cell_type": "markdown",
   "metadata": {},
   "source": [
    "# Create new features"
   ]
  },
  {
   "cell_type": "code",
   "execution_count": 31,
   "metadata": {},
   "outputs": [
    {
     "data": {
      "text/plain": [
       "skills_group_0     [Groovy, Java, Kotlin, H2, Oracle, Ktor, Quark...\n",
       "skills_group_1     [Scala, Cassandra, Databricks SQL, Neo4J, Snow...\n",
       "skills_group_10         [PHP, SQL, MariaDB, MySQL, SQLite, Composer]\n",
       "skills_group_11    [Delphi, VBA, Visual Basic (.Net), Firebird, M...\n",
       "skills_group_12    [CUDA, Hugging Face Transformers, JAX, Keras, ...\n",
       "skills_group_13               [Cobol, Fortran, Julia, Perl, IBM DB2]\n",
       "skills_group_14    [Clickhouse, Cockroachdb, Couch DB, Couchbase,...\n",
       "skills_group_15    [Assembly, C, C++, MATLAB, GTK, Qt, Google Tes...\n",
       "skills_group_16    [Go, Ruby, Elasticsearch, PostgreSQL, Redis, R...\n",
       "skills_group_17                          [Capacitor, Cordova, Ionic]\n",
       "skills_group_18                               [R, DuckDB, Tidyverse]\n",
       "skills_group_19                                   [Rust, Tauri, Nix]\n",
       "skills_group_2     [HTML/CSS, JavaScript, TypeScript, MongoDB, Su...\n",
       "skills_group_3     [GDScript, DirectX, MFC, OpenCL, OpenGL, Godot...\n",
       "skills_group_4     [Dart, Objective-C, Swift, Cloud Firestore, Fi...\n",
       "skills_group_5     [BigQuery, Dynamodb, InfluxDB, Ansible, Chef, ...\n",
       "skills_group_6     [C#, F#, PowerShell, Cosmos DB, Microsoft SQL ...\n",
       "skills_group_7     [Ada, Apex, Clojure, Crystal, MicroPython, Nim...\n",
       "skills_group_8     [Bash/Shell (all shells), Lua, Python, Ruff, A...\n",
       "skills_group_9        [Elixir, Erlang, Haskell, Lisp, OCaml, Prolog]\n",
       "dtype: object"
      ]
     },
     "execution_count": 31,
     "metadata": {},
     "output_type": "execute_result"
    }
   ],
   "source": [
    "skills_clusters"
   ]
  },
  {
   "cell_type": "code",
   "execution_count": 32,
   "metadata": {},
   "outputs": [],
   "source": [
    "new_features = []\n",
    "\n",
    "for cluster, skills in skills_clusters.items():\n",
    "    cluster_sum = skills_ohe.droplevel(0, axis=1)[skills].sum(axis=1)\n",
    "    cluster_sum.name = cluster\n",
    "    new_features.append(cluster_sum)\n",
    "\n",
    "fe_clustered_skills = pd.concat(new_features, axis=1)"
   ]
  },
  {
   "cell_type": "code",
   "execution_count": 33,
   "metadata": {},
   "outputs": [
    {
     "data": {
      "text/html": [
       "<div>\n",
       "<style scoped>\n",
       "    .dataframe tbody tr th:only-of-type {\n",
       "        vertical-align: middle;\n",
       "    }\n",
       "\n",
       "    .dataframe tbody tr th {\n",
       "        vertical-align: top;\n",
       "    }\n",
       "\n",
       "    .dataframe thead th {\n",
       "        text-align: right;\n",
       "    }\n",
       "</style>\n",
       "<table border=\"1\" class=\"dataframe\">\n",
       "  <thead>\n",
       "    <tr style=\"text-align: right;\">\n",
       "      <th></th>\n",
       "      <th>skills_group_0</th>\n",
       "      <th>skills_group_1</th>\n",
       "      <th>skills_group_10</th>\n",
       "      <th>skills_group_11</th>\n",
       "      <th>skills_group_12</th>\n",
       "      <th>skills_group_13</th>\n",
       "      <th>skills_group_14</th>\n",
       "      <th>skills_group_15</th>\n",
       "      <th>skills_group_16</th>\n",
       "      <th>skills_group_17</th>\n",
       "      <th>skills_group_18</th>\n",
       "      <th>skills_group_19</th>\n",
       "      <th>skills_group_2</th>\n",
       "      <th>skills_group_3</th>\n",
       "      <th>skills_group_4</th>\n",
       "      <th>skills_group_5</th>\n",
       "      <th>skills_group_6</th>\n",
       "      <th>skills_group_7</th>\n",
       "      <th>skills_group_8</th>\n",
       "      <th>skills_group_9</th>\n",
       "    </tr>\n",
       "  </thead>\n",
       "  <tbody>\n",
       "    <tr>\n",
       "      <th>1</th>\n",
       "      <td>1</td>\n",
       "      <td>0</td>\n",
       "      <td>0</td>\n",
       "      <td>0</td>\n",
       "      <td>0</td>\n",
       "      <td>0</td>\n",
       "      <td>0</td>\n",
       "      <td>0</td>\n",
       "      <td>4</td>\n",
       "      <td>0</td>\n",
       "      <td>0</td>\n",
       "      <td>0</td>\n",
       "      <td>7</td>\n",
       "      <td>0</td>\n",
       "      <td>0</td>\n",
       "      <td>2</td>\n",
       "      <td>0</td>\n",
       "      <td>0</td>\n",
       "      <td>2</td>\n",
       "      <td>0</td>\n",
       "    </tr>\n",
       "    <tr>\n",
       "      <th>2</th>\n",
       "      <td>0</td>\n",
       "      <td>0</td>\n",
       "      <td>0</td>\n",
       "      <td>0</td>\n",
       "      <td>0</td>\n",
       "      <td>0</td>\n",
       "      <td>0</td>\n",
       "      <td>0</td>\n",
       "      <td>0</td>\n",
       "      <td>0</td>\n",
       "      <td>0</td>\n",
       "      <td>0</td>\n",
       "      <td>0</td>\n",
       "      <td>0</td>\n",
       "      <td>1</td>\n",
       "      <td>0</td>\n",
       "      <td>5</td>\n",
       "      <td>0</td>\n",
       "      <td>0</td>\n",
       "      <td>0</td>\n",
       "    </tr>\n",
       "    <tr>\n",
       "      <th>6</th>\n",
       "      <td>0</td>\n",
       "      <td>0</td>\n",
       "      <td>0</td>\n",
       "      <td>0</td>\n",
       "      <td>0</td>\n",
       "      <td>0</td>\n",
       "      <td>0</td>\n",
       "      <td>0</td>\n",
       "      <td>0</td>\n",
       "      <td>0</td>\n",
       "      <td>1</td>\n",
       "      <td>0</td>\n",
       "      <td>0</td>\n",
       "      <td>0</td>\n",
       "      <td>0</td>\n",
       "      <td>0</td>\n",
       "      <td>0</td>\n",
       "      <td>0</td>\n",
       "      <td>0</td>\n",
       "      <td>0</td>\n",
       "    </tr>\n",
       "    <tr>\n",
       "      <th>9</th>\n",
       "      <td>0</td>\n",
       "      <td>0</td>\n",
       "      <td>1</td>\n",
       "      <td>0</td>\n",
       "      <td>0</td>\n",
       "      <td>0</td>\n",
       "      <td>0</td>\n",
       "      <td>0</td>\n",
       "      <td>2</td>\n",
       "      <td>0</td>\n",
       "      <td>0</td>\n",
       "      <td>0</td>\n",
       "      <td>6</td>\n",
       "      <td>0</td>\n",
       "      <td>0</td>\n",
       "      <td>0</td>\n",
       "      <td>0</td>\n",
       "      <td>0</td>\n",
       "      <td>0</td>\n",
       "      <td>0</td>\n",
       "    </tr>\n",
       "    <tr>\n",
       "      <th>11</th>\n",
       "      <td>1</td>\n",
       "      <td>0</td>\n",
       "      <td>2</td>\n",
       "      <td>4</td>\n",
       "      <td>0</td>\n",
       "      <td>0</td>\n",
       "      <td>0</td>\n",
       "      <td>2</td>\n",
       "      <td>3</td>\n",
       "      <td>0</td>\n",
       "      <td>0</td>\n",
       "      <td>0</td>\n",
       "      <td>6</td>\n",
       "      <td>0</td>\n",
       "      <td>0</td>\n",
       "      <td>0</td>\n",
       "      <td>6</td>\n",
       "      <td>0</td>\n",
       "      <td>0</td>\n",
       "      <td>0</td>\n",
       "    </tr>\n",
       "    <tr>\n",
       "      <th>...</th>\n",
       "      <td>...</td>\n",
       "      <td>...</td>\n",
       "      <td>...</td>\n",
       "      <td>...</td>\n",
       "      <td>...</td>\n",
       "      <td>...</td>\n",
       "      <td>...</td>\n",
       "      <td>...</td>\n",
       "      <td>...</td>\n",
       "      <td>...</td>\n",
       "      <td>...</td>\n",
       "      <td>...</td>\n",
       "      <td>...</td>\n",
       "      <td>...</td>\n",
       "      <td>...</td>\n",
       "      <td>...</td>\n",
       "      <td>...</td>\n",
       "      <td>...</td>\n",
       "      <td>...</td>\n",
       "      <td>...</td>\n",
       "    </tr>\n",
       "    <tr>\n",
       "      <th>65428</th>\n",
       "      <td>0</td>\n",
       "      <td>0</td>\n",
       "      <td>0</td>\n",
       "      <td>0</td>\n",
       "      <td>0</td>\n",
       "      <td>0</td>\n",
       "      <td>0</td>\n",
       "      <td>0</td>\n",
       "      <td>0</td>\n",
       "      <td>0</td>\n",
       "      <td>0</td>\n",
       "      <td>0</td>\n",
       "      <td>0</td>\n",
       "      <td>0</td>\n",
       "      <td>0</td>\n",
       "      <td>0</td>\n",
       "      <td>0</td>\n",
       "      <td>0</td>\n",
       "      <td>0</td>\n",
       "      <td>0</td>\n",
       "    </tr>\n",
       "    <tr>\n",
       "      <th>65431</th>\n",
       "      <td>6</td>\n",
       "      <td>0</td>\n",
       "      <td>3</td>\n",
       "      <td>1</td>\n",
       "      <td>0</td>\n",
       "      <td>0</td>\n",
       "      <td>1</td>\n",
       "      <td>2</td>\n",
       "      <td>3</td>\n",
       "      <td>1</td>\n",
       "      <td>0</td>\n",
       "      <td>0</td>\n",
       "      <td>5</td>\n",
       "      <td>0</td>\n",
       "      <td>2</td>\n",
       "      <td>1</td>\n",
       "      <td>7</td>\n",
       "      <td>0</td>\n",
       "      <td>2</td>\n",
       "      <td>0</td>\n",
       "    </tr>\n",
       "    <tr>\n",
       "      <th>65432</th>\n",
       "      <td>0</td>\n",
       "      <td>0</td>\n",
       "      <td>0</td>\n",
       "      <td>0</td>\n",
       "      <td>0</td>\n",
       "      <td>0</td>\n",
       "      <td>0</td>\n",
       "      <td>0</td>\n",
       "      <td>0</td>\n",
       "      <td>0</td>\n",
       "      <td>0</td>\n",
       "      <td>0</td>\n",
       "      <td>0</td>\n",
       "      <td>0</td>\n",
       "      <td>0</td>\n",
       "      <td>0</td>\n",
       "      <td>0</td>\n",
       "      <td>0</td>\n",
       "      <td>0</td>\n",
       "      <td>0</td>\n",
       "    </tr>\n",
       "    <tr>\n",
       "      <th>65434</th>\n",
       "      <td>0</td>\n",
       "      <td>0</td>\n",
       "      <td>0</td>\n",
       "      <td>0</td>\n",
       "      <td>0</td>\n",
       "      <td>0</td>\n",
       "      <td>0</td>\n",
       "      <td>0</td>\n",
       "      <td>0</td>\n",
       "      <td>0</td>\n",
       "      <td>0</td>\n",
       "      <td>0</td>\n",
       "      <td>0</td>\n",
       "      <td>0</td>\n",
       "      <td>0</td>\n",
       "      <td>0</td>\n",
       "      <td>0</td>\n",
       "      <td>0</td>\n",
       "      <td>0</td>\n",
       "      <td>0</td>\n",
       "    </tr>\n",
       "    <tr>\n",
       "      <th>65435</th>\n",
       "      <td>0</td>\n",
       "      <td>0</td>\n",
       "      <td>2</td>\n",
       "      <td>0</td>\n",
       "      <td>0</td>\n",
       "      <td>0</td>\n",
       "      <td>0</td>\n",
       "      <td>3</td>\n",
       "      <td>3</td>\n",
       "      <td>0</td>\n",
       "      <td>0</td>\n",
       "      <td>1</td>\n",
       "      <td>1</td>\n",
       "      <td>1</td>\n",
       "      <td>1</td>\n",
       "      <td>2</td>\n",
       "      <td>0</td>\n",
       "      <td>0</td>\n",
       "      <td>5</td>\n",
       "      <td>0</td>\n",
       "    </tr>\n",
       "  </tbody>\n",
       "</table>\n",
       "<p>48495 rows × 20 columns</p>\n",
       "</div>"
      ],
      "text/plain": [
       "       skills_group_0  skills_group_1  skills_group_10  skills_group_11  \\\n",
       "1                   1               0                0                0   \n",
       "2                   0               0                0                0   \n",
       "6                   0               0                0                0   \n",
       "9                   0               0                1                0   \n",
       "11                  1               0                2                4   \n",
       "...               ...             ...              ...              ...   \n",
       "65428               0               0                0                0   \n",
       "65431               6               0                3                1   \n",
       "65432               0               0                0                0   \n",
       "65434               0               0                0                0   \n",
       "65435               0               0                2                0   \n",
       "\n",
       "       skills_group_12  skills_group_13  skills_group_14  skills_group_15  \\\n",
       "1                    0                0                0                0   \n",
       "2                    0                0                0                0   \n",
       "6                    0                0                0                0   \n",
       "9                    0                0                0                0   \n",
       "11                   0                0                0                2   \n",
       "...                ...              ...              ...              ...   \n",
       "65428                0                0                0                0   \n",
       "65431                0                0                1                2   \n",
       "65432                0                0                0                0   \n",
       "65434                0                0                0                0   \n",
       "65435                0                0                0                3   \n",
       "\n",
       "       skills_group_16  skills_group_17  skills_group_18  skills_group_19  \\\n",
       "1                    4                0                0                0   \n",
       "2                    0                0                0                0   \n",
       "6                    0                0                1                0   \n",
       "9                    2                0                0                0   \n",
       "11                   3                0                0                0   \n",
       "...                ...              ...              ...              ...   \n",
       "65428                0                0                0                0   \n",
       "65431                3                1                0                0   \n",
       "65432                0                0                0                0   \n",
       "65434                0                0                0                0   \n",
       "65435                3                0                0                1   \n",
       "\n",
       "       skills_group_2  skills_group_3  skills_group_4  skills_group_5  \\\n",
       "1                   7               0               0               2   \n",
       "2                   0               0               1               0   \n",
       "6                   0               0               0               0   \n",
       "9                   6               0               0               0   \n",
       "11                  6               0               0               0   \n",
       "...               ...             ...             ...             ...   \n",
       "65428               0               0               0               0   \n",
       "65431               5               0               2               1   \n",
       "65432               0               0               0               0   \n",
       "65434               0               0               0               0   \n",
       "65435               1               1               1               2   \n",
       "\n",
       "       skills_group_6  skills_group_7  skills_group_8  skills_group_9  \n",
       "1                   0               0               2               0  \n",
       "2                   5               0               0               0  \n",
       "6                   0               0               0               0  \n",
       "9                   0               0               0               0  \n",
       "11                  6               0               0               0  \n",
       "...               ...             ...             ...             ...  \n",
       "65428               0               0               0               0  \n",
       "65431               7               0               2               0  \n",
       "65432               0               0               0               0  \n",
       "65434               0               0               0               0  \n",
       "65435               0               0               5               0  \n",
       "\n",
       "[48495 rows x 20 columns]"
      ]
     },
     "execution_count": 33,
     "metadata": {},
     "output_type": "execute_result"
    }
   ],
   "source": [
    "fe_clustered_skills"
   ]
  },
  {
   "cell_type": "markdown",
   "metadata": {},
   "source": [
    "# Illustration Model\n"
   ]
  },
  {
   "cell_type": "markdown",
   "metadata": {},
   "source": [
    "Create train / test matrices"
   ]
  },
  {
   "cell_type": "code",
   "execution_count": 34,
   "metadata": {},
   "outputs": [],
   "source": [
    "combined_features_df = pd.concat([fe_clustered_skills, \n",
    "                                  skills_ohe.droplevel(0,axis=1)], \n",
    "                                 axis=1)\n",
    "roles_df = df_dev['DevType'].copy()"
   ]
  },
  {
   "cell_type": "code",
   "execution_count": 38,
   "metadata": {},
   "outputs": [],
   "source": [
    "X_train, X_test, Y_train, Y_test = train_test_split(combined_features_df, roles_df, test_size=0.2, random_state=0)"
   ]
  },
  {
   "cell_type": "markdown",
   "metadata": {},
   "source": [
    "# Compute samples weight to deal with classes imbalance"
   ]
  },
  {
   "cell_type": "code",
   "execution_count": 44,
   "metadata": {},
   "outputs": [
    {
     "data": {
      "text/plain": [
       "Academic researcher                              0.001002\n",
       "Blockchain                                       0.005236\n",
       "Cloud infrastructure engineer                    0.001721\n",
       "Data engineer                                    0.000956\n",
       "Data or business analyst                         0.002558\n",
       "Data scientist or machine learning specialist    0.001111\n",
       "Database administrator                           0.007812\n",
       "Designer                                         0.010000\n",
       "DevOps specialist                                0.001064\n",
       "Developer Advocate                               0.011364\n",
       "Developer Experience                             0.005236\n",
       "Developer, AI                                    0.002188\n",
       "Developer, QA or test                            0.002252\n",
       "Developer, back-end                              0.000108\n",
       "Developer, desktop or enterprise applications    0.000442\n",
       "Developer, embedded applications or devices      0.000672\n",
       "Developer, front-end                             0.000341\n",
       "Developer, full-stack                            0.000060\n",
       "Developer, game or graphics                      0.001969\n",
       "Developer, mobile                                0.000551\n",
       "Educator                                         0.004310\n",
       "Engineer, site reliability                       0.003610\n",
       "Engineering manager                              0.000914\n",
       "Hardware Engineer                                0.006410\n",
       "Marketing or sales professional                  0.024390\n",
       "Other (please specify):                          0.000688\n",
       "Product manager                                  0.004950\n",
       "Project manager                                  0.003597\n",
       "Research & Development role                      0.001189\n",
       "Scientist                                        0.003559\n",
       "Security professional                            0.003717\n",
       "Senior Executive (C-Suite, VP, etc.)             0.001431\n",
       "Student                                          0.001300\n",
       "System administrator                             0.002611\n",
       "dtype: float64"
      ]
     },
     "execution_count": 44,
     "metadata": {},
     "output_type": "execute_result"
    }
   ],
   "source": [
    "# Assign class weight as an inverse of its frequency \n",
    "class_weights = (1 / roles_df.sum(axis=0))\n",
    "class_weights"
   ]
  },
  {
   "cell_type": "code",
   "execution_count": 50,
   "metadata": {},
   "outputs": [
    {
     "data": {
      "text/plain": [
       "array([1.00200401e-03, 5.23560209e-03, 1.72117040e-03, 9.56022945e-04,\n",
       "       2.55754476e-03, 1.11111111e-03, 7.81250000e-03, 1.00000000e-02,\n",
       "       1.06382979e-03, 1.13636364e-02, 5.23560209e-03, 2.18818381e-03,\n",
       "       2.25225225e-03, 1.07968041e-04, 4.41696113e-04, 6.71591672e-04,\n",
       "       3.40831629e-04, 5.95450756e-05, 1.96850394e-03, 5.51267916e-04,\n",
       "       4.31034483e-03, 3.61010830e-03, 9.14076782e-04, 6.41025641e-03,\n",
       "       2.43902439e-02, 6.88231246e-04, 4.95049505e-03, 3.59712230e-03,\n",
       "       1.18906064e-03, 3.55871886e-03, 3.71747212e-03, 1.43061516e-03,\n",
       "       1.30039012e-03, 2.61096606e-03])"
      ]
     },
     "execution_count": 50,
     "metadata": {},
     "output_type": "execute_result"
    }
   ],
   "source": [
    "class_weights.values"
   ]
  },
  {
   "cell_type": "code",
   "execution_count": 51,
   "metadata": {},
   "outputs": [
    {
     "data": {
      "text/plain": [
       "array([[0, 0, 0, ..., 0, 0, 0],\n",
       "       [0, 0, 0, ..., 0, 0, 0],\n",
       "       [0, 0, 0, ..., 0, 0, 0],\n",
       "       ...,\n",
       "       [0, 0, 0, ..., 0, 0, 0],\n",
       "       [0, 0, 0, ..., 0, 0, 0],\n",
       "       [0, 0, 0, ..., 0, 0, 0]])"
      ]
     },
     "execution_count": 51,
     "metadata": {},
     "output_type": "execute_result"
    }
   ],
   "source": [
    "Y_train.values"
   ]
  },
  {
   "cell_type": "code",
   "execution_count": 53,
   "metadata": {},
   "outputs": [
    {
     "data": {
      "text/plain": [
       "array([3.71747212e-03, 5.95450756e-05, 5.95450756e-05, ...,\n",
       "       5.51267916e-04, 1.07968041e-04, 5.95450756e-05])"
      ]
     },
     "execution_count": 53,
     "metadata": {},
     "output_type": "execute_result"
    }
   ],
   "source": [
    "# Multiply class weights with the 1 hot encoded values and get the mean of each sample\n",
    "sample_weight = np.multiply(class_weights.values, Y_train.values).sum(axis=1)\n",
    "sample_weight"
   ]
  },
  {
   "cell_type": "markdown",
   "metadata": {},
   "source": [
    "# Compute samples weight to deal with classes imbalance"
   ]
  },
  {
   "cell_type": "code",
   "execution_count": 54,
   "metadata": {},
   "outputs": [],
   "source": [
    "def f1_from_confusion_matrix(confusion_matrix):\n",
    "    \"\"\"\n",
    "    Calculate F1 score from confusion matrix components\n",
    "    \n",
    "    Matrix format:\n",
    "    [[TN, FP],\n",
    "     [FN, TP]]\n",
    "    \n",
    "    Components:\n",
    "    - TP = confusion_matrix[1,1]  # True Positives\n",
    "    - FP = confusion_matrix[0,1]  # False Positives\n",
    "    - FN = confusion_matrix[1,0]  # False Negatives\n",
    "    \"\"\"\n",
    "    true_positives = confusion_matrix[1,1]\n",
    "    false_positives = confusion_matrix[0,1]\n",
    "    false_negatives = confusion_matrix[1,0]\n",
    "    \n",
    "    return (true_positives / \n",
    "            (true_positives + (0.5 * (false_positives + false_negatives))))"
   ]
  },
  {
   "cell_type": "code",
   "execution_count": 55,
   "metadata": {},
   "outputs": [],
   "source": [
    "feature_sets = {'original': skills_ohe.droplevel(0,axis=1).columns.tolist(), \n",
    "                'clusters': fe_clustered_skills.columns.tolist()}"
   ]
  },
  {
   "cell_type": "code",
   "execution_count": 61,
   "metadata": {},
   "outputs": [
    {
     "data": {
      "text/plain": [
       "dict_items([('original', ['Ada', 'Apex', 'Assembly', 'Bash/Shell (all shells)', 'C', 'C#', 'C++', 'Clojure', 'Cobol', 'Crystal', 'Dart', 'Delphi', 'Elixir', 'Erlang', 'F#', 'Fortran', 'GDScript', 'Go', 'Groovy', 'HTML/CSS', 'Haskell', 'Java', 'JavaScript', 'Julia', 'Kotlin', 'Lisp', 'Lua', 'MATLAB', 'MicroPython', 'Nim', 'OCaml', 'Objective-C', 'PHP', 'Perl', 'PowerShell', 'Prolog', 'Python', 'R', 'Ruby', 'Rust', 'SQL', 'Scala', 'Solidity', 'Swift', 'TypeScript', 'VBA', 'Visual Basic (.Net)', 'Zephyr', 'Zig', 'BigQuery', 'Cassandra', 'Clickhouse', 'Cloud Firestore', 'Cockroachdb', 'Cosmos DB', 'Couch DB', 'Couchbase', 'Databricks SQL', 'Datomic', 'DuckDB', 'Dynamodb', 'Elasticsearch', 'EventStoreDB', 'Firebase Realtime Database', 'Firebird', 'H2', 'IBM DB2', 'InfluxDB', 'MariaDB', 'Microsoft Access', 'Microsoft SQL Server', 'MongoDB', 'MySQL', 'Neo4J', 'Oracle', 'PostgreSQL', 'Presto', 'RavenDB', 'Redis', 'SQLite', 'Snowflake', 'Solr', 'Supabase', 'TiDB', '.NET (5+) ', '.NET Framework (1.0 - 4.8)', '.NET MAUI', 'Apache Kafka', 'Apache Spark', 'CUDA', 'Capacitor', 'Cordova', 'DirectX', 'Electron', 'Flutter', 'GTK', 'Hadoop', 'Hugging Face Transformers', 'Ionic', 'JAX', 'Keras', 'Ktor', 'MFC', 'NumPy', 'OpenCL', 'OpenGL', 'Opencv', 'Pandas', 'Qt', 'Quarkus', 'RabbitMQ', 'React Native', 'Roslyn', 'Ruff', 'Scikit-Learn', 'Spring Framework', 'SwiftUI', 'Tauri', 'TensorFlow', 'Tidyverse', 'Torch/PyTorch', 'Xamarin', 'mlflow', 'APT', 'Ansible', 'Ant', 'Bun', 'Chef', 'Chocolatey', 'Composer', 'Dagger', 'Docker', 'Godot', 'Google Test', 'Gradle', 'Homebrew', 'Kubernetes', 'MSBuild', 'Make', 'Maven (build tool)', 'Ninja', 'Nix', 'NuGet', 'Pacman', 'Pip', 'Podman', 'Pulumi', 'Puppet', 'Terraform', 'Unity 3D', 'Unreal Engine', 'Visual Studio Solution', 'Vite', 'Webpack', 'Yarn', 'npm', 'pnpm']), ('clusters', ['skills_group_0', 'skills_group_1', 'skills_group_10', 'skills_group_11', 'skills_group_12', 'skills_group_13', 'skills_group_14', 'skills_group_15', 'skills_group_16', 'skills_group_17', 'skills_group_18', 'skills_group_19', 'skills_group_2', 'skills_group_3', 'skills_group_4', 'skills_group_5', 'skills_group_6', 'skills_group_7', 'skills_group_8', 'skills_group_9'])])"
      ]
     },
     "execution_count": 61,
     "metadata": {},
     "output_type": "execute_result"
    }
   ],
   "source": [
    "feature_sets.items()"
   ]
  },
  {
   "cell_type": "code",
   "execution_count": 64,
   "metadata": {},
   "outputs": [],
   "source": [
    "def train_and_evaluate_model(X_train, X_test, Y_train, Y_test, sample_weight):\n",
    "    \"\"\"Train model and get F1 scores for train/test sets\"\"\"\n",
    "    # Train model\n",
    "    clf = MultiOutputClassifier(LogisticRegression(max_iter=1000))\n",
    "    clf.fit(X_train, Y_train, sample_weight=sample_weight)\n",
    "    \n",
    "    # Get predictions\n",
    "    train_pred = clf.predict(X_train)\n",
    "    test_pred = clf.predict(X_test)\n",
    "    \n",
    "    # Calculate F1 scores\n",
    "    train_matrices = multilabel_confusion_matrix(Y_train, train_pred)\n",
    "    test_matrices = multilabel_confusion_matrix(Y_test, test_pred)\n",
    "    \n",
    "    return ([f1_from_confusion_matrix(m) for m in train_matrices],\n",
    "            [f1_from_confusion_matrix(m) for m in test_matrices])\n"
   ]
  },
  {
   "cell_type": "code",
   "execution_count": 65,
   "metadata": {},
   "outputs": [],
   "source": [
    "def evaluate_feature_sets(feature_sets, X_train, X_test, Y_train, Y_test, sample_weight):\n",
    "    \"\"\"Evaluate multiple feature sets\"\"\"\n",
    "    results = {}\n",
    "    \n",
    "    for name, features in feature_sets.items():\n",
    "        try:\n",
    "            # Get data subset\n",
    "            X_train_sub = X_train[features].copy()\n",
    "            X_test_sub = X_test[features].copy()\n",
    "            \n",
    "            # Get scores\n",
    "            train_scores, test_scores = train_and_evaluate_model(\n",
    "                X_train_sub, X_test_sub, Y_train, Y_test, sample_weight\n",
    "            )\n",
    "            \n",
    "            # Store results\n",
    "            results[name] = pd.DataFrame({\n",
    "                \"train\": train_scores,\n",
    "                \"test\": test_scores\n",
    "            }, index=roles_df.columns)\n",
    "            \n",
    "            # Print summary\n",
    "            print(f\"{name}:\")\n",
    "            print(f\"Train F1: {np.mean(train_scores):.4f}\")\n",
    "            print(f\"Test F1:  {np.mean(test_scores):.4f}\\n\")\n",
    "            \n",
    "        except Exception as e:\n",
    "            print(f\"Error in {name}: {e}\\n\")\n",
    "            \n",
    "    return results"
   ]
  },
  {
   "cell_type": "code",
   "execution_count": 66,
   "metadata": {},
   "outputs": [
    {
     "name": "stdout",
     "output_type": "stream",
     "text": [
      "original:\n",
      "Train F1: 0.0000\n",
      "Test F1:  0.0000\n",
      "\n",
      "clusters:\n",
      "Train F1: 0.0049\n",
      "Test F1:  0.0059\n",
      "\n"
     ]
    }
   ],
   "source": [
    "results = evaluate_feature_sets(feature_sets, X_train, X_test, Y_train, Y_test, sample_weight)"
   ]
  },
  {
   "cell_type": "code",
   "execution_count": 67,
   "metadata": {},
   "outputs": [
    {
     "data": {
      "text/html": [
       "<div>\n",
       "<style scoped>\n",
       "    .dataframe tbody tr th:only-of-type {\n",
       "        vertical-align: middle;\n",
       "    }\n",
       "\n",
       "    .dataframe tbody tr th {\n",
       "        vertical-align: top;\n",
       "    }\n",
       "\n",
       "    .dataframe thead th {\n",
       "        text-align: right;\n",
       "    }\n",
       "</style>\n",
       "<table border=\"1\" class=\"dataframe\">\n",
       "  <thead>\n",
       "    <tr style=\"text-align: right;\">\n",
       "      <th></th>\n",
       "      <th>skills_group_0</th>\n",
       "      <th>skills_group_1</th>\n",
       "      <th>skills_group_10</th>\n",
       "      <th>skills_group_11</th>\n",
       "      <th>skills_group_12</th>\n",
       "      <th>skills_group_13</th>\n",
       "      <th>skills_group_14</th>\n",
       "      <th>skills_group_15</th>\n",
       "      <th>skills_group_16</th>\n",
       "      <th>skills_group_17</th>\n",
       "      <th>skills_group_18</th>\n",
       "      <th>skills_group_19</th>\n",
       "      <th>skills_group_2</th>\n",
       "      <th>skills_group_3</th>\n",
       "      <th>skills_group_4</th>\n",
       "      <th>skills_group_5</th>\n",
       "      <th>skills_group_6</th>\n",
       "      <th>skills_group_7</th>\n",
       "      <th>skills_group_8</th>\n",
       "      <th>skills_group_9</th>\n",
       "    </tr>\n",
       "  </thead>\n",
       "  <tbody>\n",
       "    <tr>\n",
       "      <th>1</th>\n",
       "      <td>1</td>\n",
       "      <td>0</td>\n",
       "      <td>0</td>\n",
       "      <td>0</td>\n",
       "      <td>0</td>\n",
       "      <td>0</td>\n",
       "      <td>0</td>\n",
       "      <td>0</td>\n",
       "      <td>4</td>\n",
       "      <td>0</td>\n",
       "      <td>0</td>\n",
       "      <td>0</td>\n",
       "      <td>7</td>\n",
       "      <td>0</td>\n",
       "      <td>0</td>\n",
       "      <td>2</td>\n",
       "      <td>0</td>\n",
       "      <td>0</td>\n",
       "      <td>2</td>\n",
       "      <td>0</td>\n",
       "    </tr>\n",
       "    <tr>\n",
       "      <th>2</th>\n",
       "      <td>0</td>\n",
       "      <td>0</td>\n",
       "      <td>0</td>\n",
       "      <td>0</td>\n",
       "      <td>0</td>\n",
       "      <td>0</td>\n",
       "      <td>0</td>\n",
       "      <td>0</td>\n",
       "      <td>0</td>\n",
       "      <td>0</td>\n",
       "      <td>0</td>\n",
       "      <td>0</td>\n",
       "      <td>0</td>\n",
       "      <td>0</td>\n",
       "      <td>1</td>\n",
       "      <td>0</td>\n",
       "      <td>5</td>\n",
       "      <td>0</td>\n",
       "      <td>0</td>\n",
       "      <td>0</td>\n",
       "    </tr>\n",
       "    <tr>\n",
       "      <th>6</th>\n",
       "      <td>0</td>\n",
       "      <td>0</td>\n",
       "      <td>0</td>\n",
       "      <td>0</td>\n",
       "      <td>0</td>\n",
       "      <td>0</td>\n",
       "      <td>0</td>\n",
       "      <td>0</td>\n",
       "      <td>0</td>\n",
       "      <td>0</td>\n",
       "      <td>1</td>\n",
       "      <td>0</td>\n",
       "      <td>0</td>\n",
       "      <td>0</td>\n",
       "      <td>0</td>\n",
       "      <td>0</td>\n",
       "      <td>0</td>\n",
       "      <td>0</td>\n",
       "      <td>0</td>\n",
       "      <td>0</td>\n",
       "    </tr>\n",
       "    <tr>\n",
       "      <th>9</th>\n",
       "      <td>0</td>\n",
       "      <td>0</td>\n",
       "      <td>1</td>\n",
       "      <td>0</td>\n",
       "      <td>0</td>\n",
       "      <td>0</td>\n",
       "      <td>0</td>\n",
       "      <td>0</td>\n",
       "      <td>2</td>\n",
       "      <td>0</td>\n",
       "      <td>0</td>\n",
       "      <td>0</td>\n",
       "      <td>6</td>\n",
       "      <td>0</td>\n",
       "      <td>0</td>\n",
       "      <td>0</td>\n",
       "      <td>0</td>\n",
       "      <td>0</td>\n",
       "      <td>0</td>\n",
       "      <td>0</td>\n",
       "    </tr>\n",
       "    <tr>\n",
       "      <th>11</th>\n",
       "      <td>1</td>\n",
       "      <td>0</td>\n",
       "      <td>2</td>\n",
       "      <td>4</td>\n",
       "      <td>0</td>\n",
       "      <td>0</td>\n",
       "      <td>0</td>\n",
       "      <td>2</td>\n",
       "      <td>3</td>\n",
       "      <td>0</td>\n",
       "      <td>0</td>\n",
       "      <td>0</td>\n",
       "      <td>6</td>\n",
       "      <td>0</td>\n",
       "      <td>0</td>\n",
       "      <td>0</td>\n",
       "      <td>6</td>\n",
       "      <td>0</td>\n",
       "      <td>0</td>\n",
       "      <td>0</td>\n",
       "    </tr>\n",
       "    <tr>\n",
       "      <th>...</th>\n",
       "      <td>...</td>\n",
       "      <td>...</td>\n",
       "      <td>...</td>\n",
       "      <td>...</td>\n",
       "      <td>...</td>\n",
       "      <td>...</td>\n",
       "      <td>...</td>\n",
       "      <td>...</td>\n",
       "      <td>...</td>\n",
       "      <td>...</td>\n",
       "      <td>...</td>\n",
       "      <td>...</td>\n",
       "      <td>...</td>\n",
       "      <td>...</td>\n",
       "      <td>...</td>\n",
       "      <td>...</td>\n",
       "      <td>...</td>\n",
       "      <td>...</td>\n",
       "      <td>...</td>\n",
       "      <td>...</td>\n",
       "    </tr>\n",
       "    <tr>\n",
       "      <th>65428</th>\n",
       "      <td>0</td>\n",
       "      <td>0</td>\n",
       "      <td>0</td>\n",
       "      <td>0</td>\n",
       "      <td>0</td>\n",
       "      <td>0</td>\n",
       "      <td>0</td>\n",
       "      <td>0</td>\n",
       "      <td>0</td>\n",
       "      <td>0</td>\n",
       "      <td>0</td>\n",
       "      <td>0</td>\n",
       "      <td>0</td>\n",
       "      <td>0</td>\n",
       "      <td>0</td>\n",
       "      <td>0</td>\n",
       "      <td>0</td>\n",
       "      <td>0</td>\n",
       "      <td>0</td>\n",
       "      <td>0</td>\n",
       "    </tr>\n",
       "    <tr>\n",
       "      <th>65431</th>\n",
       "      <td>6</td>\n",
       "      <td>0</td>\n",
       "      <td>3</td>\n",
       "      <td>1</td>\n",
       "      <td>0</td>\n",
       "      <td>0</td>\n",
       "      <td>1</td>\n",
       "      <td>2</td>\n",
       "      <td>3</td>\n",
       "      <td>1</td>\n",
       "      <td>0</td>\n",
       "      <td>0</td>\n",
       "      <td>5</td>\n",
       "      <td>0</td>\n",
       "      <td>2</td>\n",
       "      <td>1</td>\n",
       "      <td>7</td>\n",
       "      <td>0</td>\n",
       "      <td>2</td>\n",
       "      <td>0</td>\n",
       "    </tr>\n",
       "    <tr>\n",
       "      <th>65432</th>\n",
       "      <td>0</td>\n",
       "      <td>0</td>\n",
       "      <td>0</td>\n",
       "      <td>0</td>\n",
       "      <td>0</td>\n",
       "      <td>0</td>\n",
       "      <td>0</td>\n",
       "      <td>0</td>\n",
       "      <td>0</td>\n",
       "      <td>0</td>\n",
       "      <td>0</td>\n",
       "      <td>0</td>\n",
       "      <td>0</td>\n",
       "      <td>0</td>\n",
       "      <td>0</td>\n",
       "      <td>0</td>\n",
       "      <td>0</td>\n",
       "      <td>0</td>\n",
       "      <td>0</td>\n",
       "      <td>0</td>\n",
       "    </tr>\n",
       "    <tr>\n",
       "      <th>65434</th>\n",
       "      <td>0</td>\n",
       "      <td>0</td>\n",
       "      <td>0</td>\n",
       "      <td>0</td>\n",
       "      <td>0</td>\n",
       "      <td>0</td>\n",
       "      <td>0</td>\n",
       "      <td>0</td>\n",
       "      <td>0</td>\n",
       "      <td>0</td>\n",
       "      <td>0</td>\n",
       "      <td>0</td>\n",
       "      <td>0</td>\n",
       "      <td>0</td>\n",
       "      <td>0</td>\n",
       "      <td>0</td>\n",
       "      <td>0</td>\n",
       "      <td>0</td>\n",
       "      <td>0</td>\n",
       "      <td>0</td>\n",
       "    </tr>\n",
       "    <tr>\n",
       "      <th>65435</th>\n",
       "      <td>0</td>\n",
       "      <td>0</td>\n",
       "      <td>2</td>\n",
       "      <td>0</td>\n",
       "      <td>0</td>\n",
       "      <td>0</td>\n",
       "      <td>0</td>\n",
       "      <td>3</td>\n",
       "      <td>3</td>\n",
       "      <td>0</td>\n",
       "      <td>0</td>\n",
       "      <td>1</td>\n",
       "      <td>1</td>\n",
       "      <td>1</td>\n",
       "      <td>1</td>\n",
       "      <td>2</td>\n",
       "      <td>0</td>\n",
       "      <td>0</td>\n",
       "      <td>5</td>\n",
       "      <td>0</td>\n",
       "    </tr>\n",
       "  </tbody>\n",
       "</table>\n",
       "<p>48495 rows × 20 columns</p>\n",
       "</div>"
      ],
      "text/plain": [
       "       skills_group_0  skills_group_1  skills_group_10  skills_group_11  \\\n",
       "1                   1               0                0                0   \n",
       "2                   0               0                0                0   \n",
       "6                   0               0                0                0   \n",
       "9                   0               0                1                0   \n",
       "11                  1               0                2                4   \n",
       "...               ...             ...              ...              ...   \n",
       "65428               0               0                0                0   \n",
       "65431               6               0                3                1   \n",
       "65432               0               0                0                0   \n",
       "65434               0               0                0                0   \n",
       "65435               0               0                2                0   \n",
       "\n",
       "       skills_group_12  skills_group_13  skills_group_14  skills_group_15  \\\n",
       "1                    0                0                0                0   \n",
       "2                    0                0                0                0   \n",
       "6                    0                0                0                0   \n",
       "9                    0                0                0                0   \n",
       "11                   0                0                0                2   \n",
       "...                ...              ...              ...              ...   \n",
       "65428                0                0                0                0   \n",
       "65431                0                0                1                2   \n",
       "65432                0                0                0                0   \n",
       "65434                0                0                0                0   \n",
       "65435                0                0                0                3   \n",
       "\n",
       "       skills_group_16  skills_group_17  skills_group_18  skills_group_19  \\\n",
       "1                    4                0                0                0   \n",
       "2                    0                0                0                0   \n",
       "6                    0                0                1                0   \n",
       "9                    2                0                0                0   \n",
       "11                   3                0                0                0   \n",
       "...                ...              ...              ...              ...   \n",
       "65428                0                0                0                0   \n",
       "65431                3                1                0                0   \n",
       "65432                0                0                0                0   \n",
       "65434                0                0                0                0   \n",
       "65435                3                0                0                1   \n",
       "\n",
       "       skills_group_2  skills_group_3  skills_group_4  skills_group_5  \\\n",
       "1                   7               0               0               2   \n",
       "2                   0               0               1               0   \n",
       "6                   0               0               0               0   \n",
       "9                   6               0               0               0   \n",
       "11                  6               0               0               0   \n",
       "...               ...             ...             ...             ...   \n",
       "65428               0               0               0               0   \n",
       "65431               5               0               2               1   \n",
       "65432               0               0               0               0   \n",
       "65434               0               0               0               0   \n",
       "65435               1               1               1               2   \n",
       "\n",
       "       skills_group_6  skills_group_7  skills_group_8  skills_group_9  \n",
       "1                   0               0               2               0  \n",
       "2                   5               0               0               0  \n",
       "6                   0               0               0               0  \n",
       "9                   0               0               0               0  \n",
       "11                  6               0               0               0  \n",
       "...               ...             ...             ...             ...  \n",
       "65428               0               0               0               0  \n",
       "65431               7               0               2               0  \n",
       "65432               0               0               0               0  \n",
       "65434               0               0               0               0  \n",
       "65435               0               0               5               0  \n",
       "\n",
       "[48495 rows x 20 columns]"
      ]
     },
     "execution_count": 67,
     "metadata": {},
     "output_type": "execute_result"
    }
   ],
   "source": [
    "fe_clustered_skills"
   ]
  },
  {
   "cell_type": "markdown",
   "metadata": {},
   "source": []
  },
  {
   "cell_type": "code",
   "execution_count": 68,
   "metadata": {},
   "outputs": [],
   "source": [
    "features_path = os.path.join(EXPORT_FEATURES_DIR, \"features_skills_clusters.pkl\")\n",
    "fe_clustered_skills.to_pickle(features_path)"
   ]
  },
  {
   "cell_type": "code",
   "execution_count": 69,
   "metadata": {},
   "outputs": [],
   "source": [
    "description_path = os.path.join(EXPORT_FEATURES_DIR, \"features_skills_clusters_description.yaml\")\n",
    "with open(description_path, 'w') as outfile:\n",
    "    yaml.dump(skills_clusters.to_dict(), outfile)"
   ]
  },
  {
   "cell_type": "code",
   "execution_count": null,
   "metadata": {},
   "outputs": [],
   "source": []
  }
 ],
 "metadata": {
  "kernelspec": {
   "display_name": "base",
   "language": "python",
   "name": "python3"
  },
  "language_info": {
   "codemirror_mode": {
    "name": "ipython",
    "version": 3
   },
   "file_extension": ".py",
   "mimetype": "text/x-python",
   "name": "python",
   "nbconvert_exporter": "python",
   "pygments_lexer": "ipython3",
   "version": "3.12.4"
  }
 },
 "nbformat": 4,
 "nbformat_minor": 2
}
