{
 "cells": [
  {
   "cell_type": "code",
   "execution_count": 2,
   "metadata": {},
   "outputs": [],
   "source": [
    "#Constants\n",
    "\n",
    "DATA_PATH = '../data/raw/survey_results_public.csv'\n",
    "EXPORT_PATH = '../data/processed/1_preprocessed_df.pkl'"
   ]
  },
  {
   "cell_type": "code",
   "execution_count": 3,
   "metadata": {},
   "outputs": [],
   "source": [
    "#Load Libraries\n",
    "import pandas as pd\n",
    "import numpy as np\n",
    "import pickle"
   ]
  },
  {
   "cell_type": "code",
   "execution_count": 4,
   "metadata": {},
   "outputs": [],
   "source": [
    "#Replaced Values\n",
    "\n",
    "REPLACED_VALUES = {\n",
    "    'More than 50 years' : 51,\n",
    "    'Less than 1 year' : 0\n",
    "}\n",
    "\n",
    "AGE_BUCKETS_AVERAGE = {\n",
    "    'Under 18 years old': 15,\n",
    "    '18-24 years old': 20,\n",
    "    '25-34 years old': 30,\n",
    "    '35-44 years old': 40,\n",
    "    '45-54 years old': 50,\n",
    "    '55-64 years old': 60,\n",
    "    '65 years or older': 65,\n",
    "    'Prefer not to say': np.nan\n",
    "}"
   ]
  },
  {
   "cell_type": "code",
   "execution_count": 5,
   "metadata": {},
   "outputs": [],
   "source": [
    "def split_answer(data_series,delimeter=';'):\n",
    "    \n",
    "    '''Split the data series by the delimeter'''\n",
    "    \n",
    "    def is_splitable(pd_series,delimeter):\n",
    "        #Check if the data series is splitable by the delimeter\n",
    "        return pd_series.str.contains(delimeter)\n",
    "    \n",
    "    def split_data(pd_series,delimeter):\n",
    "        #Split the data series by the delimeter\n",
    "        return pd_series.str.split(delimeter,expand=False)\n",
    "    \n",
    "    \n",
    "    split_case = is_splitable(data_series,delimeter)\n",
    "    \n",
    "    \n",
    "    if  not split_case.any():\n",
    "        return data_series\n",
    "    \n",
    "    \n",
    "    \n",
    "    modefied_series = split_data(data_series,delimeter)\n",
    "    \n",
    "    handel_null = modefied_series.isnull()\n",
    "    modefied_series.loc[handel_null] = modefied_series.loc[handel_null].apply(lambda x: [])\n",
    "    \n",
    "    return modefied_series"
   ]
  },
  {
   "cell_type": "markdown",
   "metadata": {},
   "source": [
    "# Preprocessing"
   ]
  },
  {
   "cell_type": "code",
   "execution_count": 6,
   "metadata": {},
   "outputs": [],
   "source": [
    "raw_df = pd.read_csv(DATA_PATH)\n",
    "df = raw_df.copy(deep=True)"
   ]
  },
  {
   "cell_type": "code",
   "execution_count": 7,
   "metadata": {},
   "outputs": [
    {
     "name": "stdout",
     "output_type": "stream",
     "text": [
      "YearsCode unique values:\n",
      "['1', '10', '11', '12', '13', '14', '15', '16', '17', '18', '19', '2', '20', '21', '22', '23', '24', '25', '26', '27', '28', '29', '3', '30', '31', '32', '33', '34', '35', '36', '37', '38', '39', '4', '40', '41', '42', '43', '44', '45', '46', '47', '48', '49', '5', '50', '6', '7', '8', '9', 'Less than 1 year', 'More than 50 years']\n",
      "\n",
      "YearsCodePro unique values:\n",
      "['1', '10', '11', '12', '13', '14', '15', '16', '17', '18', '19', '2', '20', '21', '22', '23', '24', '25', '26', '27', '28', '29', '3', '30', '31', '32', '33', '34', '35', '36', '37', '38', '39', '4', '40', '41', '42', '43', '44', '45', '46', '47', '48', '49', '5', '50', '6', '7', '8', '9', 'Less than 1 year', 'More than 50 years']\n"
     ]
    }
   ],
   "source": [
    "print(\"YearsCode unique values:\")\n",
    "print(sorted(df['YearsCode'].value_counts().index.tolist()))\n",
    "print(\"\\nYearsCodePro unique values:\") \n",
    "print(sorted(df['YearsCodePro'].value_counts().index.tolist()))"
   ]
  },
  {
   "cell_type": "code",
   "execution_count": 8,
   "metadata": {},
   "outputs": [],
   "source": [
    "df['YearsCode'] = df['YearsCode'].replace(REPLACED_VALUES).astype(np.float32)\n",
    "df['YearsCodePro'] = df['YearsCodePro'].replace(REPLACED_VALUES).astype(np.float32)"
   ]
  },
  {
   "cell_type": "code",
   "execution_count": 9,
   "metadata": {},
   "outputs": [
    {
     "name": "stdout",
     "output_type": "stream",
     "text": [
      "YearsCode unique values after transforming:\n",
      "[0.0, 1.0, 2.0, 3.0, 4.0, 5.0, 6.0, 7.0, 8.0, 9.0, 10.0, 11.0, 12.0, 13.0, 14.0, 15.0, 16.0, 17.0, 18.0, 19.0, 20.0, 21.0, 22.0, 23.0, 24.0, 25.0, 26.0, 27.0, 28.0, 29.0, 30.0, 31.0, 32.0, 33.0, 34.0, 35.0, 36.0, 37.0, 38.0, 39.0, 40.0, 41.0, 42.0, 43.0, 44.0, 45.0, 46.0, 47.0, 48.0, 49.0, 50.0, 51.0]\n",
      "\n",
      "YearsCodePro unique values:\n",
      "[0.0, 1.0, 2.0, 3.0, 4.0, 5.0, 6.0, 7.0, 8.0, 9.0, 10.0, 11.0, 12.0, 13.0, 14.0, 15.0, 16.0, 17.0, 18.0, 19.0, 20.0, 21.0, 22.0, 23.0, 24.0, 25.0, 26.0, 27.0, 28.0, 29.0, 30.0, 31.0, 32.0, 33.0, 34.0, 35.0, 36.0, 37.0, 38.0, 39.0, 40.0, 41.0, 42.0, 43.0, 44.0, 45.0, 46.0, 47.0, 48.0, 49.0, 50.0, 51.0]\n"
     ]
    }
   ],
   "source": [
    "print(\"YearsCode unique values after transforming:\")\n",
    "print(sorted(df['YearsCode'].value_counts().index.tolist()))\n",
    "print(\"\\nYearsCodePro unique values:\") \n",
    "print(sorted(df['YearsCodePro'].value_counts().index.tolist()))"
   ]
  },
  {
   "cell_type": "markdown",
   "metadata": {},
   "source": [
    "## Splitting"
   ]
  },
  {
   "cell_type": "code",
   "execution_count": 10,
   "metadata": {},
   "outputs": [],
   "source": [
    "pd.options.display.max_rows = 200"
   ]
  },
  {
   "cell_type": "code",
   "execution_count": 11,
   "metadata": {},
   "outputs": [
    {
     "data": {
      "text/plain": [
       "ResponseId                          int64\n",
       "MainBranch                         object\n",
       "Age                                object\n",
       "Employment                         object\n",
       "RemoteWork                         object\n",
       "Check                              object\n",
       "CodingActivities                   object\n",
       "EdLevel                            object\n",
       "LearnCode                          object\n",
       "LearnCodeOnline                    object\n",
       "TechDoc                            object\n",
       "YearsCode                         float32\n",
       "YearsCodePro                      float32\n",
       "DevType                            object\n",
       "OrgSize                            object\n",
       "PurchaseInfluence                  object\n",
       "BuyNewTool                         object\n",
       "BuildvsBuy                         object\n",
       "TechEndorse                        object\n",
       "Country                            object\n",
       "Currency                           object\n",
       "CompTotal                         float64\n",
       "LanguageHaveWorkedWith             object\n",
       "LanguageWantToWorkWith             object\n",
       "LanguageAdmired                    object\n",
       "DatabaseHaveWorkedWith             object\n",
       "DatabaseWantToWorkWith             object\n",
       "DatabaseAdmired                    object\n",
       "PlatformHaveWorkedWith             object\n",
       "PlatformWantToWorkWith             object\n",
       "PlatformAdmired                    object\n",
       "WebframeHaveWorkedWith             object\n",
       "WebframeWantToWorkWith             object\n",
       "WebframeAdmired                    object\n",
       "EmbeddedHaveWorkedWith             object\n",
       "EmbeddedWantToWorkWith             object\n",
       "EmbeddedAdmired                    object\n",
       "MiscTechHaveWorkedWith             object\n",
       "MiscTechWantToWorkWith             object\n",
       "MiscTechAdmired                    object\n",
       "ToolsTechHaveWorkedWith            object\n",
       "ToolsTechWantToWorkWith            object\n",
       "ToolsTechAdmired                   object\n",
       "NEWCollabToolsHaveWorkedWith       object\n",
       "NEWCollabToolsWantToWorkWith       object\n",
       "NEWCollabToolsAdmired              object\n",
       "OpSysPersonal use                  object\n",
       "OpSysProfessional use              object\n",
       "OfficeStackAsyncHaveWorkedWith     object\n",
       "OfficeStackAsyncWantToWorkWith     object\n",
       "OfficeStackAsyncAdmired            object\n",
       "OfficeStackSyncHaveWorkedWith      object\n",
       "OfficeStackSyncWantToWorkWith      object\n",
       "OfficeStackSyncAdmired             object\n",
       "AISearchDevHaveWorkedWith          object\n",
       "AISearchDevWantToWorkWith          object\n",
       "AISearchDevAdmired                 object\n",
       "NEWSOSites                         object\n",
       "SOVisitFreq                        object\n",
       "SOAccount                          object\n",
       "SOPartFreq                         object\n",
       "SOHow                              object\n",
       "SOComm                             object\n",
       "AISelect                           object\n",
       "AISent                             object\n",
       "AIBen                              object\n",
       "AIAcc                              object\n",
       "AIComplex                          object\n",
       "AIToolCurrently Using              object\n",
       "AIToolInterested in Using          object\n",
       "AIToolNot interested in Using      object\n",
       "AINextMuch more integrated         object\n",
       "AINextNo change                    object\n",
       "AINextMore integrated              object\n",
       "AINextLess integrated              object\n",
       "AINextMuch less integrated         object\n",
       "AIThreat                           object\n",
       "AIEthics                           object\n",
       "AIChallenges                       object\n",
       "TBranch                            object\n",
       "ICorPM                             object\n",
       "WorkExp                           float64\n",
       "Knowledge_1                        object\n",
       "Knowledge_2                        object\n",
       "Knowledge_3                        object\n",
       "Knowledge_4                        object\n",
       "Knowledge_5                        object\n",
       "Knowledge_6                        object\n",
       "Knowledge_7                        object\n",
       "Knowledge_8                        object\n",
       "Knowledge_9                        object\n",
       "Frequency_1                        object\n",
       "Frequency_2                        object\n",
       "Frequency_3                        object\n",
       "TimeSearching                      object\n",
       "TimeAnswering                      object\n",
       "Frustration                        object\n",
       "ProfessionalTech                   object\n",
       "ProfessionalCloud                  object\n",
       "ProfessionalQuestion               object\n",
       "Industry                           object\n",
       "JobSatPoints_1                    float64\n",
       "JobSatPoints_4                    float64\n",
       "JobSatPoints_5                    float64\n",
       "JobSatPoints_6                    float64\n",
       "JobSatPoints_7                    float64\n",
       "JobSatPoints_8                    float64\n",
       "JobSatPoints_9                    float64\n",
       "JobSatPoints_10                   float64\n",
       "JobSatPoints_11                   float64\n",
       "SurveyLength                       object\n",
       "SurveyEase                         object\n",
       "ConvertedCompYearly               float64\n",
       "JobSat                            float64\n",
       "dtype: object"
      ]
     },
     "execution_count": 11,
     "metadata": {},
     "output_type": "execute_result"
    }
   ],
   "source": [
    "df.dtypes"
   ]
  },
  {
   "cell_type": "code",
   "execution_count": 12,
   "metadata": {},
   "outputs": [],
   "source": [
    "object_columns = df.select_dtypes(include=['object']).columns"
   ]
  },
  {
   "cell_type": "code",
   "execution_count": 13,
   "metadata": {},
   "outputs": [],
   "source": [
    "for column in object_columns:\n",
    "    df[column] = split_answer(df[column])"
   ]
  },
  {
   "cell_type": "code",
   "execution_count": 14,
   "metadata": {},
   "outputs": [
    {
     "name": "stderr",
     "output_type": "stream",
     "text": [
      "C:\\Users\\Yossef\\AppData\\Local\\Temp\\ipykernel_29200\\1236253648.py:1: FutureWarning: Downcasting behavior in `replace` is deprecated and will be removed in a future version. To retain the old behavior, explicitly call `result.infer_objects(copy=False)`. To opt-in to the future behavior, set `pd.set_option('future.no_silent_downcasting', True)`\n",
      "  df['Age'] = df['Age'].replace(AGE_BUCKETS_AVERAGE).astype(np.float32)\n"
     ]
    }
   ],
   "source": [
    "df['Age'] = df['Age'].replace(AGE_BUCKETS_AVERAGE).astype(np.float32)  "
   ]
  },
  {
   "cell_type": "code",
   "execution_count": 15,
   "metadata": {},
   "outputs": [
    {
     "data": {
      "text/plain": [
       "array([15., 40., 50., 20., 30., 60., nan, 65.], dtype=float32)"
      ]
     },
     "execution_count": 15,
     "metadata": {},
     "output_type": "execute_result"
    }
   ],
   "source": [
    "df['Age'].unique()"
   ]
  },
  {
   "cell_type": "markdown",
   "metadata": {},
   "source": [
    "# Verification of Prep."
   ]
  },
  {
   "cell_type": "code",
   "execution_count": 16,
   "metadata": {},
   "outputs": [],
   "source": [
    "i = 2005"
   ]
  },
  {
   "cell_type": "code",
   "execution_count": 17,
   "metadata": {},
   "outputs": [
    {
     "name": "stdout",
     "output_type": "stream",
     "text": [
      "Go;HTML/CSS;Java\n",
      "['Go', 'HTML/CSS', 'Java']\n"
     ]
    }
   ],
   "source": [
    "print(raw_df['LanguageHaveWorkedWith'].iloc[i])\n",
    "print(df['LanguageHaveWorkedWith'].iloc[i])"
   ]
  },
  {
   "cell_type": "code",
   "execution_count": 18,
   "metadata": {},
   "outputs": [
    {
     "name": "stdout",
     "output_type": "stream",
     "text": [
      "Developer, full-stack\n",
      "Developer, full-stack\n"
     ]
    }
   ],
   "source": [
    "print(raw_df['DevType'].iloc[i])\n",
    "print(df['DevType'].iloc[i])"
   ]
  },
  {
   "cell_type": "code",
   "execution_count": 19,
   "metadata": {},
   "outputs": [
    {
     "data": {
      "text/plain": [
       "15753      Developer, back-end\n",
       "64847                      NaN\n",
       "9040     Developer, full-stack\n",
       "23960               Blockchain\n",
       "41169                  Student\n",
       "9785      Developer, front-end\n",
       "13304    Developer, full-stack\n",
       "9304                Blockchain\n",
       "11817     Developer, front-end\n",
       "28817            Data engineer\n",
       "Name: DevType, dtype: object"
      ]
     },
     "execution_count": 19,
     "metadata": {},
     "output_type": "execute_result"
    }
   ],
   "source": [
    "df['DevType'].sample(10)"
   ]
  },
  {
   "cell_type": "code",
   "execution_count": 20,
   "metadata": {},
   "outputs": [
    {
     "name": "stdout",
     "output_type": "stream",
     "text": [
      "13\n",
      "13.0\n"
     ]
    }
   ],
   "source": [
    "print(raw_df['YearsCodePro'].iloc[i])\n",
    "print(df['YearsCodePro'].iloc[i])"
   ]
  },
  {
   "cell_type": "code",
   "execution_count": 21,
   "metadata": {},
   "outputs": [
    {
     "name": "stderr",
     "output_type": "stream",
     "text": [
      "C:\\Users\\Yossef\\AppData\\Local\\Temp\\ipykernel_29200\\4188097624.py:6: PerformanceWarning: DataFrame is highly fragmented.  This is usually the result of calling `frame.insert` many times, which has poor performance.  Consider joining all columns at once using pd.concat(axis=1) instead. To get a de-fragmented frame, use `newframe = frame.copy()`\n",
      "  df['AgeGroup'] = pd.cut(df['Age'], bins=age_bins, labels=age_labels)\n"
     ]
    }
   ],
   "source": [
    "# Create age bins\n",
    "age_bins = [0, 20, 30, 40, 50, 60, 100]\n",
    "age_labels = ['<20', '20-30', '30-40', '40-50', '50-60', '>60']\n",
    "\n",
    "# Create age groups\n",
    "df['AgeGroup'] = pd.cut(df['Age'], bins=age_bins, labels=age_labels)"
   ]
  },
  {
   "cell_type": "code",
   "execution_count": 22,
   "metadata": {},
   "outputs": [],
   "source": [
    "df.to_pickle(EXPORT_PATH)"
   ]
  },
  {
   "cell_type": "code",
   "execution_count": null,
   "metadata": {},
   "outputs": [],
   "source": []
  }
 ],
 "metadata": {
  "kernelspec": {
   "display_name": "base",
   "language": "python",
   "name": "python3"
  },
  "language_info": {
   "codemirror_mode": {
    "name": "ipython",
    "version": 3
   },
   "file_extension": ".py",
   "mimetype": "text/x-python",
   "name": "python",
   "nbconvert_exporter": "python",
   "pygments_lexer": "ipython3",
   "version": "3.12.4"
  }
 },
 "nbformat": 4,
 "nbformat_minor": 2
}
