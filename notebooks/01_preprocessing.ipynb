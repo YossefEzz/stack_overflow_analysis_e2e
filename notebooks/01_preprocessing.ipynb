{
 "cells": [
  {
   "cell_type": "code",
   "execution_count": 1,
   "metadata": {},
   "outputs": [],
   "source": [
    "#Constants\n",
    "\n",
    "DATA_PATH = '../data/raw/survey_results_public.csv'\n",
    "EXPORT_PATH = '../data/processed/1_preprocessed_df.pkl'"
   ]
  },
  {
   "cell_type": "code",
   "execution_count": 2,
   "metadata": {},
   "outputs": [],
   "source": [
    "#Load Libraries\n",
    "import pandas as pd\n",
    "import numpy as np\n",
    "import pickle"
   ]
  },
  {
   "cell_type": "code",
   "execution_count": 10,
   "metadata": {},
   "outputs": [],
   "source": [
    "pd.options.display.max_rows = 200"
   ]
  },
  {
   "cell_type": "code",
   "execution_count": 3,
   "metadata": {},
   "outputs": [],
   "source": [
    "#Replaced Values\n",
    "\n",
    "REPLACED_VALUES = {\n",
    "    'More than 50 years' : 51,\n",
    "    'Less than 1 year' : 0\n",
    "}\n",
    "\n",
    "AGE_BUCKETS_AVERAGE = {\n",
    "    'Under 18 years old': 15,\n",
    "    '18-24 years old': 20,\n",
    "    '25-34 years old': 30,\n",
    "    '35-44 years old': 40,\n",
    "    '45-54 years old': 50,\n",
    "    '55-64 years old': 60,\n",
    "    '65 years or older': 65,\n",
    "    'Prefer not to say': np.nan\n",
    "}"
   ]
  },
  {
   "cell_type": "code",
   "execution_count": 4,
   "metadata": {},
   "outputs": [],
   "source": [
    "def split_answer(data_series,delimeter=';'):\n",
    "    \n",
    "    '''Split the data series by the delimeter'''\n",
    "    \n",
    "    def is_splitable(pd_series,delimeter):\n",
    "        #Check if the data series is splitable by the delimeter\n",
    "        return pd_series.str.contains(delimeter)\n",
    "    \n",
    "    def split_data(pd_series,delimeter):\n",
    "        #Split the data series by the delimeter\n",
    "        return pd_series.str.split(delimeter,expand=False)\n",
    "    \n",
    "    \n",
    "    split_case = is_splitable(data_series,delimeter)\n",
    "    \n",
    "    \n",
    "    if  not split_case.any():\n",
    "        return data_series\n",
    "    \n",
    "    \n",
    "    \n",
    "    modefied_series = split_data(data_series,delimeter)\n",
    "    \n",
    "    handel_null = modefied_series.isnull()\n",
    "    modefied_series.loc[handel_null] = modefied_series.loc[handel_null].apply(lambda x: [])\n",
    "    \n",
    "    return modefied_series"
   ]
  },
  {
   "cell_type": "markdown",
   "metadata": {},
   "source": [
    "# Preprocessing"
   ]
  },
  {
   "cell_type": "code",
   "execution_count": 6,
   "metadata": {},
   "outputs": [],
   "source": [
    "raw_df = pd.read_csv(DATA_PATH)\n",
    "df = raw_df.copy(deep=True)"
   ]
  },
  {
   "cell_type": "code",
   "execution_count": 11,
   "metadata": {},
   "outputs": [
    {
     "name": "stdout",
     "output_type": "stream",
     "text": [
      "YearsCode unique values:\n",
      "[0.0, 1.0, 2.0, 3.0, 4.0, 5.0, 6.0, 7.0, 8.0, 9.0, 10.0, 11.0, 12.0, 13.0, 14.0, 15.0, 16.0, 17.0, 18.0, 19.0, 20.0, 21.0, 22.0, 23.0, 24.0, 25.0, 26.0, 27.0, 28.0, 29.0, 30.0, 31.0, 32.0, 33.0, 34.0, 35.0, 36.0, 37.0, 38.0, 39.0, 40.0, 41.0, 42.0, 43.0, 44.0, 45.0, 46.0, 47.0, 48.0, 49.0, 50.0, 51.0]\n",
      "\n",
      "YearsCodePro unique values:\n",
      "[0.0, 1.0, 2.0, 3.0, 4.0, 5.0, 6.0, 7.0, 8.0, 9.0, 10.0, 11.0, 12.0, 13.0, 14.0, 15.0, 16.0, 17.0, 18.0, 19.0, 20.0, 21.0, 22.0, 23.0, 24.0, 25.0, 26.0, 27.0, 28.0, 29.0, 30.0, 31.0, 32.0, 33.0, 34.0, 35.0, 36.0, 37.0, 38.0, 39.0, 40.0, 41.0, 42.0, 43.0, 44.0, 45.0, 46.0, 47.0, 48.0, 49.0, 50.0, 51.0]\n"
     ]
    }
   ],
   "source": [
    "print(\"YearsCode unique values:\")\n",
    "print(sorted(df['YearsCode'].value_counts().index.tolist()))\n",
    "print(\"\\nYearsCodePro unique values:\") \n",
    "print(sorted(df['YearsCodePro'].value_counts().index.tolist()))"
   ]
  },
  {
   "cell_type": "code",
   "execution_count": 12,
   "metadata": {},
   "outputs": [],
   "source": [
    "df['YearsCode'] = df['YearsCode'].replace(REPLACED_VALUES).astype(np.float32)\n",
    "df['YearsCodePro'] = df['YearsCodePro'].replace(REPLACED_VALUES).astype(np.float32)"
   ]
  },
  {
   "cell_type": "code",
   "execution_count": 13,
   "metadata": {},
   "outputs": [
    {
     "name": "stdout",
     "output_type": "stream",
     "text": [
      "YearsCode unique values after transforming:\n",
      "[0.0, 1.0, 2.0, 3.0, 4.0, 5.0, 6.0, 7.0, 8.0, 9.0, 10.0, 11.0, 12.0, 13.0, 14.0, 15.0, 16.0, 17.0, 18.0, 19.0, 20.0, 21.0, 22.0, 23.0, 24.0, 25.0, 26.0, 27.0, 28.0, 29.0, 30.0, 31.0, 32.0, 33.0, 34.0, 35.0, 36.0, 37.0, 38.0, 39.0, 40.0, 41.0, 42.0, 43.0, 44.0, 45.0, 46.0, 47.0, 48.0, 49.0, 50.0, 51.0]\n",
      "\n",
      "YearsCodePro unique values:\n",
      "[0.0, 1.0, 2.0, 3.0, 4.0, 5.0, 6.0, 7.0, 8.0, 9.0, 10.0, 11.0, 12.0, 13.0, 14.0, 15.0, 16.0, 17.0, 18.0, 19.0, 20.0, 21.0, 22.0, 23.0, 24.0, 25.0, 26.0, 27.0, 28.0, 29.0, 30.0, 31.0, 32.0, 33.0, 34.0, 35.0, 36.0, 37.0, 38.0, 39.0, 40.0, 41.0, 42.0, 43.0, 44.0, 45.0, 46.0, 47.0, 48.0, 49.0, 50.0, 51.0]\n"
     ]
    }
   ],
   "source": [
    "print(\"YearsCode unique values after transforming:\")\n",
    "print(sorted(df['YearsCode'].value_counts().index.tolist()))\n",
    "print(\"\\nYearsCodePro unique values:\") \n",
    "print(sorted(df['YearsCodePro'].value_counts().index.tolist()))"
   ]
  },
  {
   "cell_type": "markdown",
   "metadata": {},
   "source": [
    "## Splitting"
   ]
  },
  {
   "cell_type": "code",
   "execution_count": 14,
   "metadata": {},
   "outputs": [
    {
     "data": {
      "text/plain": [
       "ResponseId                          int64\n",
       "MainBranch                         object\n",
       "Age                                object\n",
       "Employment                         object\n",
       "RemoteWork                         object\n",
       "Check                              object\n",
       "CodingActivities                   object\n",
       "EdLevel                            object\n",
       "LearnCode                          object\n",
       "LearnCodeOnline                    object\n",
       "TechDoc                            object\n",
       "YearsCode                         float32\n",
       "YearsCodePro                      float32\n",
       "DevType                            object\n",
       "OrgSize                            object\n",
       "PurchaseInfluence                  object\n",
       "BuyNewTool                         object\n",
       "BuildvsBuy                         object\n",
       "TechEndorse                        object\n",
       "Country                            object\n",
       "Currency                           object\n",
       "CompTotal                         float64\n",
       "LanguageHaveWorkedWith             object\n",
       "LanguageWantToWorkWith             object\n",
       "LanguageAdmired                    object\n",
       "DatabaseHaveWorkedWith             object\n",
       "DatabaseWantToWorkWith             object\n",
       "DatabaseAdmired                    object\n",
       "PlatformHaveWorkedWith             object\n",
       "PlatformWantToWorkWith             object\n",
       "PlatformAdmired                    object\n",
       "WebframeHaveWorkedWith             object\n",
       "WebframeWantToWorkWith             object\n",
       "WebframeAdmired                    object\n",
       "EmbeddedHaveWorkedWith             object\n",
       "EmbeddedWantToWorkWith             object\n",
       "EmbeddedAdmired                    object\n",
       "MiscTechHaveWorkedWith             object\n",
       "MiscTechWantToWorkWith             object\n",
       "MiscTechAdmired                    object\n",
       "ToolsTechHaveWorkedWith            object\n",
       "ToolsTechWantToWorkWith            object\n",
       "ToolsTechAdmired                   object\n",
       "NEWCollabToolsHaveWorkedWith       object\n",
       "NEWCollabToolsWantToWorkWith       object\n",
       "NEWCollabToolsAdmired              object\n",
       "OpSysPersonal use                  object\n",
       "OpSysProfessional use              object\n",
       "OfficeStackAsyncHaveWorkedWith     object\n",
       "OfficeStackAsyncWantToWorkWith     object\n",
       "OfficeStackAsyncAdmired            object\n",
       "OfficeStackSyncHaveWorkedWith      object\n",
       "OfficeStackSyncWantToWorkWith      object\n",
       "OfficeStackSyncAdmired             object\n",
       "AISearchDevHaveWorkedWith          object\n",
       "AISearchDevWantToWorkWith          object\n",
       "AISearchDevAdmired                 object\n",
       "NEWSOSites                         object\n",
       "SOVisitFreq                        object\n",
       "SOAccount                          object\n",
       "SOPartFreq                         object\n",
       "SOHow                              object\n",
       "SOComm                             object\n",
       "AISelect                           object\n",
       "AISent                             object\n",
       "AIBen                              object\n",
       "AIAcc                              object\n",
       "AIComplex                          object\n",
       "AIToolCurrently Using              object\n",
       "AIToolInterested in Using          object\n",
       "AIToolNot interested in Using      object\n",
       "AINextMuch more integrated         object\n",
       "AINextNo change                    object\n",
       "AINextMore integrated              object\n",
       "AINextLess integrated              object\n",
       "AINextMuch less integrated         object\n",
       "AIThreat                           object\n",
       "AIEthics                           object\n",
       "AIChallenges                       object\n",
       "TBranch                            object\n",
       "ICorPM                             object\n",
       "WorkExp                           float64\n",
       "Knowledge_1                        object\n",
       "Knowledge_2                        object\n",
       "Knowledge_3                        object\n",
       "Knowledge_4                        object\n",
       "Knowledge_5                        object\n",
       "Knowledge_6                        object\n",
       "Knowledge_7                        object\n",
       "Knowledge_8                        object\n",
       "Knowledge_9                        object\n",
       "Frequency_1                        object\n",
       "Frequency_2                        object\n",
       "Frequency_3                        object\n",
       "TimeSearching                      object\n",
       "TimeAnswering                      object\n",
       "Frustration                        object\n",
       "ProfessionalTech                   object\n",
       "ProfessionalCloud                  object\n",
       "ProfessionalQuestion               object\n",
       "Industry                           object\n",
       "JobSatPoints_1                    float64\n",
       "JobSatPoints_4                    float64\n",
       "JobSatPoints_5                    float64\n",
       "JobSatPoints_6                    float64\n",
       "JobSatPoints_7                    float64\n",
       "JobSatPoints_8                    float64\n",
       "JobSatPoints_9                    float64\n",
       "JobSatPoints_10                   float64\n",
       "JobSatPoints_11                   float64\n",
       "SurveyLength                       object\n",
       "SurveyEase                         object\n",
       "ConvertedCompYearly               float64\n",
       "JobSat                            float64\n",
       "dtype: object"
      ]
     },
     "execution_count": 14,
     "metadata": {},
     "output_type": "execute_result"
    }
   ],
   "source": [
    "df.dtypes"
   ]
  },
  {
   "cell_type": "code",
   "execution_count": 17,
   "metadata": {},
   "outputs": [
    {
     "data": {
      "text/plain": [
       "['MainBranch',\n",
       " 'Age',\n",
       " 'Employment',\n",
       " 'RemoteWork',\n",
       " 'Check',\n",
       " 'CodingActivities',\n",
       " 'EdLevel',\n",
       " 'LearnCode',\n",
       " 'LearnCodeOnline',\n",
       " 'TechDoc',\n",
       " 'DevType',\n",
       " 'OrgSize',\n",
       " 'PurchaseInfluence',\n",
       " 'BuyNewTool',\n",
       " 'BuildvsBuy',\n",
       " 'TechEndorse',\n",
       " 'Country',\n",
       " 'Currency',\n",
       " 'LanguageHaveWorkedWith',\n",
       " 'LanguageWantToWorkWith',\n",
       " 'LanguageAdmired',\n",
       " 'DatabaseHaveWorkedWith',\n",
       " 'DatabaseWantToWorkWith',\n",
       " 'DatabaseAdmired',\n",
       " 'PlatformHaveWorkedWith',\n",
       " 'PlatformWantToWorkWith',\n",
       " 'PlatformAdmired',\n",
       " 'WebframeHaveWorkedWith',\n",
       " 'WebframeWantToWorkWith',\n",
       " 'WebframeAdmired',\n",
       " 'EmbeddedHaveWorkedWith',\n",
       " 'EmbeddedWantToWorkWith',\n",
       " 'EmbeddedAdmired',\n",
       " 'MiscTechHaveWorkedWith',\n",
       " 'MiscTechWantToWorkWith',\n",
       " 'MiscTechAdmired',\n",
       " 'ToolsTechHaveWorkedWith',\n",
       " 'ToolsTechWantToWorkWith',\n",
       " 'ToolsTechAdmired',\n",
       " 'NEWCollabToolsHaveWorkedWith',\n",
       " 'NEWCollabToolsWantToWorkWith',\n",
       " 'NEWCollabToolsAdmired',\n",
       " 'OpSysPersonal use',\n",
       " 'OpSysProfessional use',\n",
       " 'OfficeStackAsyncHaveWorkedWith',\n",
       " 'OfficeStackAsyncWantToWorkWith',\n",
       " 'OfficeStackAsyncAdmired',\n",
       " 'OfficeStackSyncHaveWorkedWith',\n",
       " 'OfficeStackSyncWantToWorkWith',\n",
       " 'OfficeStackSyncAdmired',\n",
       " 'AISearchDevHaveWorkedWith',\n",
       " 'AISearchDevWantToWorkWith',\n",
       " 'AISearchDevAdmired',\n",
       " 'NEWSOSites',\n",
       " 'SOVisitFreq',\n",
       " 'SOAccount',\n",
       " 'SOPartFreq',\n",
       " 'SOHow',\n",
       " 'SOComm',\n",
       " 'AISelect',\n",
       " 'AISent',\n",
       " 'AIBen',\n",
       " 'AIAcc',\n",
       " 'AIComplex',\n",
       " 'AIToolCurrently Using',\n",
       " 'AIToolInterested in Using',\n",
       " 'AIToolNot interested in Using',\n",
       " 'AINextMuch more integrated',\n",
       " 'AINextNo change',\n",
       " 'AINextMore integrated',\n",
       " 'AINextLess integrated',\n",
       " 'AINextMuch less integrated',\n",
       " 'AIThreat',\n",
       " 'AIEthics',\n",
       " 'AIChallenges',\n",
       " 'TBranch',\n",
       " 'ICorPM',\n",
       " 'Knowledge_1',\n",
       " 'Knowledge_2',\n",
       " 'Knowledge_3',\n",
       " 'Knowledge_4',\n",
       " 'Knowledge_5',\n",
       " 'Knowledge_6',\n",
       " 'Knowledge_7',\n",
       " 'Knowledge_8',\n",
       " 'Knowledge_9',\n",
       " 'Frequency_1',\n",
       " 'Frequency_2',\n",
       " 'Frequency_3',\n",
       " 'TimeSearching',\n",
       " 'TimeAnswering',\n",
       " 'Frustration',\n",
       " 'ProfessionalTech',\n",
       " 'ProfessionalCloud',\n",
       " 'ProfessionalQuestion',\n",
       " 'Industry',\n",
       " 'SurveyLength',\n",
       " 'SurveyEase']"
      ]
     },
     "execution_count": 17,
     "metadata": {},
     "output_type": "execute_result"
    }
   ],
   "source": [
    "object_columns = df.select_dtypes(include=['object']).columns\n",
    "object_columns.tolist()"
   ]
  },
  {
   "cell_type": "code",
   "execution_count": 18,
   "metadata": {},
   "outputs": [],
   "source": [
    "for column in object_columns:\n",
    "    df[column] = split_answer(df[column])"
   ]
  },
  {
   "cell_type": "code",
   "execution_count": 19,
   "metadata": {},
   "outputs": [
    {
     "name": "stderr",
     "output_type": "stream",
     "text": [
      "C:\\Users\\Yossef\\AppData\\Local\\Temp\\ipykernel_47296\\1236253648.py:1: FutureWarning: Downcasting behavior in `replace` is deprecated and will be removed in a future version. To retain the old behavior, explicitly call `result.infer_objects(copy=False)`. To opt-in to the future behavior, set `pd.set_option('future.no_silent_downcasting', True)`\n",
      "  df['Age'] = df['Age'].replace(AGE_BUCKETS_AVERAGE).astype(np.float32)\n"
     ]
    }
   ],
   "source": [
    "df['Age'] = df['Age'].replace(AGE_BUCKETS_AVERAGE).astype(np.float32)  "
   ]
  },
  {
   "cell_type": "code",
   "execution_count": 20,
   "metadata": {},
   "outputs": [
    {
     "data": {
      "text/plain": [
       "array([15., 40., 50., 20., 30., 60., nan, 65.], dtype=float32)"
      ]
     },
     "execution_count": 20,
     "metadata": {},
     "output_type": "execute_result"
    }
   ],
   "source": [
    "df['Age'].unique()"
   ]
  },
  {
   "cell_type": "markdown",
   "metadata": {},
   "source": [
    "# Verification of Prep."
   ]
  },
  {
   "cell_type": "code",
   "execution_count": 24,
   "metadata": {},
   "outputs": [],
   "source": [
    "i = np.random.randint(0,df.shape[0])"
   ]
  },
  {
   "cell_type": "code",
   "execution_count": 25,
   "metadata": {},
   "outputs": [
    {
     "name": "stdout",
     "output_type": "stream",
     "text": [
      "C#;HTML/CSS;Java;JavaScript;Python;SQL;TypeScript\n",
      "['C#', 'HTML/CSS', 'Java', 'JavaScript', 'Python', 'SQL', 'TypeScript']\n"
     ]
    }
   ],
   "source": [
    "print(raw_df['LanguageHaveWorkedWith'].iloc[i])\n",
    "print(df['LanguageHaveWorkedWith'].iloc[i])"
   ]
  },
  {
   "cell_type": "code",
   "execution_count": 26,
   "metadata": {},
   "outputs": [
    {
     "name": "stdout",
     "output_type": "stream",
     "text": [
      "Senior Executive (C-Suite, VP, etc.)\n",
      "Senior Executive (C-Suite, VP, etc.)\n"
     ]
    }
   ],
   "source": [
    "print(raw_df['DevType'].iloc[i])\n",
    "print(df['DevType'].iloc[i])"
   ]
  },
  {
   "cell_type": "code",
   "execution_count": 27,
   "metadata": {},
   "outputs": [
    {
     "data": {
      "text/plain": [
       "56082                                          Student\n",
       "3345                               Developer, back-end\n",
       "2499                           Other (please specify):\n",
       "59527                                              NaN\n",
       "23365                            Developer, full-stack\n",
       "64694                                              NaN\n",
       "20562    Data scientist or machine learning specialist\n",
       "38189                                Developer, mobile\n",
       "57398                              Developer, back-end\n",
       "38527                            Developer, full-stack\n",
       "Name: DevType, dtype: object"
      ]
     },
     "execution_count": 27,
     "metadata": {},
     "output_type": "execute_result"
    }
   ],
   "source": [
    "df['DevType'].sample(10)"
   ]
  },
  {
   "cell_type": "code",
   "execution_count": 28,
   "metadata": {},
   "outputs": [
    {
     "name": "stdout",
     "output_type": "stream",
     "text": [
      "17\n",
      "17.0\n"
     ]
    }
   ],
   "source": [
    "print(raw_df['YearsCodePro'].iloc[i])\n",
    "print(df['YearsCodePro'].iloc[i])"
   ]
  },
  {
   "cell_type": "code",
   "execution_count": 29,
   "metadata": {},
   "outputs": [
    {
     "name": "stderr",
     "output_type": "stream",
     "text": [
      "C:\\Users\\Yossef\\AppData\\Local\\Temp\\ipykernel_47296\\4188097624.py:6: PerformanceWarning: DataFrame is highly fragmented.  This is usually the result of calling `frame.insert` many times, which has poor performance.  Consider joining all columns at once using pd.concat(axis=1) instead. To get a de-fragmented frame, use `newframe = frame.copy()`\n",
      "  df['AgeGroup'] = pd.cut(df['Age'], bins=age_bins, labels=age_labels)\n"
     ]
    }
   ],
   "source": [
    "# Create age bins\n",
    "age_bins = [0, 20, 30, 40, 50, 60, 100]\n",
    "age_labels = ['<20', '20-30', '30-40', '40-50', '50-60', '>60']\n",
    "\n",
    "# Create age groups\n",
    "df['AgeGroup'] = pd.cut(df['Age'], bins=age_bins, labels=age_labels)"
   ]
  },
  {
   "cell_type": "code",
   "execution_count": 30,
   "metadata": {},
   "outputs": [
    {
     "data": {
      "text/html": [
       "<div>\n",
       "<style scoped>\n",
       "    .dataframe tbody tr th:only-of-type {\n",
       "        vertical-align: middle;\n",
       "    }\n",
       "\n",
       "    .dataframe tbody tr th {\n",
       "        vertical-align: top;\n",
       "    }\n",
       "\n",
       "    .dataframe thead th {\n",
       "        text-align: right;\n",
       "    }\n",
       "</style>\n",
       "<table border=\"1\" class=\"dataframe\">\n",
       "  <thead>\n",
       "    <tr style=\"text-align: right;\">\n",
       "      <th></th>\n",
       "      <th>ResponseId</th>\n",
       "      <th>MainBranch</th>\n",
       "      <th>Age</th>\n",
       "      <th>Employment</th>\n",
       "      <th>RemoteWork</th>\n",
       "      <th>Check</th>\n",
       "      <th>CodingActivities</th>\n",
       "      <th>EdLevel</th>\n",
       "      <th>LearnCode</th>\n",
       "      <th>LearnCodeOnline</th>\n",
       "      <th>...</th>\n",
       "      <th>JobSatPoints_7</th>\n",
       "      <th>JobSatPoints_8</th>\n",
       "      <th>JobSatPoints_9</th>\n",
       "      <th>JobSatPoints_10</th>\n",
       "      <th>JobSatPoints_11</th>\n",
       "      <th>SurveyLength</th>\n",
       "      <th>SurveyEase</th>\n",
       "      <th>ConvertedCompYearly</th>\n",
       "      <th>JobSat</th>\n",
       "      <th>AgeGroup</th>\n",
       "    </tr>\n",
       "  </thead>\n",
       "  <tbody>\n",
       "    <tr>\n",
       "      <th>0</th>\n",
       "      <td>1</td>\n",
       "      <td>I am a developer by profession</td>\n",
       "      <td>15.0</td>\n",
       "      <td>[Employed, full-time]</td>\n",
       "      <td>Remote</td>\n",
       "      <td>Apples</td>\n",
       "      <td>[Hobby]</td>\n",
       "      <td>Primary/elementary school</td>\n",
       "      <td>[Books / Physical media]</td>\n",
       "      <td>[]</td>\n",
       "      <td>...</td>\n",
       "      <td>NaN</td>\n",
       "      <td>NaN</td>\n",
       "      <td>NaN</td>\n",
       "      <td>NaN</td>\n",
       "      <td>NaN</td>\n",
       "      <td>NaN</td>\n",
       "      <td>NaN</td>\n",
       "      <td>NaN</td>\n",
       "      <td>NaN</td>\n",
       "      <td>&lt;20</td>\n",
       "    </tr>\n",
       "    <tr>\n",
       "      <th>1</th>\n",
       "      <td>2</td>\n",
       "      <td>I am a developer by profession</td>\n",
       "      <td>40.0</td>\n",
       "      <td>[Employed, full-time]</td>\n",
       "      <td>Remote</td>\n",
       "      <td>Apples</td>\n",
       "      <td>[Hobby, Contribute to open-source projects, Ot...</td>\n",
       "      <td>Bachelor’s degree (B.A., B.S., B.Eng., etc.)</td>\n",
       "      <td>[Books / Physical media, Colleague, On the job...</td>\n",
       "      <td>[Technical documentation, Blogs, Books, Writte...</td>\n",
       "      <td>...</td>\n",
       "      <td>0.0</td>\n",
       "      <td>0.0</td>\n",
       "      <td>0.0</td>\n",
       "      <td>0.0</td>\n",
       "      <td>0.0</td>\n",
       "      <td>NaN</td>\n",
       "      <td>NaN</td>\n",
       "      <td>NaN</td>\n",
       "      <td>NaN</td>\n",
       "      <td>30-40</td>\n",
       "    </tr>\n",
       "    <tr>\n",
       "      <th>2</th>\n",
       "      <td>3</td>\n",
       "      <td>I am a developer by profession</td>\n",
       "      <td>50.0</td>\n",
       "      <td>[Employed, full-time]</td>\n",
       "      <td>Remote</td>\n",
       "      <td>Apples</td>\n",
       "      <td>[Hobby, Contribute to open-source projects, Ot...</td>\n",
       "      <td>Master’s degree (M.A., M.S., M.Eng., MBA, etc.)</td>\n",
       "      <td>[Books / Physical media, Colleague, On the job...</td>\n",
       "      <td>[Technical documentation, Blogs, Books, Writte...</td>\n",
       "      <td>...</td>\n",
       "      <td>NaN</td>\n",
       "      <td>NaN</td>\n",
       "      <td>NaN</td>\n",
       "      <td>NaN</td>\n",
       "      <td>NaN</td>\n",
       "      <td>Appropriate in length</td>\n",
       "      <td>Easy</td>\n",
       "      <td>NaN</td>\n",
       "      <td>NaN</td>\n",
       "      <td>40-50</td>\n",
       "    </tr>\n",
       "    <tr>\n",
       "      <th>3</th>\n",
       "      <td>4</td>\n",
       "      <td>I am learning to code</td>\n",
       "      <td>20.0</td>\n",
       "      <td>[Student, full-time]</td>\n",
       "      <td>NaN</td>\n",
       "      <td>Apples</td>\n",
       "      <td>[]</td>\n",
       "      <td>Some college/university study without earning ...</td>\n",
       "      <td>[Other online resources (e.g., videos, blogs, ...</td>\n",
       "      <td>[Stack Overflow, How-to videos, Interactive tu...</td>\n",
       "      <td>...</td>\n",
       "      <td>NaN</td>\n",
       "      <td>NaN</td>\n",
       "      <td>NaN</td>\n",
       "      <td>NaN</td>\n",
       "      <td>NaN</td>\n",
       "      <td>Too long</td>\n",
       "      <td>Easy</td>\n",
       "      <td>NaN</td>\n",
       "      <td>NaN</td>\n",
       "      <td>&lt;20</td>\n",
       "    </tr>\n",
       "    <tr>\n",
       "      <th>4</th>\n",
       "      <td>5</td>\n",
       "      <td>I am a developer by profession</td>\n",
       "      <td>20.0</td>\n",
       "      <td>[Student, full-time]</td>\n",
       "      <td>NaN</td>\n",
       "      <td>Apples</td>\n",
       "      <td>[]</td>\n",
       "      <td>Secondary school (e.g. American high school, G...</td>\n",
       "      <td>[Other online resources (e.g., videos, blogs, ...</td>\n",
       "      <td>[Technical documentation, Blogs, Written Tutor...</td>\n",
       "      <td>...</td>\n",
       "      <td>NaN</td>\n",
       "      <td>NaN</td>\n",
       "      <td>NaN</td>\n",
       "      <td>NaN</td>\n",
       "      <td>NaN</td>\n",
       "      <td>Too short</td>\n",
       "      <td>Easy</td>\n",
       "      <td>NaN</td>\n",
       "      <td>NaN</td>\n",
       "      <td>&lt;20</td>\n",
       "    </tr>\n",
       "  </tbody>\n",
       "</table>\n",
       "<p>5 rows × 115 columns</p>\n",
       "</div>"
      ],
      "text/plain": [
       "   ResponseId                      MainBranch   Age             Employment  \\\n",
       "0           1  I am a developer by profession  15.0  [Employed, full-time]   \n",
       "1           2  I am a developer by profession  40.0  [Employed, full-time]   \n",
       "2           3  I am a developer by profession  50.0  [Employed, full-time]   \n",
       "3           4           I am learning to code  20.0   [Student, full-time]   \n",
       "4           5  I am a developer by profession  20.0   [Student, full-time]   \n",
       "\n",
       "  RemoteWork   Check                                   CodingActivities  \\\n",
       "0     Remote  Apples                                            [Hobby]   \n",
       "1     Remote  Apples  [Hobby, Contribute to open-source projects, Ot...   \n",
       "2     Remote  Apples  [Hobby, Contribute to open-source projects, Ot...   \n",
       "3        NaN  Apples                                                 []   \n",
       "4        NaN  Apples                                                 []   \n",
       "\n",
       "                                             EdLevel  \\\n",
       "0                          Primary/elementary school   \n",
       "1       Bachelor’s degree (B.A., B.S., B.Eng., etc.)   \n",
       "2    Master’s degree (M.A., M.S., M.Eng., MBA, etc.)   \n",
       "3  Some college/university study without earning ...   \n",
       "4  Secondary school (e.g. American high school, G...   \n",
       "\n",
       "                                           LearnCode  \\\n",
       "0                           [Books / Physical media]   \n",
       "1  [Books / Physical media, Colleague, On the job...   \n",
       "2  [Books / Physical media, Colleague, On the job...   \n",
       "3  [Other online resources (e.g., videos, blogs, ...   \n",
       "4  [Other online resources (e.g., videos, blogs, ...   \n",
       "\n",
       "                                     LearnCodeOnline  ... JobSatPoints_7  \\\n",
       "0                                                 []  ...            NaN   \n",
       "1  [Technical documentation, Blogs, Books, Writte...  ...            0.0   \n",
       "2  [Technical documentation, Blogs, Books, Writte...  ...            NaN   \n",
       "3  [Stack Overflow, How-to videos, Interactive tu...  ...            NaN   \n",
       "4  [Technical documentation, Blogs, Written Tutor...  ...            NaN   \n",
       "\n",
       "   JobSatPoints_8  JobSatPoints_9 JobSatPoints_10 JobSatPoints_11  \\\n",
       "0             NaN             NaN             NaN             NaN   \n",
       "1             0.0             0.0             0.0             0.0   \n",
       "2             NaN             NaN             NaN             NaN   \n",
       "3             NaN             NaN             NaN             NaN   \n",
       "4             NaN             NaN             NaN             NaN   \n",
       "\n",
       "            SurveyLength SurveyEase ConvertedCompYearly JobSat AgeGroup  \n",
       "0                    NaN        NaN                 NaN    NaN      <20  \n",
       "1                    NaN        NaN                 NaN    NaN    30-40  \n",
       "2  Appropriate in length       Easy                 NaN    NaN    40-50  \n",
       "3               Too long       Easy                 NaN    NaN      <20  \n",
       "4              Too short       Easy                 NaN    NaN      <20  \n",
       "\n",
       "[5 rows x 115 columns]"
      ]
     },
     "execution_count": 30,
     "metadata": {},
     "output_type": "execute_result"
    }
   ],
   "source": [
    "df.head()"
   ]
  },
  {
   "cell_type": "code",
   "execution_count": 31,
   "metadata": {},
   "outputs": [],
   "source": [
    "df.to_pickle(EXPORT_PATH)"
   ]
  },
  {
   "cell_type": "code",
   "execution_count": null,
   "metadata": {},
   "outputs": [],
   "source": []
  }
 ],
 "metadata": {
  "kernelspec": {
   "display_name": "base",
   "language": "python",
   "name": "python3"
  },
  "language_info": {
   "codemirror_mode": {
    "name": "ipython",
    "version": 3
   },
   "file_extension": ".py",
   "mimetype": "text/x-python",
   "name": "python",
   "nbconvert_exporter": "python",
   "pygments_lexer": "ipython3",
   "version": "3.12.4"
  }
 },
 "nbformat": 4,
 "nbformat_minor": 2
}
